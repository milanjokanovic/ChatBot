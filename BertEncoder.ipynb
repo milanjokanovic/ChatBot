{
 "cells": [
  {
   "cell_type": "code",
   "execution_count": 2,
   "id": "af82f1f5",
   "metadata": {},
   "outputs": [],
   "source": [
    "from transformers import pipeline\n",
    "import pandas as pd\n",
    "from sklearn.model_selection import train_test_split\n",
    "import torch\n",
    "from transformers import BertTokenizer, BertForPreTraining, BertModel"
   ]
  },
  {
   "cell_type": "code",
   "execution_count": 3,
   "id": "2ed95796",
   "metadata": {},
   "outputs": [
    {
     "data": {
      "text/html": [
       "<div>\n",
       "<style scoped>\n",
       "    .dataframe tbody tr th:only-of-type {\n",
       "        vertical-align: middle;\n",
       "    }\n",
       "\n",
       "    .dataframe tbody tr th {\n",
       "        vertical-align: top;\n",
       "    }\n",
       "\n",
       "    .dataframe thead th {\n",
       "        text-align: right;\n",
       "    }\n",
       "</style>\n",
       "<table border=\"1\" class=\"dataframe\">\n",
       "  <thead>\n",
       "    <tr style=\"text-align: right;\">\n",
       "      <th></th>\n",
       "      <th>User</th>\n",
       "      <th>Company</th>\n",
       "    </tr>\n",
       "  </thead>\n",
       "  <tbody>\n",
       "    <tr>\n",
       "      <th>0</th>\n",
       "      <td>Way to drop the ball on customer service @1158...</td>\n",
       "      <td>@115820 I'm sorry we've let you down! Without ...</td>\n",
       "    </tr>\n",
       "    <tr>\n",
       "      <th>1</th>\n",
       "      <td>@AmazonHelp 3 different people have given 3 di...</td>\n",
       "      <td>@115820 We'd like to take a further look into ...</td>\n",
       "    </tr>\n",
       "    <tr>\n",
       "      <th>2</th>\n",
       "      <td>@115823 I want my amazon payments account CLOS...</td>\n",
       "      <td>@115822 I am unable to affect your account via...</td>\n",
       "    </tr>\n",
       "    <tr>\n",
       "      <th>3</th>\n",
       "      <td>@115828 How about you guys figure out my Xbox ...</td>\n",
       "      <td>@115826 I'm sorry for the wait. You'll receive...</td>\n",
       "    </tr>\n",
       "    <tr>\n",
       "      <th>4</th>\n",
       "      <td>@AmazonHelp @115826 Yeah this is crazy we’re l...</td>\n",
       "      <td>@115827 Thanks for your patience. ^KM</td>\n",
       "    </tr>\n",
       "    <tr>\n",
       "      <th>...</th>\n",
       "      <td>...</td>\n",
       "      <td>...</td>\n",
       "    </tr>\n",
       "    <tr>\n",
       "      <th>131622</th>\n",
       "      <td>@AmazonHelp I sent you guys a DM regarding the...</td>\n",
       "      <td>@328597 We're unable to access customer accoun...</td>\n",
       "    </tr>\n",
       "    <tr>\n",
       "      <th>131623</th>\n",
       "      <td>This is happening in my area w/@115821 “Prime”...</td>\n",
       "      <td>@777901 I'm sorry for the delay, Brenda! We st...</td>\n",
       "    </tr>\n",
       "    <tr>\n",
       "      <th>131624</th>\n",
       "      <td>@132994 @132995 @115850 got my #OnePlus5T at 8...</td>\n",
       "      <td>@823783 Woohoo! That's awesome! Hope you love ...</td>\n",
       "    </tr>\n",
       "    <tr>\n",
       "      <th>131625</th>\n",
       "      <td>@115850 @132994 No exchange available for #One...</td>\n",
       "      <td>@823802 The Exchange Offer is currently availa...</td>\n",
       "    </tr>\n",
       "    <tr>\n",
       "      <th>131626</th>\n",
       "      <td>@115850  there should be bonus and gifts for r...</td>\n",
       "      <td>@823829 We do not have any such offer at this ...</td>\n",
       "    </tr>\n",
       "  </tbody>\n",
       "</table>\n",
       "<p>131248 rows × 2 columns</p>\n",
       "</div>"
      ],
      "text/plain": [
       "                                                     User  \\\n",
       "0       Way to drop the ball on customer service @1158...   \n",
       "1       @AmazonHelp 3 different people have given 3 di...   \n",
       "2       @115823 I want my amazon payments account CLOS...   \n",
       "3       @115828 How about you guys figure out my Xbox ...   \n",
       "4       @AmazonHelp @115826 Yeah this is crazy we’re l...   \n",
       "...                                                   ...   \n",
       "131622  @AmazonHelp I sent you guys a DM regarding the...   \n",
       "131623  This is happening in my area w/@115821 “Prime”...   \n",
       "131624  @132994 @132995 @115850 got my #OnePlus5T at 8...   \n",
       "131625  @115850 @132994 No exchange available for #One...   \n",
       "131626  @115850  there should be bonus and gifts for r...   \n",
       "\n",
       "                                                  Company  \n",
       "0       @115820 I'm sorry we've let you down! Without ...  \n",
       "1       @115820 We'd like to take a further look into ...  \n",
       "2       @115822 I am unable to affect your account via...  \n",
       "3       @115826 I'm sorry for the wait. You'll receive...  \n",
       "4                   @115827 Thanks for your patience. ^KM  \n",
       "...                                                   ...  \n",
       "131622  @328597 We're unable to access customer accoun...  \n",
       "131623  @777901 I'm sorry for the delay, Brenda! We st...  \n",
       "131624  @823783 Woohoo! That's awesome! Hope you love ...  \n",
       "131625  @823802 The Exchange Offer is currently availa...  \n",
       "131626  @823829 We do not have any such offer at this ...  \n",
       "\n",
       "[131248 rows x 2 columns]"
      ]
     },
     "execution_count": 3,
     "metadata": {},
     "output_type": "execute_result"
    }
   ],
   "source": [
    "df = pd.read_csv(\"dataset/amazon_data.csv\")\n",
    "df.dropna(inplace = True)\n",
    "df"
   ]
  },
  {
   "cell_type": "code",
   "execution_count": 10,
   "id": "b5f445ee",
   "metadata": {},
   "outputs": [
    {
     "name": "stderr",
     "output_type": "stream",
     "text": [
      "Some weights of the model checkpoint at bert-base-uncased were not used when initializing BertModel: ['cls.predictions.transform.dense.bias', 'cls.predictions.bias', 'cls.seq_relationship.bias', 'cls.predictions.transform.LayerNorm.bias', 'cls.predictions.transform.LayerNorm.weight', 'cls.seq_relationship.weight', 'cls.predictions.decoder.weight', 'cls.predictions.transform.dense.weight']\n",
      "- This IS expected if you are initializing BertModel from the checkpoint of a model trained on another task or with another architecture (e.g. initializing a BertForSequenceClassification model from a BertForPreTraining model).\n",
      "- This IS NOT expected if you are initializing BertModel from the checkpoint of a model that you expect to be exactly identical (initializing a BertForSequenceClassification model from a BertForSequenceClassification model).\n"
     ]
    },
    {
     "data": {
      "application/vnd.jupyter.widget-view+json": {
       "model_id": "3df5934993844e759dcff26140f2d371",
       "version_major": 2,
       "version_minor": 0
      },
      "text/plain": [
       "HBox(children=(FloatProgress(value=0.0, description='Downloading', max=466062.0, style=ProgressStyle(descripti…"
      ]
     },
     "metadata": {},
     "output_type": "display_data"
    },
    {
     "name": "stdout",
     "output_type": "stream",
     "text": [
      "\n"
     ]
    }
   ],
   "source": [
    "\n",
    "feature_extraction = pipeline('feature-extraction', model=\"bert-base-uncased\", tokenizer=\"bert-base-uncased\")\n",
    "features = feature_extraction([\"Hello I'm a single sentence\",\n",
    "                               \"And another sentence\",\n",
    "                               \"And the very very last one\"])"
   ]
  },
  {
   "cell_type": "code",
   "execution_count": 60,
   "id": "1f8312f3",
   "metadata": {},
   "outputs": [
    {
     "data": {
      "text/plain": [
       "263"
      ]
     },
     "execution_count": 60,
     "metadata": {},
     "output_type": "execute_result"
    }
   ],
   "source": [
    "len(features)"
   ]
  },
  {
   "cell_type": "code",
   "execution_count": 4,
   "id": "7bfc1d29",
   "metadata": {},
   "outputs": [],
   "source": [
    "train_data, test_data = train_test_split(df, test_size=0.0002, random_state=42)"
   ]
  },
  {
   "cell_type": "code",
   "execution_count": 5,
   "id": "c2be3271",
   "metadata": {},
   "outputs": [
    {
     "data": {
      "text/plain": [
       "27"
      ]
     },
     "execution_count": 5,
     "metadata": {},
     "output_type": "execute_result"
    }
   ],
   "source": [
    "len(test_data)"
   ]
  },
  {
   "cell_type": "code",
   "execution_count": 56,
   "id": "774ae706",
   "metadata": {},
   "outputs": [],
   "source": [
    "features = feature_extraction(list(test_data['User']))"
   ]
  },
  {
   "cell_type": "code",
   "execution_count": 7,
   "id": "f5e75bbc",
   "metadata": {},
   "outputs": [
    {
     "name": "stderr",
     "output_type": "stream",
     "text": [
      "d:\\projects\\python projects\\pythonproject-3.8\\venv\\lib\\site-packages\\cryptography\\hazmat\\backends\\openssl\\x509.py:14: CryptographyDeprecationWarning: This version of cryptography contains a temporary pyOpenSSL fallback path. Upgrade pyOpenSSL now.\n",
      "  warnings.warn(\n",
      "Some weights of the model checkpoint at bert-base-uncased were not used when initializing BertModel: ['cls.predictions.transform.dense.bias', 'cls.seq_relationship.bias', 'cls.predictions.decoder.weight', 'cls.predictions.bias', 'cls.predictions.transform.LayerNorm.bias', 'cls.seq_relationship.weight', 'cls.predictions.transform.dense.weight', 'cls.predictions.transform.LayerNorm.weight']\n",
      "- This IS expected if you are initializing BertModel from the checkpoint of a model trained on another task or with another architecture (e.g. initializing a BertForSequenceClassification model from a BertForPreTraining model).\n",
      "- This IS NOT expected if you are initializing BertModel from the checkpoint of a model that you expect to be exactly identical (initializing a BertForSequenceClassification model from a BertForSequenceClassification model).\n"
     ]
    }
   ],
   "source": [
    "tokenizer = BertTokenizer.from_pretrained(\"bert-base-uncased\")\n",
    "model = BertModel.from_pretrained(\"bert-base-uncased\")"
   ]
  },
  {
   "cell_type": "code",
   "execution_count": 12,
   "id": "c20bca83",
   "metadata": {},
   "outputs": [],
   "source": [
    "#inputs = tokenizer(list(test_data['User']), return_tensors=\"pt\",  truncation=True,padding=True)\n",
    "inputs = tokenizer(\"Hello, my dog is cute\", return_tensors=\"pt\")"
   ]
  },
  {
   "cell_type": "code",
   "execution_count": 13,
   "id": "b63b4f4c",
   "metadata": {},
   "outputs": [],
   "source": [
    "outputs = model(**inputs)\n",
    "last_hidden_states = outputs.last_hidden_state"
   ]
  },
  {
   "cell_type": "code",
   "execution_count": 14,
   "id": "c72a0c17",
   "metadata": {},
   "outputs": [
    {
     "data": {
      "text/plain": [
       "tensor([[[-0.1144,  0.1937,  0.1250,  ..., -0.3827,  0.2107,  0.5407],\n",
       "         [ 0.5308,  0.3207,  0.3665,  ..., -0.0036,  0.7579,  0.0388],\n",
       "         [-0.4877,  0.8849,  0.4256,  ..., -0.6976,  0.4458,  0.1231],\n",
       "         ...,\n",
       "         [-0.7003, -0.1815,  0.3297,  ..., -0.4838,  0.0680,  0.8901],\n",
       "         [-1.0355, -0.2567, -0.0317,  ...,  0.3197,  0.3999,  0.1795],\n",
       "         [ 0.6080,  0.2610, -0.3131,  ...,  0.0311, -0.6283, -0.1994]]],\n",
       "       grad_fn=<NativeLayerNormBackward0>)"
      ]
     },
     "execution_count": 14,
     "metadata": {},
     "output_type": "execute_result"
    }
   ],
   "source": [
    "last_hidden_states"
   ]
  },
  {
   "cell_type": "code",
   "execution_count": null,
   "id": "767be059",
   "metadata": {},
   "outputs": [],
   "source": []
  }
 ],
 "metadata": {
  "kernelspec": {
   "display_name": "Python 3 (ipykernel)",
   "language": "python",
   "name": "python3"
  },
  "language_info": {
   "codemirror_mode": {
    "name": "ipython",
    "version": 3
   },
   "file_extension": ".py",
   "mimetype": "text/x-python",
   "name": "python",
   "nbconvert_exporter": "python",
   "pygments_lexer": "ipython3",
   "version": "3.8.6"
  }
 },
 "nbformat": 4,
 "nbformat_minor": 5
}
