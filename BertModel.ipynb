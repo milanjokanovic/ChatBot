{
 "cells": [
  {
   "cell_type": "code",
   "execution_count": 13,
   "metadata": {},
   "outputs": [],
   "source": [
    "import pandas as pd\n",
    "import numpy as np\n",
    "import torch\n",
    "from transformers import BertForQuestionAnswering\n",
    "from transformers import BertTokenizer\n",
    "from sklearn.model_selection import train_test_split"
   ]
  },
  {
   "cell_type": "code",
   "execution_count": 11,
   "metadata": {},
   "outputs": [
    {
     "name": "stderr",
     "output_type": "stream",
     "text": [
      "Some weights of the model checkpoint at bert-base-uncased were not used when initializing BertForQuestionAnswering: ['cls.predictions.transform.LayerNorm.weight', 'cls.predictions.transform.dense.bias', 'cls.predictions.transform.dense.weight', 'cls.seq_relationship.weight', 'cls.predictions.decoder.weight', 'cls.predictions.bias', 'cls.seq_relationship.bias', 'cls.predictions.transform.LayerNorm.bias']\n",
      "- This IS expected if you are initializing BertForQuestionAnswering from the checkpoint of a model trained on another task or with another architecture (e.g. initializing a BertForSequenceClassification model from a BertForPreTraining model).\n",
      "- This IS NOT expected if you are initializing BertForQuestionAnswering from the checkpoint of a model that you expect to be exactly identical (initializing a BertForSequenceClassification model from a BertForSequenceClassification model).\n",
      "Some weights of BertForQuestionAnswering were not initialized from the model checkpoint at bert-base-uncased and are newly initialized: ['qa_outputs.weight', 'qa_outputs.bias']\n",
      "You should probably TRAIN this model on a down-stream task to be able to use it for predictions and inference.\n"
     ]
    }
   ],
   "source": [
    "tokenizer = BertTokenizer.from_pretrained(\"bert-base-uncased\")\n",
    "model = BertForQuestionAnswering.from_pretrained(\"bert-base-uncased\")"
   ]
  },
  {
   "cell_type": "code",
   "execution_count": 3,
   "metadata": {},
   "outputs": [],
   "source": [
    "question, text = \"Who was Jim Henson?\", \"Jim Henson was a nice puppet\"\n",
    "inputs = tokenizer(question, text, return_tensors=\"pt\")\n",
    "start_positions = torch.tensor([1])\n",
    "end_positions = torch.tensor([3])\n",
    "outputs = model(**inputs, start_positions=start_positions, end_positions=end_positions)\n",
    "loss = outputs.loss\n",
    "start_scores = outputs.start_logits\n",
    "end_scores = outputs.end_logits"
   ]
  },
  {
   "cell_type": "code",
   "execution_count": 5,
   "metadata": {},
   "outputs": [
    {
     "name": "stdout",
     "output_type": "stream",
     "text": [
      "tensor([[ 0.4227,  0.0370,  0.3075, -0.0382, -0.0138,  0.3623,  0.0157, -0.0264,\n",
      "          0.0104,  0.2433,  0.3268,  0.5673,  0.6411,  0.1038]],\n",
      "       grad_fn=<CloneBackward0>)\n",
      "tensor([[-0.1095, -0.0266,  0.0456, -0.0952,  0.1681,  0.1389,  0.1902,  0.0355,\n",
      "          0.2066,  0.0817, -0.0455,  0.1083,  0.2039,  0.3825]],\n",
      "       grad_fn=<CloneBackward0>)\n"
     ]
    }
   ],
   "source": [
    "print(start_scores)\n",
    "print(end_scores)"
   ]
  },
  {
   "cell_type": "code",
   "execution_count": 6,
   "metadata": {},
   "outputs": [
    {
     "name": "stdout",
     "output_type": "stream",
     "text": [
      "{'input_ids': tensor([[  101,  2040,  2001,  3958, 27227,  1029,   102,  3958, 27227,  2001,\n",
      "          1037,  3835, 13997,   102]]), 'token_type_ids': tensor([[0, 0, 0, 0, 0, 0, 0, 1, 1, 1, 1, 1, 1, 1]]), 'attention_mask': tensor([[1, 1, 1, 1, 1, 1, 1, 1, 1, 1, 1, 1, 1, 1]])}\n"
     ]
    }
   ],
   "source": [
    "print(inputs)"
   ]
  },
  {
   "cell_type": "code",
   "execution_count": 10,
   "metadata": {},
   "outputs": [],
   "source": [
    "model_pretrained = BertForQuestionAnswering.from_pretrained('bert-large-uncased-whole-word-masking-finetuned-squad')\n",
    "tokenizer_pretrained = BertTokenizer.from_pretrained('bert-large-uncased-whole-word-masking-finetuned-squad')"
   ]
  },
  {
   "cell_type": "code",
   "execution_count": 3,
   "metadata": {
    "scrolled": false
   },
   "outputs": [
    {
     "data": {
      "text/html": [
       "<div>\n",
       "<style scoped>\n",
       "    .dataframe tbody tr th:only-of-type {\n",
       "        vertical-align: middle;\n",
       "    }\n",
       "\n",
       "    .dataframe tbody tr th {\n",
       "        vertical-align: top;\n",
       "    }\n",
       "\n",
       "    .dataframe thead th {\n",
       "        text-align: right;\n",
       "    }\n",
       "</style>\n",
       "<table border=\"1\" class=\"dataframe\">\n",
       "  <thead>\n",
       "    <tr style=\"text-align: right;\">\n",
       "      <th></th>\n",
       "      <th>User</th>\n",
       "      <th>Company</th>\n",
       "    </tr>\n",
       "  </thead>\n",
       "  <tbody>\n",
       "    <tr>\n",
       "      <th>0</th>\n",
       "      <td>Way to drop the ball on customer service @1158...</td>\n",
       "      <td>@115820 I'm sorry we've let you down! Without ...</td>\n",
       "    </tr>\n",
       "    <tr>\n",
       "      <th>1</th>\n",
       "      <td>@AmazonHelp 3 different people have given 3 di...</td>\n",
       "      <td>@115820 We'd like to take a further look into ...</td>\n",
       "    </tr>\n",
       "    <tr>\n",
       "      <th>2</th>\n",
       "      <td>@115823 I want my amazon payments account CLOS...</td>\n",
       "      <td>@115822 I am unable to affect your account via...</td>\n",
       "    </tr>\n",
       "    <tr>\n",
       "      <th>3</th>\n",
       "      <td>@115828 How about you guys figure out my Xbox ...</td>\n",
       "      <td>@115826 I'm sorry for the wait. You'll receive...</td>\n",
       "    </tr>\n",
       "    <tr>\n",
       "      <th>4</th>\n",
       "      <td>@AmazonHelp @115826 Yeah this is crazy we’re l...</td>\n",
       "      <td>@115827 Thanks for your patience. ^KM</td>\n",
       "    </tr>\n",
       "    <tr>\n",
       "      <th>...</th>\n",
       "      <td>...</td>\n",
       "      <td>...</td>\n",
       "    </tr>\n",
       "    <tr>\n",
       "      <th>131604</th>\n",
       "      <td>@AmazonHelp I sent you guys a DM regarding the...</td>\n",
       "      <td>@328597 We're unable to access customer accoun...</td>\n",
       "    </tr>\n",
       "    <tr>\n",
       "      <th>131605</th>\n",
       "      <td>This is happening in my area w/@115821 “Prime”...</td>\n",
       "      <td>@777901 I'm sorry for the delay, Brenda! We st...</td>\n",
       "    </tr>\n",
       "    <tr>\n",
       "      <th>131606</th>\n",
       "      <td>@132994 @132995 @115850 got my #OnePlus5T at 8...</td>\n",
       "      <td>@823783 Woohoo! That's awesome! Hope you love ...</td>\n",
       "    </tr>\n",
       "    <tr>\n",
       "      <th>131607</th>\n",
       "      <td>@115850 @132994 No exchange available for #One...</td>\n",
       "      <td>@823802 The Exchange Offer is currently availa...</td>\n",
       "    </tr>\n",
       "    <tr>\n",
       "      <th>131608</th>\n",
       "      <td>@115850  there should be bonus and gifts for r...</td>\n",
       "      <td>@823829 We do not have any such offer at this ...</td>\n",
       "    </tr>\n",
       "  </tbody>\n",
       "</table>\n",
       "<p>131609 rows × 2 columns</p>\n",
       "</div>"
      ],
      "text/plain": [
       "                                                     User  \\\n",
       "0       Way to drop the ball on customer service @1158...   \n",
       "1       @AmazonHelp 3 different people have given 3 di...   \n",
       "2       @115823 I want my amazon payments account CLOS...   \n",
       "3       @115828 How about you guys figure out my Xbox ...   \n",
       "4       @AmazonHelp @115826 Yeah this is crazy we’re l...   \n",
       "...                                                   ...   \n",
       "131604  @AmazonHelp I sent you guys a DM regarding the...   \n",
       "131605  This is happening in my area w/@115821 “Prime”...   \n",
       "131606  @132994 @132995 @115850 got my #OnePlus5T at 8...   \n",
       "131607  @115850 @132994 No exchange available for #One...   \n",
       "131608  @115850  there should be bonus and gifts for r...   \n",
       "\n",
       "                                                  Company  \n",
       "0       @115820 I'm sorry we've let you down! Without ...  \n",
       "1       @115820 We'd like to take a further look into ...  \n",
       "2       @115822 I am unable to affect your account via...  \n",
       "3       @115826 I'm sorry for the wait. You'll receive...  \n",
       "4                   @115827 Thanks for your patience. ^KM  \n",
       "...                                                   ...  \n",
       "131604  @328597 We're unable to access customer accoun...  \n",
       "131605  @777901 I'm sorry for the delay, Brenda! We st...  \n",
       "131606  @823783 Woohoo! That's awesome! Hope you love ...  \n",
       "131607  @823802 The Exchange Offer is currently availa...  \n",
       "131608  @823829 We do not have any such offer at this ...  \n",
       "\n",
       "[131609 rows x 2 columns]"
      ]
     },
     "execution_count": 3,
     "metadata": {},
     "output_type": "execute_result"
    }
   ],
   "source": [
    "df = pd.read_csv(\"dataset/amazon_data.csv\")\n",
    "df"
   ]
  },
  {
   "cell_type": "code",
   "execution_count": 18,
   "metadata": {},
   "outputs": [],
   "source": [
    "train_data, test_data = train_test_split(df, test_size=0.2, random_state=42)\n",
    "merged_rows = train_data[train_data.columns].astype(str).apply(lambda x: ' '.join(x), axis = 1)"
   ]
  },
  {
   "cell_type": "code",
   "execution_count": 19,
   "metadata": {},
   "outputs": [],
   "source": [
    "text = \" \".join(list(merged_rows))"
   ]
  },
  {
   "cell_type": "code",
   "execution_count": 20,
   "metadata": {},
   "outputs": [
    {
     "data": {
      "text/plain": [
       "26550262"
      ]
     },
     "execution_count": 20,
     "metadata": {},
     "output_type": "execute_result"
    }
   ],
   "source": [
    "len(text)"
   ]
  },
  {
   "cell_type": "code",
   "execution_count": 22,
   "metadata": {},
   "outputs": [
    {
     "data": {
      "text/html": [
       "<div>\n",
       "<style scoped>\n",
       "    .dataframe tbody tr th:only-of-type {\n",
       "        vertical-align: middle;\n",
       "    }\n",
       "\n",
       "    .dataframe tbody tr th {\n",
       "        vertical-align: top;\n",
       "    }\n",
       "\n",
       "    .dataframe thead th {\n",
       "        text-align: right;\n",
       "    }\n",
       "</style>\n",
       "<table border=\"1\" class=\"dataframe\">\n",
       "  <thead>\n",
       "    <tr style=\"text-align: right;\">\n",
       "      <th></th>\n",
       "      <th>User</th>\n",
       "      <th>Company</th>\n",
       "      <th>Text_Data</th>\n",
       "    </tr>\n",
       "  </thead>\n",
       "  <tbody>\n",
       "    <tr>\n",
       "      <th>122933</th>\n",
       "      <td>I think amazon delivered my order to the wrong...</td>\n",
       "      <td>@782783 I'm sorry for the trouble! I know how ...</td>\n",
       "      <td>I think amazon delivered my order to the wrong...</td>\n",
       "    </tr>\n",
       "    <tr>\n",
       "      <th>42859</th>\n",
       "      <td>@115850 @AmazonHelp @AmazonHelp I cancelled an...</td>\n",
       "      <td>@305441 on ensuring that such instances aren't...</td>\n",
       "      <td>I think amazon delivered my order to the wrong...</td>\n",
       "    </tr>\n",
       "    <tr>\n",
       "      <th>104375</th>\n",
       "      <td>@AmazonHelp Order number 3128 is going to arri...</td>\n",
       "      <td>@647669 I'm positive the product would be deli...</td>\n",
       "      <td>I think amazon delivered my order to the wrong...</td>\n",
       "    </tr>\n",
       "    <tr>\n",
       "      <th>99068</th>\n",
       "      <td>I ordered 18x18 pillows on @115821 prime then ...</td>\n",
       "      <td>@645659 Hm. That's strange! Were the items bei...</td>\n",
       "      <td>I think amazon delivered my order to the wrong...</td>\n",
       "    </tr>\n",
       "    <tr>\n",
       "      <th>56767</th>\n",
       "      <td>@AmazonHelp my right address and zipcode!</td>\n",
       "      <td>@364938 Can you please confirm who the carrier...</td>\n",
       "      <td>I think amazon delivered my order to the wrong...</td>\n",
       "    </tr>\n",
       "    <tr>\n",
       "      <th>...</th>\n",
       "      <td>...</td>\n",
       "      <td>...</td>\n",
       "      <td>...</td>\n",
       "    </tr>\n",
       "    <tr>\n",
       "      <th>54886</th>\n",
       "      <td>@115850 But I added the product in my cart and...</td>\n",
       "      <td>@254639 Please get in touch with our team usin...</td>\n",
       "      <td>I think amazon delivered my order to the wrong...</td>\n",
       "    </tr>\n",
       "    <tr>\n",
       "      <th>110268</th>\n",
       "      <td>@AmazonHelp No, no reply to my email as yet. I...</td>\n",
       "      <td>@705551 Hi Ruth, glad to hear that you've been...</td>\n",
       "      <td>I think amazon delivered my order to the wrong...</td>\n",
       "    </tr>\n",
       "    <tr>\n",
       "      <th>119879</th>\n",
       "      <td>@AmazonHelp Yes, but you don't want it\\rAlso y...</td>\n",
       "      <td>@763955 You can get directly in contact with u...</td>\n",
       "      <td>I think amazon delivered my order to the wrong...</td>\n",
       "    </tr>\n",
       "    <tr>\n",
       "      <th>103694</th>\n",
       "      <td>@AmazonHelp I just pre-ordered it THANK YOU SO...</td>\n",
       "      <td>@147108 You're always more than welcome. Our h...</td>\n",
       "      <td>I think amazon delivered my order to the wrong...</td>\n",
       "    </tr>\n",
       "    <tr>\n",
       "      <th>121958</th>\n",
       "      <td>@AmazonHelp I have not had the chance as I jus...</td>\n",
       "      <td>@220514 Thanks for letting us know! You can re...</td>\n",
       "      <td>I think amazon delivered my order to the wrong...</td>\n",
       "    </tr>\n",
       "  </tbody>\n",
       "</table>\n",
       "<p>105287 rows × 3 columns</p>\n",
       "</div>"
      ],
      "text/plain": [
       "                                                     User  \\\n",
       "122933  I think amazon delivered my order to the wrong...   \n",
       "42859   @115850 @AmazonHelp @AmazonHelp I cancelled an...   \n",
       "104375  @AmazonHelp Order number 3128 is going to arri...   \n",
       "99068   I ordered 18x18 pillows on @115821 prime then ...   \n",
       "56767           @AmazonHelp my right address and zipcode!   \n",
       "...                                                   ...   \n",
       "54886   @115850 But I added the product in my cart and...   \n",
       "110268  @AmazonHelp No, no reply to my email as yet. I...   \n",
       "119879  @AmazonHelp Yes, but you don't want it\\rAlso y...   \n",
       "103694  @AmazonHelp I just pre-ordered it THANK YOU SO...   \n",
       "121958  @AmazonHelp I have not had the chance as I jus...   \n",
       "\n",
       "                                                  Company  \\\n",
       "122933  @782783 I'm sorry for the trouble! I know how ...   \n",
       "42859   @305441 on ensuring that such instances aren't...   \n",
       "104375  @647669 I'm positive the product would be deli...   \n",
       "99068   @645659 Hm. That's strange! Were the items bei...   \n",
       "56767   @364938 Can you please confirm who the carrier...   \n",
       "...                                                   ...   \n",
       "54886   @254639 Please get in touch with our team usin...   \n",
       "110268  @705551 Hi Ruth, glad to hear that you've been...   \n",
       "119879  @763955 You can get directly in contact with u...   \n",
       "103694  @147108 You're always more than welcome. Our h...   \n",
       "121958  @220514 Thanks for letting us know! You can re...   \n",
       "\n",
       "                                                Text_Data  \n",
       "122933  I think amazon delivered my order to the wrong...  \n",
       "42859   I think amazon delivered my order to the wrong...  \n",
       "104375  I think amazon delivered my order to the wrong...  \n",
       "99068   I think amazon delivered my order to the wrong...  \n",
       "56767   I think amazon delivered my order to the wrong...  \n",
       "...                                                   ...  \n",
       "54886   I think amazon delivered my order to the wrong...  \n",
       "110268  I think amazon delivered my order to the wrong...  \n",
       "119879  I think amazon delivered my order to the wrong...  \n",
       "103694  I think amazon delivered my order to the wrong...  \n",
       "121958  I think amazon delivered my order to the wrong...  \n",
       "\n",
       "[105287 rows x 3 columns]"
      ]
     },
     "execution_count": 22,
     "metadata": {},
     "output_type": "execute_result"
    }
   ],
   "source": [
    "train_data['Text_Data'] = text\n",
    "test_data['Text_Data'] = text\n",
    "train_data"
   ]
  },
  {
   "cell_type": "code",
   "execution_count": 37,
   "metadata": {},
   "outputs": [],
   "source": [
    "row_questions = list(train_data['User'][:10])\n",
    "row_text = list(train_data['User'][:10])\n",
    "data_encoded = tokenizer_pretrained.encode(row_questions, row_text)\n",
    "#print(data_encoded)\n",
    "data_decoded = tokenizer_pretrained.decode(data_encoded)\n",
    "#print(data_decoded)"
   ]
  },
  {
   "cell_type": "code",
   "execution_count": 38,
   "metadata": {},
   "outputs": [
    {
     "name": "stdout",
     "output_type": "stream",
     "text": [
      "[101, 100, 100, 100, 100, 100, 100, 100, 100, 100, 100, 102, 100, 100, 100, 100, 100, 100, 100, 100, 100, 100, 102]\n",
      "[CLS] [UNK] [UNK] [UNK] [UNK] [UNK] [UNK] [UNK] [UNK] [UNK] [UNK] [SEP] [UNK] [UNK] [UNK] [UNK] [UNK] [UNK] [UNK] [UNK] [UNK] [UNK] [SEP]\n"
     ]
    }
   ],
   "source": [
    "print(data_encoded)\n",
    "print(data_decoded)"
   ]
  },
  {
   "cell_type": "code",
   "execution_count": 36,
   "metadata": {},
   "outputs": [
    {
     "data": {
      "text/plain": [
       "['I think amazon delivered my order to the wrong mailbox and imma cry, i need it for thanksgiving 😩😩😩😩',\n",
       " '@115850 @AmazonHelp @AmazonHelp I cancelled and Ordered the same product through @118702.\\nI hope they dont follow the same practice.',\n",
       " \"@AmazonHelp Order number 3128 is going to arrive today, let's see you people have enough potential to make this delivery a successful one or not😊👍\",\n",
       " 'I ordered 18x18 pillows on @115821 prime then why does it say its prime when they are coming from China?  🤦🏼\\u200d♀️',\n",
       " '@AmazonHelp my right address and zipcode!',\n",
       " '@AmazonHelp yesterday via twitter. As we heard nothing, we emailed. You need to seriously think about @122232 and whether should use them.',\n",
       " \"@AmazonHelp I did contact the same and I'm getting no useful reply. I just want a genuine answer from you\",\n",
       " '@115830 so much for next day delivery - I am on day 2 and still my parcel has not been despatched despite chatting twice with your team?',\n",
       " '@AmazonHelp You people always escalated issue and for another 24 hours.kindly do something substantial.still issue is unresolved. such a poor service.',\n",
       " 'Does amazon prefer fake review ? why my genuine review has been not published ? @115851 @115821 @115850 @AmazonHelp https://t.co/0JifE4by3D']"
      ]
     },
     "execution_count": 36,
     "metadata": {},
     "output_type": "execute_result"
    }
   ],
   "source": [
    "row = list(train_data['User'][:10])\n",
    "row"
   ]
  },
  {
   "cell_type": "code",
   "execution_count": 39,
   "metadata": {},
   "outputs": [
    {
     "data": {
      "application/vnd.jupyter.widget-view+json": {
       "model_id": "40ba3eed646b4046b8b93aaee50a0800",
       "version_major": 2,
       "version_minor": 0
      },
      "text/plain": [
       "Downloading:   0%|          | 0.00/826k [00:00<?, ?B/s]"
      ]
     },
     "metadata": {},
     "output_type": "display_data"
    },
    {
     "data": {
      "application/vnd.jupyter.widget-view+json": {
       "model_id": "205faadaada64a1aa941fe9560fb89d0",
       "version_major": 2,
       "version_minor": 0
      },
      "text/plain": [
       "Downloading:   0%|          | 0.00/500 [00:00<?, ?B/s]"
      ]
     },
     "metadata": {},
     "output_type": "display_data"
    },
    {
     "data": {
      "application/vnd.jupyter.widget-view+json": {
       "model_id": "5d15b2a6cab24e4c8d5a736981ac2fd8",
       "version_major": 2,
       "version_minor": 0
      },
      "text/plain": [
       "Downloading:   0%|          | 0.00/1.32G [00:00<?, ?B/s]"
      ]
     },
     "metadata": {},
     "output_type": "display_data"
    }
   ],
   "source": [
    "from transformers import BertGenerationTokenizer, BertGenerationEncoder\n",
    "\n",
    "#sentence_fuser = EncoderDecoderModel.from_pretrained(\"google/roberta2roberta_L-24_discofuse\")\n",
    "tokenizer = BertGenerationTokenizer.from_pretrained(\"google/bert_for_seq_generation_L-24_bbc_encoder\")\n",
    "model = BertGenerationEncoder.from_pretrained(\"google/bert_for_seq_generation_L-24_bbc_encoder\")\n",
    "\n",
    "inputs = tokenizer(\"Hello, my dog is cute\", return_tensors=\"pt\")\n",
    "outputs = model(**inputs)\n",
    "\n",
    "last_hidden_states = outputs.last_hidden_state"
   ]
  },
  {
   "cell_type": "code",
   "execution_count": 40,
   "metadata": {},
   "outputs": [
    {
     "data": {
      "text/plain": [
       "tensor([[[-0.2266, -0.3594, -0.5205,  ..., -0.2420, -0.0745,  0.1840],\n",
       "         [ 0.0439, -0.0053, -0.0651,  ..., -0.0555,  0.2638,  0.1241],\n",
       "         [ 0.0439, -0.0053, -0.0651,  ..., -0.0555,  0.2638,  0.1241],\n",
       "         [-0.5158, -1.4121,  0.0573,  ..., -0.3035,  0.3464, -0.1623],\n",
       "         [-0.0948, -1.0221,  0.3417,  ...,  0.1595,  0.2193,  0.4579],\n",
       "         [-0.3677, -1.2449,  0.1894,  ...,  0.1278,  0.6253,  0.3886]]],\n",
       "       grad_fn=<NativeLayerNormBackward0>)"
      ]
     },
     "execution_count": 40,
     "metadata": {},
     "output_type": "execute_result"
    }
   ],
   "source": [
    "last_hidden_states"
   ]
  },
  {
   "cell_type": "code",
   "execution_count": null,
   "metadata": {},
   "outputs": [],
   "source": []
  }
 ],
 "metadata": {
  "kernelspec": {
   "display_name": "Python 3 (ipykernel)",
   "language": "python",
   "name": "python3"
  },
  "language_info": {
   "codemirror_mode": {
    "name": "ipython",
    "version": 3
   },
   "file_extension": ".py",
   "mimetype": "text/x-python",
   "name": "python",
   "nbconvert_exporter": "python",
   "pygments_lexer": "ipython3",
   "version": "3.8.6"
  }
 },
 "nbformat": 4,
 "nbformat_minor": 2
}
