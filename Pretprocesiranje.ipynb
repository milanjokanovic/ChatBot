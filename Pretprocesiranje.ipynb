{
 "cells": [
  {
   "cell_type": "code",
   "execution_count": 84,
   "id": "8f5dfccc",
   "metadata": {},
   "outputs": [],
   "source": [
    "import pandas as pd\n",
    "import re"
   ]
  },
  {
   "cell_type": "code",
   "execution_count": 86,
   "id": "3bb479e0",
   "metadata": {},
   "outputs": [
    {
     "data": {
      "text/html": [
       "<div>\n",
       "<style scoped>\n",
       "    .dataframe tbody tr th:only-of-type {\n",
       "        vertical-align: middle;\n",
       "    }\n",
       "\n",
       "    .dataframe tbody tr th {\n",
       "        vertical-align: top;\n",
       "    }\n",
       "\n",
       "    .dataframe thead th {\n",
       "        text-align: right;\n",
       "    }\n",
       "</style>\n",
       "<table border=\"1\" class=\"dataframe\">\n",
       "  <thead>\n",
       "    <tr style=\"text-align: right;\">\n",
       "      <th></th>\n",
       "      <th>User</th>\n",
       "      <th>Company</th>\n",
       "    </tr>\n",
       "  </thead>\n",
       "  <tbody>\n",
       "    <tr>\n",
       "      <th>5720</th>\n",
       "      <td>@AskPlayStation  reset a password butevery tim...</td>\n",
       "      <td>@330086 Hello Jack. Let's look into that. Plea...</td>\n",
       "    </tr>\n",
       "    <tr>\n",
       "      <th>11731</th>\n",
       "      <td>@AskPlayStation I can't access my PSN account ...</td>\n",
       "      <td>@606789 Sorry to know that. Do you see any kin...</td>\n",
       "    </tr>\n",
       "    <tr>\n",
       "      <th>9647</th>\n",
       "      <td>@AskPlayStation ps+ 14 day trial unavailable b...</td>\n",
       "      <td>@470874 Hi. Free trials are for first time use...</td>\n",
       "    </tr>\n",
       "    <tr>\n",
       "      <th>14776</th>\n",
       "      <td>@AskPlayStation HI I have a problem with  add ...</td>\n",
       "      <td>@745534 Here to assist! Please check the infor...</td>\n",
       "    </tr>\n",
       "    <tr>\n",
       "      <th>11316</th>\n",
       "      <td>@AskPlayStation can you help me please. I have...</td>\n",
       "      <td>@245419 Hello there! Is the issue happening wi...</td>\n",
       "    </tr>\n",
       "    <tr>\n",
       "      <th>10532</th>\n",
       "      <td>@AskPlayStation Hi! Getting error codes 5 and ...</td>\n",
       "      <td>@502338 Hi Courtney!  For in-game error codes ...</td>\n",
       "    </tr>\n",
       "    <tr>\n",
       "      <th>15220</th>\n",
       "      <td>@AskPlayStation Please Help! I need someone to...</td>\n",
       "      <td>@759004 Hi Ronnie! Check out the next article ...</td>\n",
       "    </tr>\n",
       "    <tr>\n",
       "      <th>9410</th>\n",
       "      <td>@AskPlayStation My ps4 stuck in safe mood I ev...</td>\n",
       "      <td>@461128 Hello there. Let's look into that. Sta...</td>\n",
       "    </tr>\n",
       "    <tr>\n",
       "      <th>1249</th>\n",
       "      <td>@AskPlayStation Alright that guys that did the...</td>\n",
       "      <td>@172970 Glad to read that! I wish you enjoy th...</td>\n",
       "    </tr>\n",
       "    <tr>\n",
       "      <th>2227</th>\n",
       "      <td>@AskPlayStation My bank blocked a purchase on ...</td>\n",
       "      <td>@195988 Hello! If the purchase was a PS plus s...</td>\n",
       "    </tr>\n",
       "  </tbody>\n",
       "</table>\n",
       "</div>"
      ],
      "text/plain": [
       "                                                    User  \\\n",
       "5720   @AskPlayStation  reset a password butevery tim...   \n",
       "11731  @AskPlayStation I can't access my PSN account ...   \n",
       "9647   @AskPlayStation ps+ 14 day trial unavailable b...   \n",
       "14776  @AskPlayStation HI I have a problem with  add ...   \n",
       "11316  @AskPlayStation can you help me please. I have...   \n",
       "10532  @AskPlayStation Hi! Getting error codes 5 and ...   \n",
       "15220  @AskPlayStation Please Help! I need someone to...   \n",
       "9410   @AskPlayStation My ps4 stuck in safe mood I ev...   \n",
       "1249   @AskPlayStation Alright that guys that did the...   \n",
       "2227   @AskPlayStation My bank blocked a purchase on ...   \n",
       "\n",
       "                                                 Company  \n",
       "5720   @330086 Hello Jack. Let's look into that. Plea...  \n",
       "11731  @606789 Sorry to know that. Do you see any kin...  \n",
       "9647   @470874 Hi. Free trials are for first time use...  \n",
       "14776  @745534 Here to assist! Please check the infor...  \n",
       "11316  @245419 Hello there! Is the issue happening wi...  \n",
       "10532  @502338 Hi Courtney!  For in-game error codes ...  \n",
       "15220  @759004 Hi Ronnie! Check out the next article ...  \n",
       "9410   @461128 Hello there. Let's look into that. Sta...  \n",
       "1249   @172970 Glad to read that! I wish you enjoy th...  \n",
       "2227   @195988 Hello! If the purchase was a PS plus s...  "
      ]
     },
     "execution_count": 86,
     "metadata": {},
     "output_type": "execute_result"
    }
   ],
   "source": [
    "data = pd.read_csv('dataset/ask_play_station_preprocessed.csv')\n",
    "data.sample(10)"
   ]
  },
  {
   "cell_type": "code",
   "execution_count": 87,
   "id": "b05e8adf",
   "metadata": {},
   "outputs": [],
   "source": [
    "for i, row in data.iterrows():\n",
    "    company_response_parts = row.Company.split('.')\n",
    "\n",
    "    if(len(company_response_parts) > 1 and company_response_parts[1] != ''):\n",
    "        row.Company = ' '.join(company_response_parts[1:])\n",
    "    else:\n",
    "        company_response_parts_exc = row.Company.split('!')\n",
    "        if(len(company_response_parts_exc) > 1):\n",
    "            if(company_response_parts_exc[1] != ''):\n",
    "                row.Company = ' '.join(company_response_parts_exc[1:])\n"
   ]
  },
  {
   "cell_type": "code",
   "execution_count": 88,
   "id": "e0ee6f72",
   "metadata": {},
   "outputs": [],
   "source": [
    "#data.to_csv('dataset/test_ideja.csv')"
   ]
  },
  {
   "cell_type": "code",
   "execution_count": 89,
   "id": "4cead251",
   "metadata": {},
   "outputs": [
    {
     "data": {
      "text/html": [
       "<div>\n",
       "<style scoped>\n",
       "    .dataframe tbody tr th:only-of-type {\n",
       "        vertical-align: middle;\n",
       "    }\n",
       "\n",
       "    .dataframe tbody tr th {\n",
       "        vertical-align: top;\n",
       "    }\n",
       "\n",
       "    .dataframe thead th {\n",
       "        text-align: right;\n",
       "    }\n",
       "</style>\n",
       "<table border=\"1\" class=\"dataframe\">\n",
       "  <thead>\n",
       "    <tr style=\"text-align: right;\">\n",
       "      <th></th>\n",
       "      <th>User</th>\n",
       "      <th>Company</th>\n",
       "    </tr>\n",
       "  </thead>\n",
       "  <tbody>\n",
       "    <tr>\n",
       "      <th>9038</th>\n",
       "      <td>@AskPlayStation, I'm having so many problems t...</td>\n",
       "      <td>Do you see an error code or message?</td>\n",
       "    </tr>\n",
       "    <tr>\n",
       "      <th>2969</th>\n",
       "      <td>@AskPlayStation any update on a fix error E-80...</td>\n",
       "      <td>Please check your Direct messages</td>\n",
       "    </tr>\n",
       "    <tr>\n",
       "      <th>1570</th>\n",
       "      <td>@AskPlayStation whatÃ¢ÂÂs wrong with the Pla...</td>\n",
       "      <td>Please provide us with details of the issue y...</td>\n",
       "    </tr>\n",
       "    <tr>\n",
       "      <th>4352</th>\n",
       "      <td>@AskPlayStation Im trying to sign in with my a...</td>\n",
       "      <td>Please verify your account has its own local ...</td>\n",
       "    </tr>\n",
       "    <tr>\n",
       "      <th>513</th>\n",
       "      <td>@AskPlayStation Following ... Thanks</td>\n",
       "      <td>@144043 We have sent you a DM.</td>\n",
       "    </tr>\n",
       "    <tr>\n",
       "      <th>2195</th>\n",
       "      <td>@AskPlayStation Hi. PS Plus code isn't working...</td>\n",
       "      <td>Please follow us and send us a direct message...</td>\n",
       "    </tr>\n",
       "    <tr>\n",
       "      <th>8286</th>\n",
       "      <td>@AskPlayStation Any reason why all my games ar...</td>\n",
       "      <td>Please go to Safe Mode and select Restore Def...</td>\n",
       "    </tr>\n",
       "    <tr>\n",
       "      <th>13265</th>\n",
       "      <td>@AskPlayStation I will try that asap and if th...</td>\n",
       "      <td>@685956 We are here to help you out whenever y...</td>\n",
       "    </tr>\n",
       "    <tr>\n",
       "      <th>10873</th>\n",
       "      <td>@AskPlayStation Hello , i'm having issues addi...</td>\n",
       "      <td>Would you be so kind to try these steps: URL...</td>\n",
       "    </tr>\n",
       "    <tr>\n",
       "      <th>4454</th>\n",
       "      <td>@AskPlayStation and is there a way i can choos...</td>\n",
       "      <td>Please follow the next link for further info ...</td>\n",
       "    </tr>\n",
       "  </tbody>\n",
       "</table>\n",
       "</div>"
      ],
      "text/plain": [
       "                                                    User  \\\n",
       "9038   @AskPlayStation, I'm having so many problems t...   \n",
       "2969   @AskPlayStation any update on a fix error E-80...   \n",
       "1570   @AskPlayStation whatÃ¢ÂÂs wrong with the Pla...   \n",
       "4352   @AskPlayStation Im trying to sign in with my a...   \n",
       "513                 @AskPlayStation Following ... Thanks   \n",
       "2195   @AskPlayStation Hi. PS Plus code isn't working...   \n",
       "8286   @AskPlayStation Any reason why all my games ar...   \n",
       "13265  @AskPlayStation I will try that asap and if th...   \n",
       "10873  @AskPlayStation Hello , i'm having issues addi...   \n",
       "4454   @AskPlayStation and is there a way i can choos...   \n",
       "\n",
       "                                                 Company  \n",
       "9038                Do you see an error code or message?  \n",
       "2969                  Please check your Direct messages   \n",
       "1570    Please provide us with details of the issue y...  \n",
       "4352    Please verify your account has its own local ...  \n",
       "513                       @144043 We have sent you a DM.  \n",
       "2195    Please follow us and send us a direct message...  \n",
       "8286    Please go to Safe Mode and select Restore Def...  \n",
       "13265  @685956 We are here to help you out whenever y...  \n",
       "10873    Would you be so kind to try these steps: URL...  \n",
       "4454    Please follow the next link for further info ...  "
      ]
     },
     "execution_count": 89,
     "metadata": {},
     "output_type": "execute_result"
    }
   ],
   "source": [
    "data.sample(10)"
   ]
  },
  {
   "cell_type": "code",
   "execution_count": 90,
   "id": "b649fc40",
   "metadata": {},
   "outputs": [
    {
     "data": {
      "text/plain": [
       "\"@AskPlayStation And it didn't work. I then waited 5 minutes and now its working. What is happening 2/2\""
      ]
     },
     "execution_count": 90,
     "metadata": {},
     "output_type": "execute_result"
    }
   ],
   "source": [
    "data.User[5814]"
   ]
  },
  {
   "cell_type": "code",
   "execution_count": 97,
   "id": "e1159bd9",
   "metadata": {},
   "outputs": [],
   "source": [
    " for index, row in data.iterrows():\n",
    "        row[0] = re.sub(r'@\\w+', \"\", str(row[0]))\n",
    "        row[1] = re.sub(r'@\\w+', \"\", str(row[1]))"
   ]
  },
  {
   "cell_type": "code",
   "execution_count": 98,
   "id": "11c3a056",
   "metadata": {},
   "outputs": [
    {
     "data": {
      "text/plain": [
       "\" And it didn't work. I then waited 5 minutes and now its working. What is happening 2/2\""
      ]
     },
     "execution_count": 98,
     "metadata": {},
     "output_type": "execute_result"
    }
   ],
   "source": [
    "data.User[5814]"
   ]
  },
  {
   "cell_type": "code",
   "execution_count": 99,
   "id": "4002df6c",
   "metadata": {},
   "outputs": [],
   "source": [
    "data.to_csv('dataset/test_ideja.csv', index=False)"
   ]
  },
  {
   "cell_type": "code",
   "execution_count": null,
   "id": "0c722de3",
   "metadata": {},
   "outputs": [],
   "source": []
  }
 ],
 "metadata": {
  "kernelspec": {
   "display_name": "Python 3 (ipykernel)",
   "language": "python",
   "name": "python3"
  },
  "language_info": {
   "codemirror_mode": {
    "name": "ipython",
    "version": 3
   },
   "file_extension": ".py",
   "mimetype": "text/x-python",
   "name": "python",
   "nbconvert_exporter": "python",
   "pygments_lexer": "ipython3",
   "version": "3.10.4"
  }
 },
 "nbformat": 4,
 "nbformat_minor": 5
}
