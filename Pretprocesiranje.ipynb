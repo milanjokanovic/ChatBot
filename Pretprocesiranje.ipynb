{
 "cells": [
  {
   "cell_type": "code",
   "execution_count": 1,
   "id": "8f5dfccc",
   "metadata": {},
   "outputs": [],
   "source": [
    "import pandas as pd\n",
    "import re"
   ]
  },
  {
   "cell_type": "code",
   "execution_count": 2,
   "id": "3bb479e0",
   "metadata": {},
   "outputs": [
    {
     "data": {
      "text/html": [
       "<div>\n",
       "<style scoped>\n",
       "    .dataframe tbody tr th:only-of-type {\n",
       "        vertical-align: middle;\n",
       "    }\n",
       "\n",
       "    .dataframe tbody tr th {\n",
       "        vertical-align: top;\n",
       "    }\n",
       "\n",
       "    .dataframe thead th {\n",
       "        text-align: right;\n",
       "    }\n",
       "</style>\n",
       "<table border=\"1\" class=\"dataframe\">\n",
       "  <thead>\n",
       "    <tr style=\"text-align: right;\">\n",
       "      <th></th>\n",
       "      <th>User</th>\n",
       "      <th>Company</th>\n",
       "    </tr>\n",
       "  </thead>\n",
       "  <tbody>\n",
       "    <tr>\n",
       "      <th>2170</th>\n",
       "      <td>@Uber_Support Thanks, I have just done this. I...</td>\n",
       "      <td>@120098 Happy to further assist you, Jenna! Se...</td>\n",
       "    </tr>\n",
       "    <tr>\n",
       "      <th>1502</th>\n",
       "      <td>Whats wrong with you @115858? I can't believe ...</td>\n",
       "      <td>@123385 We're here to help. Let's take this to...</td>\n",
       "    </tr>\n",
       "    <tr>\n",
       "      <th>17324</th>\n",
       "      <td>Why do you make peak trains super expensive wh...</td>\n",
       "      <td>@134107 Hi Imogen. Sorry for the busy conditio...</td>\n",
       "    </tr>\n",
       "    <tr>\n",
       "      <th>4204</th>\n",
       "      <td>@Delta Thanks</td>\n",
       "      <td>@126385 Terry, both of you are listed for the ...</td>\n",
       "    </tr>\n",
       "    <tr>\n",
       "      <th>17083</th>\n",
       "      <td>@GWRHelp poor cs Jason Ness Manager! please re...</td>\n",
       "      <td>@132688 Hi Sarah. What is this in relation to ...</td>\n",
       "    </tr>\n",
       "    <tr>\n",
       "      <th>11405</th>\n",
       "      <td>@VirginTrains just to check - if I have an off...</td>\n",
       "      <td>@138498 On any Off Peak train yes. ^PA</td>\n",
       "    </tr>\n",
       "    <tr>\n",
       "      <th>8379</th>\n",
       "      <td>@comcastcares how do I find out why my interne...</td>\n",
       "      <td>@131880 I apologize for the disruption in your...</td>\n",
       "    </tr>\n",
       "    <tr>\n",
       "      <th>2934</th>\n",
       "      <td>@SpotifyCares is there an email i can message?...</td>\n",
       "      <td>@117444 Hey, we can help here on Twitter! Coul...</td>\n",
       "    </tr>\n",
       "    <tr>\n",
       "      <th>1353</th>\n",
       "      <td>@AppleSupport the I️ keeps autocorrecting to a...</td>\n",
       "      <td>@122925 Let's look in to this issue together. ...</td>\n",
       "    </tr>\n",
       "    <tr>\n",
       "      <th>15324</th>\n",
       "      <td>@hulu_support I suggest you guys add all other...</td>\n",
       "      <td>@141589 Great suggestion, Gio! We'll be sure t...</td>\n",
       "    </tr>\n",
       "  </tbody>\n",
       "</table>\n",
       "</div>"
      ],
      "text/plain": [
       "                                                    User  \\\n",
       "2170   @Uber_Support Thanks, I have just done this. I...   \n",
       "1502   Whats wrong with you @115858? I can't believe ...   \n",
       "17324  Why do you make peak trains super expensive wh...   \n",
       "4204                                       @Delta Thanks   \n",
       "17083  @GWRHelp poor cs Jason Ness Manager! please re...   \n",
       "11405  @VirginTrains just to check - if I have an off...   \n",
       "8379   @comcastcares how do I find out why my interne...   \n",
       "2934   @SpotifyCares is there an email i can message?...   \n",
       "1353   @AppleSupport the I️ keeps autocorrecting to a...   \n",
       "15324  @hulu_support I suggest you guys add all other...   \n",
       "\n",
       "                                                 Company  \n",
       "2170   @120098 Happy to further assist you, Jenna! Se...  \n",
       "1502   @123385 We're here to help. Let's take this to...  \n",
       "17324  @134107 Hi Imogen. Sorry for the busy conditio...  \n",
       "4204   @126385 Terry, both of you are listed for the ...  \n",
       "17083  @132688 Hi Sarah. What is this in relation to ...  \n",
       "11405             @138498 On any Off Peak train yes. ^PA  \n",
       "8379   @131880 I apologize for the disruption in your...  \n",
       "2934   @117444 Hey, we can help here on Twitter! Coul...  \n",
       "1353   @122925 Let's look in to this issue together. ...  \n",
       "15324  @141589 Great suggestion, Gio! We'll be sure t...  "
      ]
     },
     "execution_count": 2,
     "metadata": {},
     "output_type": "execute_result"
    }
   ],
   "source": [
    "data = pd.read_csv('dataset/mixed_data_preprocessed.csv')\n",
    "data.sample(10)"
   ]
  },
  {
   "cell_type": "code",
   "execution_count": 3,
   "id": "b05e8adf",
   "metadata": {},
   "outputs": [],
   "source": [
    "for i, row in data.iterrows():\n",
    "    company_response_parts = row.Company.split('.')\n",
    "\n",
    "    if(len(company_response_parts) > 1 and company_response_parts[1] != ''):\n",
    "        row.Company = ' '.join(company_response_parts[1:])\n",
    "    else:\n",
    "        company_response_parts_exc = row.Company.split('!')\n",
    "        if(len(company_response_parts_exc) > 1):\n",
    "            if(company_response_parts_exc[1] != ''):\n",
    "                row.Company = ' '.join(company_response_parts_exc[1:])\n"
   ]
  },
  {
   "cell_type": "code",
   "execution_count": 4,
   "id": "e0ee6f72",
   "metadata": {},
   "outputs": [],
   "source": [
    "#data.to_csv('dataset/test_ideja.csv')"
   ]
  },
  {
   "cell_type": "code",
   "execution_count": 5,
   "id": "4cead251",
   "metadata": {},
   "outputs": [
    {
     "data": {
      "text/html": [
       "<div>\n",
       "<style scoped>\n",
       "    .dataframe tbody tr th:only-of-type {\n",
       "        vertical-align: middle;\n",
       "    }\n",
       "\n",
       "    .dataframe tbody tr th {\n",
       "        vertical-align: top;\n",
       "    }\n",
       "\n",
       "    .dataframe thead th {\n",
       "        text-align: right;\n",
       "    }\n",
       "</style>\n",
       "<table border=\"1\" class=\"dataframe\">\n",
       "  <thead>\n",
       "    <tr style=\"text-align: right;\">\n",
       "      <th></th>\n",
       "      <th>User</th>\n",
       "      <th>Company</th>\n",
       "    </tr>\n",
       "  </thead>\n",
       "  <tbody>\n",
       "    <tr>\n",
       "      <th>13804</th>\n",
       "      <td>@sprintcare Will do in a day or two, however s...</td>\n",
       "      <td>Please send us a DM to facilitate  -Resolutio...</td>\n",
       "    </tr>\n",
       "    <tr>\n",
       "      <th>17191</th>\n",
       "      <td>@GWRHelp what is your plan to allow the new tr...</td>\n",
       "      <td>Lewis</td>\n",
       "    </tr>\n",
       "    <tr>\n",
       "      <th>6820</th>\n",
       "      <td>@115911 Netflix and chill, thanks to our #moto...</td>\n",
       "      <td>:) URL_POSITION *MikeVance</td>\n",
       "    </tr>\n",
       "    <tr>\n",
       "      <th>900</th>\n",
       "      <td>@AppleSupport I can not find an option to get ...</td>\n",
       "      <td>URL_POSITION</td>\n",
       "    </tr>\n",
       "    <tr>\n",
       "      <th>3939</th>\n",
       "      <td>@Delta I should've known there was a catch...f...</td>\n",
       "      <td>The airport is experiencing Air Traffic conge...</td>\n",
       "    </tr>\n",
       "    <tr>\n",
       "      <th>9049</th>\n",
       "      <td>@British_Airways No response yet - just debt c...</td>\n",
       "      <td>@121760 Hi Rich, could you DM your case refere...</td>\n",
       "    </tr>\n",
       "    <tr>\n",
       "      <th>7441</th>\n",
       "      <td>@TMobileHelp Thanks will have to do it another...</td>\n",
       "      <td>Make sure your device is unlocked that you'll...</td>\n",
       "    </tr>\n",
       "    <tr>\n",
       "      <th>6530</th>\n",
       "      <td>In a bizarre twist, I’d like to thank @America...</td>\n",
       "      <td>@138452 Sounds like you found the #silverlinning!</td>\n",
       "    </tr>\n",
       "    <tr>\n",
       "      <th>15739</th>\n",
       "      <td>@sainsburys It was the Rustington store. But u...</td>\n",
       "      <td>@122041 Could you confirm the product from our...</td>\n",
       "    </tr>\n",
       "    <tr>\n",
       "      <th>7538</th>\n",
       "      <td>Thank You @115911 for not providing or solving...</td>\n",
       "      <td>Please send us a DM, so we can make sure this...</td>\n",
       "    </tr>\n",
       "  </tbody>\n",
       "</table>\n",
       "</div>"
      ],
      "text/plain": [
       "                                                    User  \\\n",
       "13804  @sprintcare Will do in a day or two, however s...   \n",
       "17191  @GWRHelp what is your plan to allow the new tr...   \n",
       "6820   @115911 Netflix and chill, thanks to our #moto...   \n",
       "900    @AppleSupport I can not find an option to get ...   \n",
       "3939   @Delta I should've known there was a catch...f...   \n",
       "9049   @British_Airways No response yet - just debt c...   \n",
       "7441   @TMobileHelp Thanks will have to do it another...   \n",
       "6530   In a bizarre twist, I’d like to thank @America...   \n",
       "15739  @sainsburys It was the Rustington store. But u...   \n",
       "7538   Thank You @115911 for not providing or solving...   \n",
       "\n",
       "                                                 Company  \n",
       "13804   Please send us a DM to facilitate  -Resolutio...  \n",
       "17191                                              Lewis  \n",
       "6820                          :) URL_POSITION *MikeVance  \n",
       "900                                         URL_POSITION  \n",
       "3939    The airport is experiencing Air Traffic conge...  \n",
       "9049   @121760 Hi Rich, could you DM your case refere...  \n",
       "7441    Make sure your device is unlocked that you'll...  \n",
       "6530   @138452 Sounds like you found the #silverlinning!  \n",
       "15739  @122041 Could you confirm the product from our...  \n",
       "7538    Please send us a DM, so we can make sure this...  "
      ]
     },
     "execution_count": 5,
     "metadata": {},
     "output_type": "execute_result"
    }
   ],
   "source": [
    "data.sample(10)"
   ]
  },
  {
   "cell_type": "code",
   "execution_count": 6,
   "id": "b649fc40",
   "metadata": {},
   "outputs": [
    {
     "data": {
      "text/plain": [
       "'@AmericanAir stuck on flight 609 in Charlotte over 55 minutes due to a computer card tech issue while pilot repeatedly advised it would only take a \"few minutes\" to fix. Why wasn\\'t this issue reported by previous pilot that arrived minutes b4 we boarded in effort to save time?'"
      ]
     },
     "execution_count": 6,
     "metadata": {},
     "output_type": "execute_result"
    }
   ],
   "source": [
    "data.User[5814]"
   ]
  },
  {
   "cell_type": "code",
   "execution_count": 7,
   "id": "e1159bd9",
   "metadata": {},
   "outputs": [],
   "source": [
    " for index, row in data.iterrows():\n",
    "        row[0] = re.sub(r'@\\w+', \"\", str(row[0]))\n",
    "        row[1] = re.sub(r'@\\w+', \"\", str(row[1]))"
   ]
  },
  {
   "cell_type": "code",
   "execution_count": 8,
   "id": "11c3a056",
   "metadata": {},
   "outputs": [
    {
     "data": {
      "text/plain": [
       "' stuck on flight 609 in Charlotte over 55 minutes due to a computer card tech issue while pilot repeatedly advised it would only take a \"few minutes\" to fix. Why wasn\\'t this issue reported by previous pilot that arrived minutes b4 we boarded in effort to save time?'"
      ]
     },
     "execution_count": 8,
     "metadata": {},
     "output_type": "execute_result"
    }
   ],
   "source": [
    "data.User[5814]"
   ]
  },
  {
   "cell_type": "code",
   "execution_count": 9,
   "id": "4002df6c",
   "metadata": {},
   "outputs": [],
   "source": [
    "data.to_csv('dataset/test_ideja.csv', index=False)"
   ]
  },
  {
   "cell_type": "code",
   "execution_count": null,
   "id": "0c722de3",
   "metadata": {},
   "outputs": [],
   "source": []
  }
 ],
 "metadata": {
  "kernelspec": {
   "display_name": "Python 3 (ipykernel)",
   "language": "python",
   "name": "python3"
  },
  "language_info": {
   "codemirror_mode": {
    "name": "ipython",
    "version": 3
   },
   "file_extension": ".py",
   "mimetype": "text/x-python",
   "name": "python",
   "nbconvert_exporter": "python",
   "pygments_lexer": "ipython3",
   "version": "3.8.6"
  }
 },
 "nbformat": 4,
 "nbformat_minor": 5
}
