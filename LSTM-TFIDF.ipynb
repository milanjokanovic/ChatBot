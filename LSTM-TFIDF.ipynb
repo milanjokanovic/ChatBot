{
 "cells": [
  {
   "cell_type": "code",
   "execution_count": 1,
   "id": "af3be8bb",
   "metadata": {},
   "outputs": [],
   "source": [
    "import numpy as np \n",
    "import pandas as pd\n",
    "from keras.preprocessing.text import Tokenizer\n",
    "from keras.preprocessing.sequence import pad_sequences\n",
    "from keras.models import Sequential\n",
    "from keras.layers import Dense, Embedding, LSTM, SpatialDropout1D\n",
    "from sklearn.model_selection import train_test_split\n",
    "from keras.utils.np_utils import to_categorical\n",
    "from keras.callbacks import EarlyStopping\n",
    "from keras.layers import Dropout\n",
    "from sklearn.metrics import classification_report\n",
    "from keras.callbacks import EarlyStopping"
   ]
  },
  {
   "cell_type": "code",
   "execution_count": 2,
   "id": "43008bd9",
   "metadata": {},
   "outputs": [
    {
     "data": {
      "text/html": [
       "<div>\n",
       "<style scoped>\n",
       "    .dataframe tbody tr th:only-of-type {\n",
       "        vertical-align: middle;\n",
       "    }\n",
       "\n",
       "    .dataframe tbody tr th {\n",
       "        vertical-align: top;\n",
       "    }\n",
       "\n",
       "    .dataframe thead th {\n",
       "        text-align: right;\n",
       "    }\n",
       "</style>\n",
       "<table border=\"1\" class=\"dataframe\">\n",
       "  <thead>\n",
       "    <tr style=\"text-align: right;\">\n",
       "      <th></th>\n",
       "      <th>User</th>\n",
       "      <th>Company</th>\n",
       "    </tr>\n",
       "  </thead>\n",
       "  <tbody>\n",
       "    <tr>\n",
       "      <th>0</th>\n",
       "      <td>@AskPlayStation So, what's the november ps plu...</td>\n",
       "      <td>@115743 There is no info to share at the momen...</td>\n",
       "    </tr>\n",
       "    <tr>\n",
       "      <th>1</th>\n",
       "      <td>@AskPlayStation It was when I would go to down...</td>\n",
       "      <td>@115745  Glad to know that is downloading, ple...</td>\n",
       "    </tr>\n",
       "    <tr>\n",
       "      <th>2</th>\n",
       "      <td>@AskPlayStation I bought Lego Star Wars in the...</td>\n",
       "      <td>@115745 Sorry for the inconvenience. Do you se...</td>\n",
       "    </tr>\n",
       "    <tr>\n",
       "      <th>3</th>\n",
       "      <td>@AskPlayStation can i block a community from s...</td>\n",
       "      <td>@115746  Glad to help.  Please share the detai...</td>\n",
       "    </tr>\n",
       "    <tr>\n",
       "      <th>4</th>\n",
       "      <td>@AskPlayStation can you dm me I have a question</td>\n",
       "      <td>@116001 Glad to help! We have sent you a DM lo...</td>\n",
       "    </tr>\n",
       "    <tr>\n",
       "      <th>...</th>\n",
       "      <td>...</td>\n",
       "      <td>...</td>\n",
       "    </tr>\n",
       "    <tr>\n",
       "      <th>16711</th>\n",
       "      <td>@AskPlayStation I have already read and went o...</td>\n",
       "      <td>@640122 Please run a network connection test. ...</td>\n",
       "    </tr>\n",
       "    <tr>\n",
       "      <th>16712</th>\n",
       "      <td>@AskPlayStation I can not fully connect to my ...</td>\n",
       "      <td>@640122 Let's take a look! Check out the next ...</td>\n",
       "    </tr>\n",
       "    <tr>\n",
       "      <th>16713</th>\n",
       "      <td>@AskPlayStation i want to buy a ps4 pro . will...</td>\n",
       "      <td>@823562 Hello there. There isn't information a...</td>\n",
       "    </tr>\n",
       "    <tr>\n",
       "      <th>16714</th>\n",
       "      <td>@AskPlayStation any idea when \"Steven Universe...</td>\n",
       "      <td>@823563 Glad to help!  Please follow us via Tw...</td>\n",
       "    </tr>\n",
       "    <tr>\n",
       "      <th>16715</th>\n",
       "      <td>@AskPlayStation May I ask what should I do if ...</td>\n",
       "      <td>@823570 Hello James! Please follow the steps i...</td>\n",
       "    </tr>\n",
       "  </tbody>\n",
       "</table>\n",
       "<p>16701 rows × 2 columns</p>\n",
       "</div>"
      ],
      "text/plain": [
       "                                                    User  \\\n",
       "0      @AskPlayStation So, what's the november ps plu...   \n",
       "1      @AskPlayStation It was when I would go to down...   \n",
       "2      @AskPlayStation I bought Lego Star Wars in the...   \n",
       "3      @AskPlayStation can i block a community from s...   \n",
       "4        @AskPlayStation can you dm me I have a question   \n",
       "...                                                  ...   \n",
       "16711  @AskPlayStation I have already read and went o...   \n",
       "16712  @AskPlayStation I can not fully connect to my ...   \n",
       "16713  @AskPlayStation i want to buy a ps4 pro . will...   \n",
       "16714  @AskPlayStation any idea when \"Steven Universe...   \n",
       "16715  @AskPlayStation May I ask what should I do if ...   \n",
       "\n",
       "                                                 Company  \n",
       "0      @115743 There is no info to share at the momen...  \n",
       "1      @115745  Glad to know that is downloading, ple...  \n",
       "2      @115745 Sorry for the inconvenience. Do you se...  \n",
       "3      @115746  Glad to help.  Please share the detai...  \n",
       "4      @116001 Glad to help! We have sent you a DM lo...  \n",
       "...                                                  ...  \n",
       "16711  @640122 Please run a network connection test. ...  \n",
       "16712  @640122 Let's take a look! Check out the next ...  \n",
       "16713  @823562 Hello there. There isn't information a...  \n",
       "16714  @823563 Glad to help!  Please follow us via Tw...  \n",
       "16715  @823570 Hello James! Please follow the steps i...  \n",
       "\n",
       "[16701 rows x 2 columns]"
      ]
     },
     "execution_count": 2,
     "metadata": {},
     "output_type": "execute_result"
    }
   ],
   "source": [
    "df = pd.read_csv(\"dataset/ask_play_station.csv\")\n",
    "df.dropna(inplace = True)\n",
    "df"
   ]
  },
  {
   "cell_type": "code",
   "execution_count": 3,
   "id": "a959201f",
   "metadata": {},
   "outputs": [
    {
     "data": {
      "text/html": [
       "<div>\n",
       "<style scoped>\n",
       "    .dataframe tbody tr th:only-of-type {\n",
       "        vertical-align: middle;\n",
       "    }\n",
       "\n",
       "    .dataframe tbody tr th {\n",
       "        vertical-align: top;\n",
       "    }\n",
       "\n",
       "    .dataframe thead th {\n",
       "        text-align: right;\n",
       "    }\n",
       "</style>\n",
       "<table border=\"1\" class=\"dataframe\">\n",
       "  <thead>\n",
       "    <tr style=\"text-align: right;\">\n",
       "      <th></th>\n",
       "      <th>User</th>\n",
       "      <th>Company</th>\n",
       "    </tr>\n",
       "  </thead>\n",
       "  <tbody>\n",
       "    <tr>\n",
       "      <th>0</th>\n",
       "      <td>Way to drop the ball on customer service @1158...</td>\n",
       "      <td>@115820 I'm sorry we've let you down! Without ...</td>\n",
       "    </tr>\n",
       "    <tr>\n",
       "      <th>1</th>\n",
       "      <td>@AmazonHelp 3 different people have given 3 di...</td>\n",
       "      <td>@115820 We'd like to take a further look into ...</td>\n",
       "    </tr>\n",
       "    <tr>\n",
       "      <th>2</th>\n",
       "      <td>@115823 I want my amazon payments account CLOS...</td>\n",
       "      <td>@115822 I am unable to affect your account via...</td>\n",
       "    </tr>\n",
       "    <tr>\n",
       "      <th>3</th>\n",
       "      <td>@115828 How about you guys figure out my Xbox ...</td>\n",
       "      <td>@115826 I'm sorry for the wait. You'll receive...</td>\n",
       "    </tr>\n",
       "    <tr>\n",
       "      <th>4</th>\n",
       "      <td>@AmazonHelp @115826 Yeah this is crazy we’re l...</td>\n",
       "      <td>@115827 Thanks for your patience. ^KM</td>\n",
       "    </tr>\n",
       "    <tr>\n",
       "      <th>...</th>\n",
       "      <td>...</td>\n",
       "      <td>...</td>\n",
       "    </tr>\n",
       "    <tr>\n",
       "      <th>15037</th>\n",
       "      <td>I'm so mad at @115821 rn.\\n\\nThe katana sword ...</td>\n",
       "      <td>@183848 I'm so sorry for the delay! We strive ...</td>\n",
       "    </tr>\n",
       "    <tr>\n",
       "      <th>15038</th>\n",
       "      <td>@AmazonHelp @183848 WORST SERVICE\\nPLZ REPLY T...</td>\n",
       "      <td>@121400 We've responded to your DM as requeste...</td>\n",
       "    </tr>\n",
       "    <tr>\n",
       "      <th>15039</th>\n",
       "      <td>@AmazonHelp Actually, email says Friday, but w...</td>\n",
       "      <td>@183848 Some items are not available to ship i...</td>\n",
       "    </tr>\n",
       "    <tr>\n",
       "      <th>15040</th>\n",
       "      <td>@AmazonHelp Why would I even be given an optio...</td>\n",
       "      <td>@183848 Our most accurate delivery date will b...</td>\n",
       "    </tr>\n",
       "    <tr>\n",
       "      <th>15041</th>\n",
       "      <td>@115850 why there is no COD or exchange availa...</td>\n",
       "      <td>@183849 eager to place orders via COD, rest as...</td>\n",
       "    </tr>\n",
       "  </tbody>\n",
       "</table>\n",
       "<p>15000 rows × 2 columns</p>\n",
       "</div>"
      ],
      "text/plain": [
       "                                                    User  \\\n",
       "0      Way to drop the ball on customer service @1158...   \n",
       "1      @AmazonHelp 3 different people have given 3 di...   \n",
       "2      @115823 I want my amazon payments account CLOS...   \n",
       "3      @115828 How about you guys figure out my Xbox ...   \n",
       "4      @AmazonHelp @115826 Yeah this is crazy we’re l...   \n",
       "...                                                  ...   \n",
       "15037  I'm so mad at @115821 rn.\\n\\nThe katana sword ...   \n",
       "15038  @AmazonHelp @183848 WORST SERVICE\\nPLZ REPLY T...   \n",
       "15039  @AmazonHelp Actually, email says Friday, but w...   \n",
       "15040  @AmazonHelp Why would I even be given an optio...   \n",
       "15041  @115850 why there is no COD or exchange availa...   \n",
       "\n",
       "                                                 Company  \n",
       "0      @115820 I'm sorry we've let you down! Without ...  \n",
       "1      @115820 We'd like to take a further look into ...  \n",
       "2      @115822 I am unable to affect your account via...  \n",
       "3      @115826 I'm sorry for the wait. You'll receive...  \n",
       "4                  @115827 Thanks for your patience. ^KM  \n",
       "...                                                  ...  \n",
       "15037  @183848 I'm so sorry for the delay! We strive ...  \n",
       "15038  @121400 We've responded to your DM as requeste...  \n",
       "15039  @183848 Some items are not available to ship i...  \n",
       "15040  @183848 Our most accurate delivery date will b...  \n",
       "15041  @183849 eager to place orders via COD, rest as...  \n",
       "\n",
       "[15000 rows x 2 columns]"
      ]
     },
     "execution_count": 3,
     "metadata": {},
     "output_type": "execute_result"
    }
   ],
   "source": [
    "df = pd.read_csv(\"dataset/amazon_data.csv\")\n",
    "df.dropna(inplace = True)\n",
    "df = df[:15000]\n",
    "df"
   ]
  },
  {
   "cell_type": "code",
   "execution_count": 3,
   "id": "cd0e6ae0",
   "metadata": {},
   "outputs": [
    {
     "data": {
      "text/html": [
       "<div>\n",
       "<style scoped>\n",
       "    .dataframe tbody tr th:only-of-type {\n",
       "        vertical-align: middle;\n",
       "    }\n",
       "\n",
       "    .dataframe tbody tr th {\n",
       "        vertical-align: top;\n",
       "    }\n",
       "\n",
       "    .dataframe thead th {\n",
       "        text-align: right;\n",
       "    }\n",
       "</style>\n",
       "<table border=\"1\" class=\"dataframe\">\n",
       "  <thead>\n",
       "    <tr style=\"text-align: right;\">\n",
       "      <th></th>\n",
       "      <th>User</th>\n",
       "      <th>Company</th>\n",
       "    </tr>\n",
       "  </thead>\n",
       "  <tbody>\n",
       "    <tr>\n",
       "      <th>0</th>\n",
       "      <td>@AskPlayStation So, what's the november ps plu...</td>\n",
       "      <td>&lt;SOS&gt; @115743 There is no info to share at the...</td>\n",
       "    </tr>\n",
       "    <tr>\n",
       "      <th>1</th>\n",
       "      <td>@AskPlayStation It was when I would go to down...</td>\n",
       "      <td>&lt;SOS&gt; @115745  Glad to know that is downloadin...</td>\n",
       "    </tr>\n",
       "    <tr>\n",
       "      <th>2</th>\n",
       "      <td>@AskPlayStation I bought Lego Star Wars in the...</td>\n",
       "      <td>&lt;SOS&gt; @115745 Sorry for the inconvenience. Do ...</td>\n",
       "    </tr>\n",
       "    <tr>\n",
       "      <th>3</th>\n",
       "      <td>@AskPlayStation can i block a community from s...</td>\n",
       "      <td>&lt;SOS&gt; @115746  Glad to help.  Please share the...</td>\n",
       "    </tr>\n",
       "    <tr>\n",
       "      <th>4</th>\n",
       "      <td>@AskPlayStation can you dm me I have a question</td>\n",
       "      <td>&lt;SOS&gt; @116001 Glad to help! We have sent you a...</td>\n",
       "    </tr>\n",
       "    <tr>\n",
       "      <th>...</th>\n",
       "      <td>...</td>\n",
       "      <td>...</td>\n",
       "    </tr>\n",
       "    <tr>\n",
       "      <th>16711</th>\n",
       "      <td>@AskPlayStation I have already read and went o...</td>\n",
       "      <td>&lt;SOS&gt; @640122 Please run a network connection ...</td>\n",
       "    </tr>\n",
       "    <tr>\n",
       "      <th>16712</th>\n",
       "      <td>@AskPlayStation I can not fully connect to my ...</td>\n",
       "      <td>&lt;SOS&gt; @640122 Let's take a look! Check out the...</td>\n",
       "    </tr>\n",
       "    <tr>\n",
       "      <th>16713</th>\n",
       "      <td>@AskPlayStation i want to buy a ps4 pro . will...</td>\n",
       "      <td>&lt;SOS&gt; @823562 Hello there. There isn't informa...</td>\n",
       "    </tr>\n",
       "    <tr>\n",
       "      <th>16714</th>\n",
       "      <td>@AskPlayStation any idea when \"Steven Universe...</td>\n",
       "      <td>&lt;SOS&gt; @823563 Glad to help!  Please follow us ...</td>\n",
       "    </tr>\n",
       "    <tr>\n",
       "      <th>16715</th>\n",
       "      <td>@AskPlayStation May I ask what should I do if ...</td>\n",
       "      <td>&lt;SOS&gt; @823570 Hello James! Please follow the s...</td>\n",
       "    </tr>\n",
       "  </tbody>\n",
       "</table>\n",
       "<p>16701 rows × 2 columns</p>\n",
       "</div>"
      ],
      "text/plain": [
       "                                                    User  \\\n",
       "0      @AskPlayStation So, what's the november ps plu...   \n",
       "1      @AskPlayStation It was when I would go to down...   \n",
       "2      @AskPlayStation I bought Lego Star Wars in the...   \n",
       "3      @AskPlayStation can i block a community from s...   \n",
       "4        @AskPlayStation can you dm me I have a question   \n",
       "...                                                  ...   \n",
       "16711  @AskPlayStation I have already read and went o...   \n",
       "16712  @AskPlayStation I can not fully connect to my ...   \n",
       "16713  @AskPlayStation i want to buy a ps4 pro . will...   \n",
       "16714  @AskPlayStation any idea when \"Steven Universe...   \n",
       "16715  @AskPlayStation May I ask what should I do if ...   \n",
       "\n",
       "                                                 Company  \n",
       "0      <SOS> @115743 There is no info to share at the...  \n",
       "1      <SOS> @115745  Glad to know that is downloadin...  \n",
       "2      <SOS> @115745 Sorry for the inconvenience. Do ...  \n",
       "3      <SOS> @115746  Glad to help.  Please share the...  \n",
       "4      <SOS> @116001 Glad to help! We have sent you a...  \n",
       "...                                                  ...  \n",
       "16711  <SOS> @640122 Please run a network connection ...  \n",
       "16712  <SOS> @640122 Let's take a look! Check out the...  \n",
       "16713  <SOS> @823562 Hello there. There isn't informa...  \n",
       "16714  <SOS> @823563 Glad to help!  Please follow us ...  \n",
       "16715  <SOS> @823570 Hello James! Please follow the s...  \n",
       "\n",
       "[16701 rows x 2 columns]"
      ]
     },
     "execution_count": 3,
     "metadata": {},
     "output_type": "execute_result"
    }
   ],
   "source": [
    "for index in df.index:\n",
    "    df.loc[index,'Company'] = '<SOS> ' + df.loc[index,'Company'] + ' <EOS>'\n",
    "df"
   ]
  },
  {
   "cell_type": "code",
   "execution_count": 4,
   "id": "20cce384",
   "metadata": {},
   "outputs": [],
   "source": [
    "train_data, test_data = train_test_split(df, test_size=0.3, random_state=42)"
   ]
  },
  {
   "cell_type": "code",
   "execution_count": 5,
   "id": "383a8db6",
   "metadata": {},
   "outputs": [
    {
     "data": {
      "text/plain": [
       "array([\"@AskPlayStation I'm having some problems with my acount please May you DM me\",\n",
       "       \"@AskPlayStation I've been waiting 5 hours and it's not even half way to being able to start the application. No where near being done.The game is Dragon Age: Inquisition: GOTY edition.\",\n",
       "       '@AskPlayStation @90688   i cant download ep 2 :( i purchased ep 1 fine. Anywayy to fix this? https://t.co/TP5E7QhZQ0',\n",
       "       ...,\n",
       "       '<SOS> @317733 Sorry to know that. Please power cycle your network devices and try again:\\xa0https://t.co/UUMNDRIFMj <EOS>',\n",
       "       '<SOS> @161110 We can help with that! Please follow us on Twitter and send us a DM so we can assist you further! https://t.co/blzF3DE7ws <EOS>',\n",
       "       '<SOS> @777362 Sorry to know that! Please check the following article with more information about requesting a refund: https://t.co/UYBWwzvFok <EOS>'],\n",
       "      dtype=object)"
      ]
     },
     "execution_count": 5,
     "metadata": {},
     "output_type": "execute_result"
    }
   ],
   "source": [
    "text_data = np.concatenate((train_data['User'].values, train_data['Company'].values))\n",
    "text_data"
   ]
  },
  {
   "cell_type": "code",
   "execution_count": 6,
   "id": "21fb6d73",
   "metadata": {},
   "outputs": [
    {
     "name": "stdout",
     "output_type": "stream",
     "text": [
      "Found 19609 unique tokens.\n"
     ]
    }
   ],
   "source": [
    "MAX_NB_WORDS = 7000\n",
    "\n",
    "tokenizer = Tokenizer(num_words=MAX_NB_WORDS, filters='!\"#$%&()*+,-./:;<=>?@[\\]^_`{|}~', lower=True)\n",
    "tokenizer.fit_on_texts(text_data)\n",
    "word_index = tokenizer.word_index\n",
    "print('Found %s unique tokens.' % len(word_index))"
   ]
  },
  {
   "cell_type": "code",
   "execution_count": 7,
   "id": "c1ec202f",
   "metadata": {},
   "outputs": [
    {
     "data": {
      "text/plain": [
       "12571"
      ]
     },
     "execution_count": 7,
     "metadata": {},
     "output_type": "execute_result"
    }
   ],
   "source": [
    "word_counts  = tokenizer.word_counts \n",
    "rare_words_number = 0 \n",
    "for index, (key, value) in enumerate(word_counts.items()):\n",
    "    if (value < 2):\n",
    "        rare_words_number = rare_words_number + 1\n",
    "        #print( index, key, value)\n",
    "rare_words_number"
   ]
  },
  {
   "cell_type": "code",
   "execution_count": 8,
   "id": "3bdb2b66",
   "metadata": {},
   "outputs": [
    {
     "data": {
      "text/plain": [
       "\"@AskPlayStation I'm having some problems with my acount please May you DM me\""
      ]
     },
     "execution_count": 8,
     "metadata": {},
     "output_type": "execute_result"
    }
   ],
   "source": [
    "train_data['User'].values[0]"
   ]
  },
  {
   "cell_type": "code",
   "execution_count": 9,
   "id": "6f9df262",
   "metadata": {},
   "outputs": [
    {
     "data": {
      "text/plain": [
       "[[5, 136, 124, 189, 315, 25, 11, 1326, 8, 397, 7, 72, 48]]"
      ]
     },
     "execution_count": 9,
     "metadata": {},
     "output_type": "execute_result"
    }
   ],
   "source": [
    "seq = tokenizer.texts_to_sequences([train_data['User'].values[0]])\n",
    "seq"
   ]
  },
  {
   "cell_type": "code",
   "execution_count": 10,
   "id": "26af0c8c",
   "metadata": {},
   "outputs": [
    {
     "data": {
      "text/plain": [
       "[\"askplaystation i'm having some problems with my acount please may you dm me\"]"
      ]
     },
     "execution_count": 10,
     "metadata": {},
     "output_type": "execute_result"
    }
   ],
   "source": [
    "tokenizer.sequences_to_texts(seq)"
   ]
  },
  {
   "cell_type": "code",
   "execution_count": 11,
   "id": "5de0463c",
   "metadata": {},
   "outputs": [],
   "source": [
    "train_X = tokenizer.texts_to_sequences(train_data['User'].values)\n",
    "train_y = tokenizer.texts_to_sequences(train_data['Company'].values)"
   ]
  },
  {
   "cell_type": "code",
   "execution_count": 12,
   "id": "7ab1eb9f",
   "metadata": {},
   "outputs": [
    {
     "data": {
      "text/plain": [
       "[5, 136, 124, 189, 315, 25, 11, 1326, 8, 397, 7, 72, 48]"
      ]
     },
     "execution_count": 12,
     "metadata": {},
     "output_type": "execute_result"
    }
   ],
   "source": [
    "train_X[0]"
   ]
  },
  {
   "cell_type": "code",
   "execution_count": 13,
   "id": "175b9cac",
   "metadata": {},
   "outputs": [
    {
     "name": "stdout",
     "output_type": "stream",
     "text": [
      "50\n",
      "50\n"
     ]
    }
   ],
   "source": [
    "MAX_QUESTION_LENGTH = 50\n",
    "#for el in df['User']:\n",
    " #   if(len(el) > MAX_QUESTION_LENGTH):\n",
    "#        MAX_QUESTION_LENGTH = len(el)\n",
    "print(MAX_QUESTION_LENGTH)\n",
    "\n",
    "MAX_ANSWER_LENGTH = 50\n",
    "#for el in df['Company']:\n",
    "    #if(len(el) > MAX_ANSWER_LENGTH):\n",
    "        #MAX_ANSWER_LENGTH = len(el)\n",
    "print(MAX_ANSWER_LENGTH)"
   ]
  },
  {
   "cell_type": "code",
   "execution_count": 14,
   "id": "04f0ec9b",
   "metadata": {},
   "outputs": [],
   "source": [
    "train_X = pad_sequences(train_X, maxlen=MAX_QUESTION_LENGTH, padding='post', truncating='post') #truncating dodati ako budem hteo avrage da koristim\n",
    "train_y = pad_sequences(train_y, maxlen=MAX_ANSWER_LENGTH, padding='post', truncating='post')"
   ]
  },
  {
   "cell_type": "code",
   "execution_count": 15,
   "id": "f1dfbfa7",
   "metadata": {},
   "outputs": [
    {
     "data": {
      "text/plain": [
       "50"
      ]
     },
     "execution_count": 15,
     "metadata": {},
     "output_type": "execute_result"
    }
   ],
   "source": [
    "len(train_X[0])"
   ]
  },
  {
   "cell_type": "code",
   "execution_count": 16,
   "id": "a156d18e",
   "metadata": {},
   "outputs": [
    {
     "data": {
      "text/plain": [
       "array([   5,  136,  124,  189,  315,   25,   11, 1326,    8,  397,    7,\n",
       "         72,   48,    0,    0,    0,    0,    0,    0,    0,    0,    0,\n",
       "          0,    0,    0,    0,    0,    0,    0,    0,    0,    0,    0,\n",
       "          0,    0,    0,    0,    0,    0,    0,    0,    0,    0,    0,\n",
       "          0,    0,    0,    0,    0,    0])"
      ]
     },
     "execution_count": 16,
     "metadata": {},
     "output_type": "execute_result"
    }
   ],
   "source": [
    "train_X[0][:50]"
   ]
  },
  {
   "cell_type": "code",
   "execution_count": 17,
   "id": "b8e03a2e",
   "metadata": {},
   "outputs": [],
   "source": [
    "train_y_final_output = []\n",
    "for i in train_y:\n",
    "    train_y_final_output.append(i[1:]) \n",
    "\n",
    "train_y_final_output = pad_sequences(train_y_final_output, MAX_ANSWER_LENGTH, padding='post', truncating='post')"
   ]
  },
  {
   "cell_type": "code",
   "execution_count": 18,
   "id": "8e12f52e",
   "metadata": {},
   "outputs": [
    {
     "data": {
      "text/plain": [
       "array([45,  2, 50, 17,  8, 42, 18, 51, 55, 41, 27, 19, 59,  7, 10, 72, 25,\n",
       "       29, 37, 64,  4,  0,  0,  0,  0,  0,  0,  0,  0,  0,  0,  0,  0,  0,\n",
       "        0,  0,  0,  0,  0,  0,  0,  0,  0,  0,  0,  0,  0,  0,  0,  0])"
      ]
     },
     "execution_count": 18,
     "metadata": {},
     "output_type": "execute_result"
    }
   ],
   "source": [
    "train_y_final_output[0][:50]"
   ]
  },
  {
   "cell_type": "code",
   "execution_count": 19,
   "id": "7623de13",
   "metadata": {},
   "outputs": [
    {
     "data": {
      "text/plain": [
       "array([ 3, 45,  2, 50, 17,  8, 42, 18, 51, 55, 41, 27, 19, 59,  7, 10, 72,\n",
       "       25, 29, 37, 64,  4,  0,  0,  0,  0,  0,  0,  0,  0,  0,  0,  0,  0,\n",
       "        0,  0,  0,  0,  0,  0,  0,  0,  0,  0,  0,  0,  0,  0,  0,  0])"
      ]
     },
     "execution_count": 19,
     "metadata": {},
     "output_type": "execute_result"
    }
   ],
   "source": [
    "train_y[0][:50]"
   ]
  },
  {
   "cell_type": "code",
   "execution_count": 20,
   "id": "913af392",
   "metadata": {},
   "outputs": [],
   "source": [
    "from tensorflow.keras.utils import to_categorical\n",
    "train_y_final_output = to_categorical(train_y_final_output, MAX_NB_WORDS)"
   ]
  },
  {
   "cell_type": "code",
   "execution_count": 21,
   "id": "e4eb2a53",
   "metadata": {},
   "outputs": [],
   "source": [
    "from tensorflow.keras.models import Model\n",
    "from tensorflow.keras.layers import Dense, Embedding, LSTM, Input\n",
    "\n",
    "\n",
    "enc_inp = Input(shape=(50, ))\n",
    "dec_inp = Input(shape=(50, ))"
   ]
  },
  {
   "cell_type": "code",
   "execution_count": 22,
   "id": "716cab81",
   "metadata": {},
   "outputs": [],
   "source": [
    "VOCAB_SIZE = MAX_NB_WORDS\n",
    "embed = Embedding(VOCAB_SIZE+1, output_dim=50, \n",
    "                  input_length=50,\n",
    "                  trainable=True                  \n",
    "                  )"
   ]
  },
  {
   "cell_type": "code",
   "execution_count": 23,
   "id": "6a579923",
   "metadata": {},
   "outputs": [],
   "source": [
    "enc_embed = embed(enc_inp)\n",
    "enc_lstm = LSTM(200, return_sequences=True, return_state=True)\n",
    "enc_op, h, c = enc_lstm(enc_embed)\n",
    "enc_states = [h, c]\n"
   ]
  },
  {
   "cell_type": "code",
   "execution_count": 24,
   "id": "b9b62efe",
   "metadata": {},
   "outputs": [],
   "source": [
    "embed2 = Embedding(VOCAB_SIZE+1, output_dim=50, \n",
    "                  input_length=50,\n",
    "                  trainable=True                  \n",
    "                  )"
   ]
  },
  {
   "cell_type": "code",
   "execution_count": 25,
   "id": "8f7654da",
   "metadata": {},
   "outputs": [],
   "source": [
    "dec_embed = embed2(dec_inp)\n",
    "dec_lstm = LSTM(200, return_sequences=True, return_state=True)\n",
    "dec_op, _, _ = dec_lstm(dec_embed, initial_state=enc_states)"
   ]
  },
  {
   "cell_type": "code",
   "execution_count": 26,
   "id": "9ca887a7",
   "metadata": {},
   "outputs": [
    {
     "name": "stdout",
     "output_type": "stream",
     "text": [
      "Model: \"model\"\n",
      "__________________________________________________________________________________________________\n",
      " Layer (type)                   Output Shape         Param #     Connected to                     \n",
      "==================================================================================================\n",
      " input_1 (InputLayer)           [(None, 50)]         0           []                               \n",
      "                                                                                                  \n",
      " input_2 (InputLayer)           [(None, 50)]         0           []                               \n",
      "                                                                                                  \n",
      " embedding (Embedding)          (None, 50, 50)       350050      ['input_1[0][0]']                \n",
      "                                                                                                  \n",
      " embedding_1 (Embedding)        (None, 50, 50)       350050      ['input_2[0][0]']                \n",
      "                                                                                                  \n",
      " lstm (LSTM)                    [(None, 50, 200),    200800      ['embedding[0][0]']              \n",
      "                                 (None, 200),                                                     \n",
      "                                 (None, 200)]                                                     \n",
      "                                                                                                  \n",
      " lstm_1 (LSTM)                  [(None, 50, 200),    200800      ['embedding_1[0][0]',            \n",
      "                                 (None, 200),                     'lstm[0][1]',                   \n",
      "                                 (None, 200)]                     'lstm[0][2]']                   \n",
      "                                                                                                  \n",
      " dense (Dense)                  (None, 50, 7000)     1407000     ['lstm_1[0][0]']                 \n",
      "                                                                                                  \n",
      "==================================================================================================\n",
      "Total params: 2,508,700\n",
      "Trainable params: 2,508,700\n",
      "Non-trainable params: 0\n",
      "__________________________________________________________________________________________________\n",
      "None\n"
     ]
    }
   ],
   "source": [
    "dense = Dense(VOCAB_SIZE, activation='softmax')\n",
    "dense_op = dense(dec_op)\n",
    "model = Model([enc_inp, dec_inp], dense_op)\n",
    "model.compile(loss='categorical_crossentropy',metrics=['acc'],optimizer='adam')\n",
    "print(model.summary())"
   ]
  },
  {
   "cell_type": "code",
   "execution_count": 27,
   "id": "0eec30d5",
   "metadata": {},
   "outputs": [
    {
     "ename": "AttributeError",
     "evalue": "'Functional' object has no attribute 'eval'",
     "output_type": "error",
     "traceback": [
      "\u001b[1;31m---------------------------------------------------------------------------\u001b[0m",
      "\u001b[1;31mAttributeError\u001b[0m                            Traceback (most recent call last)",
      "Input \u001b[1;32mIn [27]\u001b[0m, in \u001b[0;36m<cell line: 1>\u001b[1;34m()\u001b[0m\n\u001b[1;32m----> 1\u001b[0m \u001b[43mmodel\u001b[49m\u001b[38;5;241;43m.\u001b[39;49m\u001b[43meval\u001b[49m()\n",
      "\u001b[1;31mAttributeError\u001b[0m: 'Functional' object has no attribute 'eval'"
     ]
    }
   ],
   "source": [
    "model.eval()"
   ]
  },
  {
   "cell_type": "code",
   "execution_count": 233,
   "id": "003487f5",
   "metadata": {},
   "outputs": [
    {
     "name": "stdout",
     "output_type": "stream",
     "text": [
      "Epoch 1/15\n",
      "263/263 [==============================] - 66s 238ms/step - loss: 3.2623 - acc: 0.5454 - val_loss: 2.6192 - val_acc: 0.5576\n",
      "Epoch 2/15\n",
      "263/263 [==============================] - 60s 230ms/step - loss: 2.4316 - acc: 0.5873 - val_loss: 2.2876 - val_acc: 0.6086\n",
      "Epoch 3/15\n",
      "263/263 [==============================] - 61s 232ms/step - loss: 2.1468 - acc: 0.6282 - val_loss: 2.0584 - val_acc: 0.6423\n",
      "Epoch 4/15\n",
      "263/263 [==============================] - 63s 240ms/step - loss: 1.9451 - acc: 0.6580 - val_loss: 1.8999 - val_acc: 0.6716\n",
      "Epoch 5/15\n",
      "263/263 [==============================] - 74s 283ms/step - loss: 1.7998 - acc: 0.6838 - val_loss: 1.7775 - val_acc: 0.6898\n",
      "Epoch 6/15\n",
      "263/263 [==============================] - 74s 282ms/step - loss: 1.6828 - acc: 0.6992 - val_loss: 1.6880 - val_acc: 0.7009\n",
      "Epoch 7/15\n",
      "263/263 [==============================] - 72s 273ms/step - loss: 1.5923 - acc: 0.7099 - val_loss: 1.6200 - val_acc: 0.7083\n",
      "Epoch 8/15\n",
      "263/263 [==============================] - 74s 280ms/step - loss: 1.5208 - acc: 0.7180 - val_loss: 1.5660 - val_acc: 0.7151\n",
      "Epoch 9/15\n",
      "263/263 [==============================] - 73s 276ms/step - loss: 1.4622 - acc: 0.7252 - val_loss: 1.5269 - val_acc: 0.7205\n",
      "Epoch 10/15\n",
      "263/263 [==============================] - 74s 281ms/step - loss: 1.4128 - acc: 0.7314 - val_loss: 1.4963 - val_acc: 0.7246\n",
      "Epoch 11/15\n",
      "263/263 [==============================] - 70s 266ms/step - loss: 1.3709 - acc: 0.7360 - val_loss: 1.4727 - val_acc: 0.7283\n",
      "Epoch 12/15\n",
      "263/263 [==============================] - 72s 273ms/step - loss: 1.3340 - acc: 0.7402 - val_loss: 1.4500 - val_acc: 0.7309\n",
      "Epoch 13/15\n",
      "263/263 [==============================] - 70s 267ms/step - loss: 1.3248 - acc: 0.7416 - val_loss: 1.4313 - val_acc: 0.7340\n",
      "Epoch 14/15\n",
      "263/263 [==============================] - 69s 261ms/step - loss: 1.2771 - acc: 0.7464 - val_loss: 1.4176 - val_acc: 0.7360\n",
      "Epoch 15/15\n",
      "263/263 [==============================] - 72s 275ms/step - loss: 1.2498 - acc: 0.7495 - val_loss: 1.4045 - val_acc: 0.7385\n"
     ]
    },
    {
     "data": {
      "text/plain": [
       "<keras.callbacks.History at 0x26f991f3a90>"
      ]
     },
     "execution_count": 233,
     "metadata": {},
     "output_type": "execute_result"
    }
   ],
   "source": [
    "model.fit([train_X, train_y],train_y_final_output,epochs=3, validation_split=0.2,\n",
    "    callbacks=[EarlyStopping(monitor='val_loss', patience=3, min_delta=0.0001)])"
   ]
  },
  {
   "cell_type": "code",
   "execution_count": 234,
   "id": "bc096244",
   "metadata": {},
   "outputs": [],
   "source": [
    "enc_model = Model(enc_inp, enc_states)"
   ]
  },
  {
   "cell_type": "code",
   "execution_count": 235,
   "id": "1c3350f3",
   "metadata": {},
   "outputs": [],
   "source": [
    "decoder_state_input_h = Input(shape=(200,))\n",
    "decoder_state_input_c = Input(shape=(200,))"
   ]
  },
  {
   "cell_type": "code",
   "execution_count": 236,
   "id": "266166bb",
   "metadata": {},
   "outputs": [],
   "source": [
    "decoder_states_inputs = [decoder_state_input_h, decoder_state_input_c]"
   ]
  },
  {
   "cell_type": "code",
   "execution_count": 237,
   "id": "c04cc3c9",
   "metadata": {},
   "outputs": [],
   "source": [
    "decoder_outputs, state_h, state_c = dec_lstm(dec_embed , \n",
    "                                    initial_state=decoder_states_inputs)\n",
    "decoder_states = [state_h, state_c]\n",
    "#decoder_outputs = dense(decoder_outputs)"
   ]
  },
  {
   "cell_type": "code",
   "execution_count": 238,
   "id": "14f9246d",
   "metadata": {},
   "outputs": [],
   "source": [
    "dec_model = Model([dec_inp]+ decoder_states_inputs,\n",
    "                                      [decoder_outputs]+ decoder_states)"
   ]
  },
  {
   "cell_type": "code",
   "execution_count": 266,
   "id": "2fff97c1",
   "metadata": {},
   "outputs": [
    {
     "data": {
      "text/plain": [
       "'@AmazonHelp Just did. Thanks'"
      ]
     },
     "execution_count": 266,
     "metadata": {},
     "output_type": "execute_result"
    }
   ],
   "source": [
    "test_data['User'].values[7]"
   ]
  },
  {
   "cell_type": "code",
   "execution_count": 267,
   "id": "fe6fdd32",
   "metadata": {},
   "outputs": [
    {
     "data": {
      "text/plain": [
       "[[7, 90, 116, 98]]"
      ]
     },
     "execution_count": 267,
     "metadata": {},
     "output_type": "execute_result"
    }
   ],
   "source": [
    "test_question = tokenizer.texts_to_sequences([test_data['User'].values[7]])\n",
    "\n",
    "#test_question = tokenizer.texts_to_sequences([train_data['User'].values[0]])\n",
    "test_question"
   ]
  },
  {
   "cell_type": "code",
   "execution_count": 268,
   "id": "3f44dda5",
   "metadata": {},
   "outputs": [
    {
     "data": {
      "text/plain": [
       "array([[  7,  90, 116,  98,   0,   0,   0,   0,   0,   0,   0,   0,   0,\n",
       "          0,   0,   0,   0,   0,   0,   0,   0,   0,   0,   0,   0,   0,\n",
       "          0,   0,   0,   0,   0,   0,   0,   0,   0,   0,   0,   0,   0,\n",
       "          0,   0,   0,   0,   0,   0,   0,   0,   0,   0,   0]])"
      ]
     },
     "execution_count": 268,
     "metadata": {},
     "output_type": "execute_result"
    }
   ],
   "source": [
    "test_X = pad_sequences(test_question, maxlen=MAX_QUESTION_LENGTH, padding='post', truncating='post')\n",
    "test_X"
   ]
  },
  {
   "cell_type": "code",
   "execution_count": 273,
   "id": "25f1a843",
   "metadata": {},
   "outputs": [],
   "source": [
    "test_answer = enc_model.predict( test_X )"
   ]
  },
  {
   "cell_type": "code",
   "execution_count": 274,
   "id": "ff8c8729",
   "metadata": {},
   "outputs": [
    {
     "data": {
      "text/plain": [
       "array([[0.]])"
      ]
     },
     "execution_count": 274,
     "metadata": {},
     "output_type": "execute_result"
    }
   ],
   "source": [
    "empty_target_seq = np.zeros( ( 1 , 1) )\n",
    "empty_target_seq"
   ]
  },
  {
   "cell_type": "code",
   "execution_count": 275,
   "id": "240eca25",
   "metadata": {},
   "outputs": [
    {
     "data": {
      "text/plain": [
       "array([[3.]])"
      ]
     },
     "execution_count": 275,
     "metadata": {},
     "output_type": "execute_result"
    }
   ],
   "source": [
    "empty_target_seq[0, 0] = tokenizer.texts_to_sequences(['sos'])[0][0]\n",
    "empty_target_seq"
   ]
  },
  {
   "cell_type": "code",
   "execution_count": 276,
   "id": "cec7fa58",
   "metadata": {},
   "outputs": [
    {
     "name": "stdout",
     "output_type": "stream",
     "text": [
      "\n",
      " [\"we're we'd oh thanks i we sorry hi please i'm\"]\n",
      "\n",
      " 39\n",
      "Question:  @AmazonHelp Just did. Thanks\n",
      "\n",
      "Expected:  <SOS> @135307 Great. Please keep us informed about the outcome.^PJ <EOS>\n",
      "\n",
      "Given: \n",
      "i'm sorry for the trouble with your order please reach out to us here https t co jzp7hla23b so we can look into this with you https t co jzp7hla23b wt \n"
     ]
    }
   ],
   "source": [
    "stop_condition = False\n",
    "decoded_translation=''\n",
    "i = 0\n",
    "while not stop_condition :\n",
    "    dec_outputs , h, c= dec_model.predict([empty_target_seq] + test_answer )\n",
    "    decoder_concat_input = dense(dec_outputs)\n",
    "    sampled_word_index = np.argmax( decoder_concat_input[0, -1, :] )\n",
    "    \n",
    "    if i == 0:\n",
    "        i = 1\n",
    "        indes = np.argpartition(decoder_concat_input[0, -1, :], -10)[-10:]\n",
    "        indes = tokenizer.sequences_to_texts([indes])\n",
    "        print('\\n', indes)\n",
    "        print('\\n', sampled_word_index)\n",
    "    \n",
    "    sampled_word = tokenizer.sequences_to_texts([[sampled_word_index]])[0] + ' '\n",
    "    \n",
    "    if sampled_word != 'eos ':\n",
    "        decoded_translation += sampled_word  \n",
    "\n",
    "    if sampled_word == 'eos ' or len(decoded_translation.split()) > 50:\n",
    "        stop_condition = True \n",
    "\n",
    "    empty_target_seq = np.zeros( ( 1 , 1 ) )  \n",
    "    empty_target_seq[ 0 , 0 ] = sampled_word_index\n",
    "    ## <SOS> - > hi\n",
    "    ## hi --> <EOS>\n",
    "    test_answer = [h, c]\n",
    "\n",
    "print(\"Question: \", test_data['User'].values[7])\n",
    "print(\"\\nExpected: \", test_data['Company'].values[7])\n",
    "print(\"\\nGiven: \")\n",
    "print(decoded_translation)"
   ]
  },
  {
   "cell_type": "code",
   "execution_count": null,
   "id": "ad96e4b9",
   "metadata": {},
   "outputs": [],
   "source": []
  }
 ],
 "metadata": {
  "kernelspec": {
   "display_name": "Python 3 (ipykernel)",
   "language": "python",
   "name": "python3"
  },
  "language_info": {
   "codemirror_mode": {
    "name": "ipython",
    "version": 3
   },
   "file_extension": ".py",
   "mimetype": "text/x-python",
   "name": "python",
   "nbconvert_exporter": "python",
   "pygments_lexer": "ipython3",
   "version": "3.8.6"
  }
 },
 "nbformat": 4,
 "nbformat_minor": 5
}
