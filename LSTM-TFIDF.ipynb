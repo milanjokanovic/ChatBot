{
 "cells": [
  {
   "cell_type": "code",
   "execution_count": 63,
   "id": "af3be8bb",
   "metadata": {},
   "outputs": [],
   "source": [
    "import numpy as np \n",
    "import pandas as pd\n",
    "from keras.preprocessing.text import Tokenizer\n",
    "from keras.preprocessing.sequence import pad_sequences\n",
    "from keras.models import Sequential\n",
    "from keras.layers import Dense, Embedding, LSTM, SpatialDropout1D\n",
    "from sklearn.model_selection import train_test_split\n",
    "from keras.utils.np_utils import to_categorical\n",
    "from keras.callbacks import EarlyStopping\n",
    "from keras.layers import Dropout\n",
    "from sklearn.metrics import classification_report\n",
    "from keras.callbacks import EarlyStopping"
   ]
  },
  {
   "cell_type": "code",
   "execution_count": 113,
   "id": "43008bd9",
   "metadata": {},
   "outputs": [
    {
     "data": {
      "text/html": [
       "<div>\n",
       "<style scoped>\n",
       "    .dataframe tbody tr th:only-of-type {\n",
       "        vertical-align: middle;\n",
       "    }\n",
       "\n",
       "    .dataframe tbody tr th {\n",
       "        vertical-align: top;\n",
       "    }\n",
       "\n",
       "    .dataframe thead th {\n",
       "        text-align: right;\n",
       "    }\n",
       "</style>\n",
       "<table border=\"1\" class=\"dataframe\">\n",
       "  <thead>\n",
       "    <tr style=\"text-align: right;\">\n",
       "      <th></th>\n",
       "      <th>User</th>\n",
       "      <th>Company</th>\n",
       "    </tr>\n",
       "  </thead>\n",
       "  <tbody>\n",
       "    <tr>\n",
       "      <th>0</th>\n",
       "      <td>Way to drop the ball on customer service @1158...</td>\n",
       "      <td>@115820 I'm sorry we've let you down! Without ...</td>\n",
       "    </tr>\n",
       "    <tr>\n",
       "      <th>1</th>\n",
       "      <td>@AmazonHelp 3 different people have given 3 di...</td>\n",
       "      <td>@115820 We'd like to take a further look into ...</td>\n",
       "    </tr>\n",
       "    <tr>\n",
       "      <th>2</th>\n",
       "      <td>@115823 I want my amazon payments account CLOS...</td>\n",
       "      <td>@115822 I am unable to affect your account via...</td>\n",
       "    </tr>\n",
       "    <tr>\n",
       "      <th>3</th>\n",
       "      <td>@115828 How about you guys figure out my Xbox ...</td>\n",
       "      <td>@115826 I'm sorry for the wait. You'll receive...</td>\n",
       "    </tr>\n",
       "    <tr>\n",
       "      <th>4</th>\n",
       "      <td>@AmazonHelp @115826 Yeah this is crazy we’re l...</td>\n",
       "      <td>@115827 Thanks for your patience. ^KM</td>\n",
       "    </tr>\n",
       "    <tr>\n",
       "      <th>...</th>\n",
       "      <td>...</td>\n",
       "      <td>...</td>\n",
       "    </tr>\n",
       "    <tr>\n",
       "      <th>19299</th>\n",
       "      <td>@ChipotleTweets Fort Worth off heritage Trace :(</td>\n",
       "      <td>@157688 I'm reaching out to this location's le...</td>\n",
       "    </tr>\n",
       "    <tr>\n",
       "      <th>19300</th>\n",
       "      <td>@ChipotleTweets Slow down! Half/half rice shou...</td>\n",
       "      <td>@157689 Sorry for the trouble. What location w...</td>\n",
       "    </tr>\n",
       "    <tr>\n",
       "      <th>19301</th>\n",
       "      <td>@ChipotleTweets 818 Howe St, Vancouver, BC. 12...</td>\n",
       "      <td>@157689 I'm sharing your concerns with their l...</td>\n",
       "    </tr>\n",
       "    <tr>\n",
       "      <th>19302</th>\n",
       "      <td>@ChipotleTweets I just got home from chipotle ...</td>\n",
       "      <td>@157690 I'd be disappointed too. Let a manager...</td>\n",
       "    </tr>\n",
       "    <tr>\n",
       "      <th>19303</th>\n",
       "      <td>#lifeisburritoful after a full day of #BlackFr...</td>\n",
       "      <td>@157692 Yay! I'll share some love with Abdulla...</td>\n",
       "    </tr>\n",
       "  </tbody>\n",
       "</table>\n",
       "<p>19287 rows × 2 columns</p>\n",
       "</div>"
      ],
      "text/plain": [
       "                                                    User  \\\n",
       "0      Way to drop the ball on customer service @1158...   \n",
       "1      @AmazonHelp 3 different people have given 3 di...   \n",
       "2      @115823 I want my amazon payments account CLOS...   \n",
       "3      @115828 How about you guys figure out my Xbox ...   \n",
       "4      @AmazonHelp @115826 Yeah this is crazy we’re l...   \n",
       "...                                                  ...   \n",
       "19299   @ChipotleTweets Fort Worth off heritage Trace :(   \n",
       "19300  @ChipotleTweets Slow down! Half/half rice shou...   \n",
       "19301  @ChipotleTweets 818 Howe St, Vancouver, BC. 12...   \n",
       "19302  @ChipotleTweets I just got home from chipotle ...   \n",
       "19303  #lifeisburritoful after a full day of #BlackFr...   \n",
       "\n",
       "                                                 Company  \n",
       "0      @115820 I'm sorry we've let you down! Without ...  \n",
       "1      @115820 We'd like to take a further look into ...  \n",
       "2      @115822 I am unable to affect your account via...  \n",
       "3      @115826 I'm sorry for the wait. You'll receive...  \n",
       "4                  @115827 Thanks for your patience. ^KM  \n",
       "...                                                  ...  \n",
       "19299  @157688 I'm reaching out to this location's le...  \n",
       "19300  @157689 Sorry for the trouble. What location w...  \n",
       "19301  @157689 I'm sharing your concerns with their l...  \n",
       "19302  @157690 I'd be disappointed too. Let a manager...  \n",
       "19303  @157692 Yay! I'll share some love with Abdulla...  \n",
       "\n",
       "[19287 rows x 2 columns]"
      ]
     },
     "execution_count": 113,
     "metadata": {},
     "output_type": "execute_result"
    }
   ],
   "source": [
    "#df = pd.read_csv(\"dataset/ask_play_station.csv\")\n",
    "df = pd.read_csv(\"dataset/mixed_data_preprocessed.csv\")\n",
    "df.dropna(inplace = True)\n",
    "df"
   ]
  },
  {
   "cell_type": "code",
   "execution_count": 114,
   "id": "cd0e6ae0",
   "metadata": {},
   "outputs": [
    {
     "data": {
      "text/html": [
       "<div>\n",
       "<style scoped>\n",
       "    .dataframe tbody tr th:only-of-type {\n",
       "        vertical-align: middle;\n",
       "    }\n",
       "\n",
       "    .dataframe tbody tr th {\n",
       "        vertical-align: top;\n",
       "    }\n",
       "\n",
       "    .dataframe thead th {\n",
       "        text-align: right;\n",
       "    }\n",
       "</style>\n",
       "<table border=\"1\" class=\"dataframe\">\n",
       "  <thead>\n",
       "    <tr style=\"text-align: right;\">\n",
       "      <th></th>\n",
       "      <th>User</th>\n",
       "      <th>Company</th>\n",
       "    </tr>\n",
       "  </thead>\n",
       "  <tbody>\n",
       "    <tr>\n",
       "      <th>0</th>\n",
       "      <td>Way to drop the ball on customer service @1158...</td>\n",
       "      <td>&lt;SOS&gt; @115820 I'm sorry we've let you down! Wi...</td>\n",
       "    </tr>\n",
       "    <tr>\n",
       "      <th>1</th>\n",
       "      <td>@AmazonHelp 3 different people have given 3 di...</td>\n",
       "      <td>&lt;SOS&gt; @115820 We'd like to take a further look...</td>\n",
       "    </tr>\n",
       "    <tr>\n",
       "      <th>2</th>\n",
       "      <td>@115823 I want my amazon payments account CLOS...</td>\n",
       "      <td>&lt;SOS&gt; @115822 I am unable to affect your accou...</td>\n",
       "    </tr>\n",
       "    <tr>\n",
       "      <th>3</th>\n",
       "      <td>@115828 How about you guys figure out my Xbox ...</td>\n",
       "      <td>&lt;SOS&gt; @115826 I'm sorry for the wait. You'll r...</td>\n",
       "    </tr>\n",
       "    <tr>\n",
       "      <th>4</th>\n",
       "      <td>@AmazonHelp @115826 Yeah this is crazy we’re l...</td>\n",
       "      <td>&lt;SOS&gt; @115827 Thanks for your patience. ^KM &lt;EOS&gt;</td>\n",
       "    </tr>\n",
       "    <tr>\n",
       "      <th>...</th>\n",
       "      <td>...</td>\n",
       "      <td>...</td>\n",
       "    </tr>\n",
       "    <tr>\n",
       "      <th>19299</th>\n",
       "      <td>@ChipotleTweets Fort Worth off heritage Trace :(</td>\n",
       "      <td>&lt;SOS&gt; @157688 I'm reaching out to this locatio...</td>\n",
       "    </tr>\n",
       "    <tr>\n",
       "      <th>19300</th>\n",
       "      <td>@ChipotleTweets Slow down! Half/half rice shou...</td>\n",
       "      <td>&lt;SOS&gt; @157689 Sorry for the trouble. What loca...</td>\n",
       "    </tr>\n",
       "    <tr>\n",
       "      <th>19301</th>\n",
       "      <td>@ChipotleTweets 818 Howe St, Vancouver, BC. 12...</td>\n",
       "      <td>&lt;SOS&gt; @157689 I'm sharing your concerns with t...</td>\n",
       "    </tr>\n",
       "    <tr>\n",
       "      <th>19302</th>\n",
       "      <td>@ChipotleTweets I just got home from chipotle ...</td>\n",
       "      <td>&lt;SOS&gt; @157690 I'd be disappointed too. Let a m...</td>\n",
       "    </tr>\n",
       "    <tr>\n",
       "      <th>19303</th>\n",
       "      <td>#lifeisburritoful after a full day of #BlackFr...</td>\n",
       "      <td>&lt;SOS&gt; @157692 Yay! I'll share some love with A...</td>\n",
       "    </tr>\n",
       "  </tbody>\n",
       "</table>\n",
       "<p>19287 rows × 2 columns</p>\n",
       "</div>"
      ],
      "text/plain": [
       "                                                    User  \\\n",
       "0      Way to drop the ball on customer service @1158...   \n",
       "1      @AmazonHelp 3 different people have given 3 di...   \n",
       "2      @115823 I want my amazon payments account CLOS...   \n",
       "3      @115828 How about you guys figure out my Xbox ...   \n",
       "4      @AmazonHelp @115826 Yeah this is crazy we’re l...   \n",
       "...                                                  ...   \n",
       "19299   @ChipotleTweets Fort Worth off heritage Trace :(   \n",
       "19300  @ChipotleTweets Slow down! Half/half rice shou...   \n",
       "19301  @ChipotleTweets 818 Howe St, Vancouver, BC. 12...   \n",
       "19302  @ChipotleTweets I just got home from chipotle ...   \n",
       "19303  #lifeisburritoful after a full day of #BlackFr...   \n",
       "\n",
       "                                                 Company  \n",
       "0      <SOS> @115820 I'm sorry we've let you down! Wi...  \n",
       "1      <SOS> @115820 We'd like to take a further look...  \n",
       "2      <SOS> @115822 I am unable to affect your accou...  \n",
       "3      <SOS> @115826 I'm sorry for the wait. You'll r...  \n",
       "4      <SOS> @115827 Thanks for your patience. ^KM <EOS>  \n",
       "...                                                  ...  \n",
       "19299  <SOS> @157688 I'm reaching out to this locatio...  \n",
       "19300  <SOS> @157689 Sorry for the trouble. What loca...  \n",
       "19301  <SOS> @157689 I'm sharing your concerns with t...  \n",
       "19302  <SOS> @157690 I'd be disappointed too. Let a m...  \n",
       "19303  <SOS> @157692 Yay! I'll share some love with A...  \n",
       "\n",
       "[19287 rows x 2 columns]"
      ]
     },
     "execution_count": 114,
     "metadata": {},
     "output_type": "execute_result"
    }
   ],
   "source": [
    "for index in df.index:\n",
    "    df.loc[index,'Company'] = '<SOS> ' + df.loc[index,'Company'] + ' <EOS>'\n",
    "df"
   ]
  },
  {
   "cell_type": "code",
   "execution_count": 187,
   "id": "20cce384",
   "metadata": {},
   "outputs": [],
   "source": [
    "train_data, test_data = train_test_split(df, test_size=0.3, random_state=42)"
   ]
  },
  {
   "cell_type": "code",
   "execution_count": 188,
   "id": "383a8db6",
   "metadata": {},
   "outputs": [
    {
     "data": {
      "text/plain": [
       "array(['@AppleSupport suspect fraud for you to look into #fraud #crime #dontfallforit URL_POSITION',\n",
       "       '@VirginTrains 1st class loungeoit of action AGAIN. Why am I paying a higher price for tickets when it’s not available.  Pls get it sorted!',\n",
       "       '@British_Airways And customer service line closes at 2000 which is a tad odd for an international airline.',\n",
       "       ...,\n",
       "       '<SOS> @122964 Hi Clare, I have replied to your DM. TY - Chris <EOS>',\n",
       "       '<SOS> @120613 Please allow us 6-12 hours to get back to you with an update. Appreciate your patience, Ananya. ^JC <EOS>',\n",
       "       '<SOS> @122546 Really sorry Jimmy, can you give me the barcode from the pack? Liz <EOS>'],\n",
       "      dtype=object)"
      ]
     },
     "execution_count": 188,
     "metadata": {},
     "output_type": "execute_result"
    }
   ],
   "source": [
    "text_data = np.concatenate((train_data['User'].values, train_data['Company'].values))\n",
    "text_data"
   ]
  },
  {
   "cell_type": "code",
   "execution_count": 189,
   "id": "21fb6d73",
   "metadata": {},
   "outputs": [
    {
     "name": "stdout",
     "output_type": "stream",
     "text": [
      "Found 30379 unique tokens.\n"
     ]
    }
   ],
   "source": [
    "MAX_NB_WORDS = 14000\n",
    "\n",
    "tokenizer = Tokenizer(num_words=MAX_NB_WORDS, filters='!\"#$%&()*+,-./:;<=>?@[\\]^_`{|}~', lower=True)\n",
    "tokenizer.fit_on_texts(text_data)\n",
    "word_index = tokenizer.word_index\n",
    "print('Found %s unique tokens.' % len(word_index))"
   ]
  },
  {
   "cell_type": "code",
   "execution_count": 190,
   "id": "c1ec202f",
   "metadata": {},
   "outputs": [
    {
     "data": {
      "text/plain": [
       "17462"
      ]
     },
     "execution_count": 190,
     "metadata": {},
     "output_type": "execute_result"
    }
   ],
   "source": [
    "word_counts  = tokenizer.word_counts \n",
    "rare_words_number = 0 \n",
    "for index, (key, value) in enumerate(word_counts.items()):\n",
    "    if (value < 2):\n",
    "        rare_words_number = rare_words_number + 1\n",
    "        #print( index, key, value)\n",
    "rare_words_number"
   ]
  },
  {
   "cell_type": "code",
   "execution_count": 191,
   "id": "3bdb2b66",
   "metadata": {},
   "outputs": [
    {
     "data": {
      "text/plain": [
       "'@AppleSupport suspect fraud for you to look into #fraud #crime #dontfallforit URL_POSITION'"
      ]
     },
     "execution_count": 191,
     "metadata": {},
     "output_type": "execute_result"
    }
   ],
   "source": [
    "train_data['User'].values[0]"
   ]
  },
  {
   "cell_type": "code",
   "execution_count": 192,
   "id": "6f9df262",
   "metadata": {},
   "outputs": [
    {
     "data": {
      "text/plain": [
       "[[151, 4711, 2053, 9, 5, 1, 61, 76, 2053, 6372, 12918, 13, 12]]"
      ]
     },
     "execution_count": 192,
     "metadata": {},
     "output_type": "execute_result"
    }
   ],
   "source": [
    "seq = tokenizer.texts_to_sequences([train_data['User'].values[0]])\n",
    "seq"
   ]
  },
  {
   "cell_type": "code",
   "execution_count": 193,
   "id": "26af0c8c",
   "metadata": {},
   "outputs": [
    {
     "data": {
      "text/plain": [
       "['applesupport suspect fraud for you to look into fraud crime dontfallforit url position']"
      ]
     },
     "execution_count": 193,
     "metadata": {},
     "output_type": "execute_result"
    }
   ],
   "source": [
    "tokenizer.sequences_to_texts(seq)"
   ]
  },
  {
   "cell_type": "code",
   "execution_count": 194,
   "id": "5de0463c",
   "metadata": {},
   "outputs": [],
   "source": [
    "train_X = tokenizer.texts_to_sequences(train_data['User'].values)\n",
    "train_y = tokenizer.texts_to_sequences(train_data['Company'].values)"
   ]
  },
  {
   "cell_type": "code",
   "execution_count": 195,
   "id": "7ab1eb9f",
   "metadata": {},
   "outputs": [
    {
     "data": {
      "text/plain": [
       "[151, 4711, 2053, 9, 5, 1, 61, 76, 2053, 6372, 12918, 13, 12]"
      ]
     },
     "execution_count": 195,
     "metadata": {},
     "output_type": "execute_result"
    }
   ],
   "source": [
    "train_X[0]"
   ]
  },
  {
   "cell_type": "code",
   "execution_count": 196,
   "id": "175b9cac",
   "metadata": {},
   "outputs": [
    {
     "name": "stdout",
     "output_type": "stream",
     "text": [
      "15\n",
      "15\n"
     ]
    }
   ],
   "source": [
    "MAX_QUESTION_LENGTH = 15\n",
    "#for el in df['User']:\n",
    " #   if(len(el) > MAX_QUESTION_LENGTH):\n",
    "#        MAX_QUESTION_LENGTH = len(el)\n",
    "print(MAX_QUESTION_LENGTH)\n",
    "\n",
    "MAX_ANSWER_LENGTH = 15\n",
    "#for el in df['Company']:\n",
    "    #if(len(el) > MAX_ANSWER_LENGTH):\n",
    "        #MAX_ANSWER_LENGTH = len(el)\n",
    "print(MAX_ANSWER_LENGTH)"
   ]
  },
  {
   "cell_type": "code",
   "execution_count": 197,
   "id": "04f0ec9b",
   "metadata": {},
   "outputs": [],
   "source": [
    "train_X = pad_sequences(train_X, maxlen=MAX_QUESTION_LENGTH, padding='post', truncating='post') #truncating dodati ako budem hteo avrage da koristim\n",
    "train_y = pad_sequences(train_y, maxlen=MAX_ANSWER_LENGTH, padding='post', truncating='post')"
   ]
  },
  {
   "cell_type": "code",
   "execution_count": 198,
   "id": "f1dfbfa7",
   "metadata": {},
   "outputs": [
    {
     "data": {
      "text/plain": [
       "15"
      ]
     },
     "execution_count": 198,
     "metadata": {},
     "output_type": "execute_result"
    }
   ],
   "source": [
    "len(train_X[0])"
   ]
  },
  {
   "cell_type": "code",
   "execution_count": 199,
   "id": "a156d18e",
   "metadata": {},
   "outputs": [
    {
     "data": {
      "text/plain": [
       "array([  151,  4711,  2053,     9,     5,     1,    61,    76,  2053,\n",
       "        6372, 12918,    13,    12,     0,     0])"
      ]
     },
     "execution_count": 199,
     "metadata": {},
     "output_type": "execute_result"
    }
   ],
   "source": [
    "train_X[0][:50]"
   ]
  },
  {
   "cell_type": "code",
   "execution_count": 200,
   "id": "b8e03a2e",
   "metadata": {},
   "outputs": [],
   "source": [
    "train_y_final_output = []\n",
    "for i in train_y:\n",
    "    train_y_final_output.append(i[1:]) \n",
    "\n",
    "train_y_final_output = pad_sequences(train_y_final_output, MAX_ANSWER_LENGTH, padding='post', truncating='post')"
   ]
  },
  {
   "cell_type": "code",
   "execution_count": 201,
   "id": "8e12f52e",
   "metadata": {},
   "outputs": [
    {
     "data": {
      "text/plain": [
       "array([10690,    16,    14,    33,    11,   565,    64,     6,  5014,\n",
       "        2215,    89,    86,     1,  1811,     0])"
      ]
     },
     "execution_count": 201,
     "metadata": {},
     "output_type": "execute_result"
    }
   ],
   "source": [
    "train_y_final_output[0][:50]"
   ]
  },
  {
   "cell_type": "code",
   "execution_count": 202,
   "id": "7623de13",
   "metadata": {},
   "outputs": [
    {
     "data": {
      "text/plain": [
       "array([    3, 10690,    16,    14,    33,    11,   565,    64,     6,\n",
       "        5014,  2215,    89,    86,     1,  1811])"
      ]
     },
     "execution_count": 202,
     "metadata": {},
     "output_type": "execute_result"
    }
   ],
   "source": [
    "train_y[0][:50]"
   ]
  },
  {
   "cell_type": "code",
   "execution_count": 203,
   "id": "913af392",
   "metadata": {},
   "outputs": [],
   "source": [
    "from tensorflow.keras.utils import to_categorical\n",
    "train_y_final_output = to_categorical(train_y_final_output, MAX_NB_WORDS)"
   ]
  },
  {
   "cell_type": "code",
   "execution_count": 205,
   "id": "e4eb2a53",
   "metadata": {},
   "outputs": [],
   "source": [
    "from tensorflow.keras.models import Model\n",
    "from tensorflow.keras.layers import Dense, Embedding, LSTM, Input\n",
    "\n",
    "\n",
    "enc_inp = Input(shape=(15, ))\n",
    "dec_inp = Input(shape=(15, ))"
   ]
  },
  {
   "cell_type": "code",
   "execution_count": 207,
   "id": "716cab81",
   "metadata": {},
   "outputs": [],
   "source": [
    "VOCAB_SIZE = MAX_NB_WORDS\n",
    "embed = Embedding(VOCAB_SIZE+1, output_dim=15, \n",
    "                  input_length=15,\n",
    "                  trainable=True                  \n",
    "                  )"
   ]
  },
  {
   "cell_type": "code",
   "execution_count": 208,
   "id": "6a579923",
   "metadata": {},
   "outputs": [],
   "source": [
    "enc_embed = embed(enc_inp)\n",
    "enc_lstm = LSTM(200, return_sequences=True, return_state=True)\n",
    "enc_op, h, c = enc_lstm(enc_embed)\n",
    "enc_states = [h, c]\n"
   ]
  },
  {
   "cell_type": "code",
   "execution_count": 209,
   "id": "b9b62efe",
   "metadata": {},
   "outputs": [],
   "source": [
    "embed2 = Embedding(VOCAB_SIZE+1, output_dim=15, \n",
    "                  input_length=15,\n",
    "                  trainable=True                  \n",
    "                  )"
   ]
  },
  {
   "cell_type": "code",
   "execution_count": 210,
   "id": "8f7654da",
   "metadata": {},
   "outputs": [],
   "source": [
    "dec_embed = embed2(dec_inp)\n",
    "dec_lstm = LSTM(200, return_sequences=True, return_state=True)\n",
    "dec_op, _, _ = dec_lstm(dec_embed, initial_state=enc_states)"
   ]
  },
  {
   "cell_type": "code",
   "execution_count": 211,
   "id": "9ca887a7",
   "metadata": {},
   "outputs": [
    {
     "name": "stdout",
     "output_type": "stream",
     "text": [
      "Model: \"model_13\"\n",
      "__________________________________________________________________________________________________\n",
      " Layer (type)                   Output Shape         Param #     Connected to                     \n",
      "==================================================================================================\n",
      " input_23 (InputLayer)          [(None, 15)]         0           []                               \n",
      "                                                                                                  \n",
      " input_24 (InputLayer)          [(None, 15)]         0           []                               \n",
      "                                                                                                  \n",
      " embedding_7 (Embedding)        (None, 15, 15)       210015      ['input_23[0][0]']               \n",
      "                                                                                                  \n",
      " embedding_8 (Embedding)        (None, 15, 15)       210015      ['input_24[0][0]']               \n",
      "                                                                                                  \n",
      " lstm_6 (LSTM)                  [(None, 15, 200),    172800      ['embedding_7[0][0]']            \n",
      "                                 (None, 200),                                                     \n",
      "                                 (None, 200)]                                                     \n",
      "                                                                                                  \n",
      " lstm_7 (LSTM)                  [(None, 15, 200),    172800      ['embedding_8[0][0]',            \n",
      "                                 (None, 200),                     'lstm_6[0][1]',                 \n",
      "                                 (None, 200)]                     'lstm_6[0][2]']                 \n",
      "                                                                                                  \n",
      " dense_3 (Dense)                (None, 15, 14000)    2814000     ['lstm_7[0][0]']                 \n",
      "                                                                                                  \n",
      "==================================================================================================\n",
      "Total params: 3,579,630\n",
      "Trainable params: 3,579,630\n",
      "Non-trainable params: 0\n",
      "__________________________________________________________________________________________________\n",
      "None\n"
     ]
    }
   ],
   "source": [
    "dense = Dense(VOCAB_SIZE, activation='softmax')\n",
    "dense_op = dense(dec_op)\n",
    "model = Model([enc_inp, dec_inp], dense_op)\n",
    "model.compile(loss='categorical_crossentropy',metrics=['acc'],optimizer='adam')\n",
    "print(model.summary())"
   ]
  },
  {
   "cell_type": "code",
   "execution_count": 212,
   "id": "003487f5",
   "metadata": {},
   "outputs": [
    {
     "name": "stdout",
     "output_type": "stream",
     "text": [
      "Epoch 1/5\n",
      "338/338 [==============================] - 55s 156ms/step - loss: 5.8733 - acc: 0.1285 - val_loss: 5.3969 - val_acc: 0.1490\n",
      "Epoch 2/5\n",
      "338/338 [==============================] - 55s 161ms/step - loss: 5.2159 - acc: 0.1617 - val_loss: 5.1730 - val_acc: 0.1725\n",
      "Epoch 3/5\n",
      "338/338 [==============================] - 52s 153ms/step - loss: 4.9858 - acc: 0.1881 - val_loss: 5.0064 - val_acc: 0.1975\n",
      "Epoch 4/5\n",
      "338/338 [==============================] - 52s 154ms/step - loss: 4.7667 - acc: 0.2154 - val_loss: 4.7887 - val_acc: 0.2318\n",
      "Epoch 5/5\n",
      "338/338 [==============================] - 54s 159ms/step - loss: 4.5102 - acc: 0.2535 - val_loss: 4.5843 - val_acc: 0.2647\n"
     ]
    },
    {
     "data": {
      "text/plain": [
       "<keras.callbacks.History at 0x218cc788880>"
      ]
     },
     "execution_count": 212,
     "metadata": {},
     "output_type": "execute_result"
    }
   ],
   "source": [
    "model.fit([train_X, train_y],train_y_final_output,epochs=5, validation_split=0.2,\n",
    "    callbacks=[EarlyStopping(monitor='val_loss', patience=3, min_delta=0.0001)])"
   ]
  },
  {
   "cell_type": "code",
   "execution_count": 213,
   "id": "bc096244",
   "metadata": {},
   "outputs": [],
   "source": [
    "enc_model = Model(enc_inp, enc_states)"
   ]
  },
  {
   "cell_type": "code",
   "execution_count": 214,
   "id": "1c3350f3",
   "metadata": {},
   "outputs": [],
   "source": [
    "decoder_state_input_h = Input(shape=(200,))\n",
    "decoder_state_input_c = Input(shape=(200,))"
   ]
  },
  {
   "cell_type": "code",
   "execution_count": 215,
   "id": "266166bb",
   "metadata": {},
   "outputs": [],
   "source": [
    "decoder_states_inputs = [decoder_state_input_h, decoder_state_input_c]"
   ]
  },
  {
   "cell_type": "code",
   "execution_count": 216,
   "id": "c04cc3c9",
   "metadata": {},
   "outputs": [],
   "source": [
    "decoder_outputs, state_h, state_c = dec_lstm(dec_embed , \n",
    "                                    initial_state=decoder_states_inputs)\n",
    "decoder_states = [state_h, state_c]\n",
    "#decoder_outputs = dense(decoder_outputs)"
   ]
  },
  {
   "cell_type": "code",
   "execution_count": 217,
   "id": "14f9246d",
   "metadata": {},
   "outputs": [],
   "source": [
    "dec_model = Model([dec_inp]+ decoder_states_inputs,\n",
    "                                      [decoder_outputs]+ decoder_states)"
   ]
  },
  {
   "cell_type": "code",
   "execution_count": 224,
   "id": "fe6fdd32",
   "metadata": {},
   "outputs": [
    {
     "data": {
      "text/plain": [
       "[[113,\n",
       "  7,\n",
       "  3289,\n",
       "  301,\n",
       "  134,\n",
       "  1200,\n",
       "  37,\n",
       "  11,\n",
       "  74,\n",
       "  752,\n",
       "  196,\n",
       "  38,\n",
       "  17,\n",
       "  6,\n",
       "  1463,\n",
       "  2175,\n",
       "  778,\n",
       "  822,\n",
       "  1,\n",
       "  1409,\n",
       "  82,\n",
       "  15,\n",
       "  1009,\n",
       "  685,\n",
       "  235,\n",
       "  446,\n",
       "  6,\n",
       "  5617,\n",
       "  183,\n",
       "  636,\n",
       "  243,\n",
       "  27,\n",
       "  337,\n",
       "  499,\n",
       "  42,\n",
       "  532,\n",
       "  21,\n",
       "  196,\n",
       "  1045,\n",
       "  813,\n",
       "  1009,\n",
       "  313]]"
      ]
     },
     "execution_count": 224,
     "metadata": {},
     "output_type": "execute_result"
    }
   ],
   "source": [
    "test_question = tokenizer.texts_to_sequences([test_data['User'].values[100]])\n",
    "\n",
    "#test_question = tokenizer.texts_to_sequences([train_data['User'].values[0]])\n",
    "test_question"
   ]
  },
  {
   "cell_type": "code",
   "execution_count": 225,
   "id": "3f44dda5",
   "metadata": {},
   "outputs": [
    {
     "data": {
      "text/plain": [
       "array([[ 113,    7, 3289,  301,  134, 1200,   37,   11,   74,  752,  196,\n",
       "          38,   17,    6, 1463]])"
      ]
     },
     "execution_count": 225,
     "metadata": {},
     "output_type": "execute_result"
    }
   ],
   "source": [
    "test_X = pad_sequences(test_question, maxlen=MAX_QUESTION_LENGTH, padding='post', truncating='post')\n",
    "test_X"
   ]
  },
  {
   "cell_type": "code",
   "execution_count": 226,
   "id": "25f1a843",
   "metadata": {},
   "outputs": [],
   "source": [
    "test_answer = enc_model.predict( test_X )"
   ]
  },
  {
   "cell_type": "code",
   "execution_count": 227,
   "id": "ff8c8729",
   "metadata": {},
   "outputs": [
    {
     "data": {
      "text/plain": [
       "array([[0.]])"
      ]
     },
     "execution_count": 227,
     "metadata": {},
     "output_type": "execute_result"
    }
   ],
   "source": [
    "empty_target_seq = np.zeros( ( 1 , 1) )\n",
    "empty_target_seq"
   ]
  },
  {
   "cell_type": "code",
   "execution_count": 228,
   "id": "240eca25",
   "metadata": {},
   "outputs": [
    {
     "data": {
      "text/plain": [
       "array([[3.]])"
      ]
     },
     "execution_count": 228,
     "metadata": {},
     "output_type": "execute_result"
    }
   ],
   "source": [
    "empty_target_seq[0, 0] = tokenizer.texts_to_sequences(['sos'])[0][0]\n",
    "empty_target_seq"
   ]
  },
  {
   "cell_type": "code",
   "execution_count": 229,
   "id": "cec7fa58",
   "metadata": {},
   "outputs": [
    {
     "name": "stdout",
     "output_type": "stream",
     "text": [
      "\n",
      " [\"here that's thanks i hello sorry hey we're we hi\"]\n",
      "\n",
      " 36\n",
      "\n",
      "hi \n",
      "hi there \n",
      "hi there we \n",
      "hi there we can \n",
      "hi there we can you \n",
      "hi there we can you dm \n",
      "hi there we can you dm us \n",
      "hi there we can you dm us your \n",
      "hi there we can you dm us your account's \n",
      "hi there we can you dm us your account's email \n",
      "hi there we can you dm us your account's email address \n",
      "hi there we can you dm us your account's email address and \n",
      "hi there we can you dm us your account's email address and can \n",
      "hi there we can you dm us your account's email address and can you \n",
      "hi there we can you dm us your account's email address and can you  \n",
      "hi there we can you dm us your account's email address and can you   \n",
      "hi there we can you dm us your account's email address and can you    \n",
      "hi there we can you dm us your account's email address and can you     \n",
      "hi there we can you dm us your account's email address and can you      \n",
      "hi there we can you dm us your account's email address and can you       \n",
      "hi there we can you dm us your account's email address and can you        \n",
      "hi there we can you dm us your account's email address and can you         \n",
      "hi there we can you dm us your account's email address and can you          \n",
      "hi there we can you dm us your account's email address and can you           \n",
      "hi there we can you dm us your account's email address and can you            \n",
      "hi there we can you dm us your account's email address and can you             \n",
      "hi there we can you dm us your account's email address and can you              \n",
      "hi there we can you dm us your account's email address and can you               \n",
      "hi there we can you dm us your account's email address and can you                \n",
      "hi there we can you dm us your account's email address and can you                 \n",
      "hi there we can you dm us your account's email address and can you                  \n",
      "hi there we can you dm us your account's email address and can you                   \n",
      "hi there we can you dm us your account's email address and can you                    \n",
      "hi there we can you dm us your account's email address and can you                     \n",
      "hi there we can you dm us your account's email address and can you                      \n",
      "hi there we can you dm us your account's email address and can you                       \n",
      "hi there we can you dm us your account's email address and can you                        \n",
      "hi there we can you dm us your account's email address and can you                         \n",
      "hi there we can you dm us your account's email address and can you                          \n",
      "hi there we can you dm us your account's email address and can you                           \n",
      "hi there we can you dm us your account's email address and can you                            \n",
      "hi there we can you dm us your account's email address and can you                             \n",
      "hi there we can you dm us your account's email address and can you                              \n",
      "hi there we can you dm us your account's email address and can you                               \n",
      "hi there we can you dm us your account's email address and can you                                \n",
      "hi there we can you dm us your account's email address and can you                                 \n",
      "hi there we can you dm us your account's email address and can you                                  \n",
      "hi there we can you dm us your account's email address and can you                                   \n",
      "hi there we can you dm us your account's email address and can you                                    \n",
      "hi there we can you dm us your account's email address and can you                                     \n",
      "hi there we can you dm us your account's email address and can you                                      \n",
      "hi there we can you dm us your account's email address and can you                                       \n",
      "hi there we can you dm us your account's email address and can you                                        \n",
      "hi there we can you dm us your account's email address and can you                                         \n",
      "hi there we can you dm us your account's email address and can you                                          \n",
      "hi there we can you dm us your account's email address and can you                                           \n",
      "hi there we can you dm us your account's email address and can you                                            \n",
      "hi there we can you dm us your account's email address and can you                                             \n",
      "hi there we can you dm us your account's email address and can you                                              \n",
      "hi there we can you dm us your account's email address and can you                                               \n",
      "hi there we can you dm us your account's email address and can you                                                \n",
      "hi there we can you dm us your account's email address and can you                                                 \n",
      "hi there we can you dm us your account's email address and can you                                                  \n",
      "hi there we can you dm us your account's email address and can you                                                   \n",
      "hi there we can you dm us your account's email address and can you                                                    \n",
      "hi there we can you dm us your account's email address and can you                                                     \n",
      "hi there we can you dm us your account's email address and can you                                                      \n",
      "hi there we can you dm us your account's email address and can you                                                       \n",
      "hi there we can you dm us your account's email address and can you                                                        \n",
      "hi there we can you dm us your account's email address and can you                                                         \n",
      "hi there we can you dm us your account's email address and can you                                                          \n",
      "hi there we can you dm us your account's email address and can you                                                           \n",
      "hi there we can you dm us your account's email address and can you                                                            \n",
      "hi there we can you dm us your account's email address and can you                                                             \n",
      "hi there we can you dm us your account's email address and can you                                                              \n",
      "hi there we can you dm us your account's email address and can you                                                               \n",
      "hi there we can you dm us your account's email address and can you                                                                \n",
      "hi there we can you dm us your account's email address and can you                                                                 \n",
      "hi there we can you dm us your account's email address and can you                                                                  \n",
      "hi there we can you dm us your account's email address and can you                                                                   \n",
      "hi there we can you dm us your account's email address and can you                                                                    \n",
      "hi there we can you dm us your account's email address and can you                                                                     \n",
      "hi there we can you dm us your account's email address and can you                                                                      \n",
      "hi there we can you dm us your account's email address and can you                                                                       \n",
      "hi there we can you dm us your account's email address and can you                                                                        \n",
      "hi there we can you dm us your account's email address and can you                                                                         \n",
      "hi there we can you dm us your account's email address and can you                                                                          \n",
      "hi there we can you dm us your account's email address and can you                                                                           \n",
      "hi there we can you dm us your account's email address and can you                                                                            \n",
      "hi there we can you dm us your account's email address and can you                                                                             \n",
      "hi there we can you dm us your account's email address and can you                                                                              \n",
      "hi there we can you dm us your account's email address and can you                                                                               \n"
     ]
    },
    {
     "name": "stdout",
     "output_type": "stream",
     "text": [
      "hi there we can you dm us your account's email address and can you                                                                                \n",
      "hi there we can you dm us your account's email address and can you                                                                                 \n",
      "hi there we can you dm us your account's email address and can you                                                                                  \n",
      "hi there we can you dm us your account's email address and can you                                                                                   \n",
      "hi there we can you dm us your account's email address and can you                                                                                    \n",
      "hi there we can you dm us your account's email address and can you                                                                                     \n",
      "hi there we can you dm us your account's email address and can you                                                                                      \n",
      "hi there we can you dm us your account's email address and can you                                                                                       \n",
      "hi there we can you dm us your account's email address and can you                                                                                        \n",
      "hi there we can you dm us your account's email address and can you                                                                                         \n",
      "hi there we can you dm us your account's email address and can you                                                                                          \n",
      "hi there we can you dm us your account's email address and can you                                                                                           \n",
      "hi there we can you dm us your account's email address and can you                                                                                            \n",
      "hi there we can you dm us your account's email address and can you                                                                                             \n",
      "hi there we can you dm us your account's email address and can you                                                                                              \n",
      "hi there we can you dm us your account's email address and can you                                                                                               \n",
      "hi there we can you dm us your account's email address and can you                                                                                                \n",
      "hi there we can you dm us your account's email address and can you                                                                                                 \n",
      "hi there we can you dm us your account's email address and can you                                                                                                  \n",
      "hi there we can you dm us your account's email address and can you                                                                                                   \n",
      "hi there we can you dm us your account's email address and can you                                                                                                    \n",
      "hi there we can you dm us your account's email address and can you                                                                                                     \n",
      "hi there we can you dm us your account's email address and can you                                                                                                      \n",
      "hi there we can you dm us your account's email address and can you                                                                                                       \n",
      "hi there we can you dm us your account's email address and can you                                                                                                        \n",
      "hi there we can you dm us your account's email address and can you                                                                                                         \n",
      "hi there we can you dm us your account's email address and can you                                                                                                          \n",
      "hi there we can you dm us your account's email address and can you                                                                                                           \n",
      "hi there we can you dm us your account's email address and can you                                                                                                            \n",
      "hi there we can you dm us your account's email address and can you                                                                                                             \n",
      "hi there we can you dm us your account's email address and can you                                                                                                              \n",
      "hi there we can you dm us your account's email address and can you                                                                                                               \n",
      "hi there we can you dm us your account's email address and can you                                                                                                                \n",
      "hi there we can you dm us your account's email address and can you                                                                                                                 \n",
      "hi there we can you dm us your account's email address and can you                                                                                                                  \n",
      "hi there we can you dm us your account's email address and can you                                                                                                                   \n",
      "hi there we can you dm us your account's email address and can you                                                                                                                    \n",
      "hi there we can you dm us your account's email address and can you                                                                                                                     \n",
      "hi there we can you dm us your account's email address and can you                                                                                                                      \n",
      "hi there we can you dm us your account's email address and can you                                                                                                                       \n",
      "hi there we can you dm us your account's email address and can you                                                                                                                        \n",
      "hi there we can you dm us your account's email address and can you                                                                                                                         \n",
      "hi there we can you dm us your account's email address and can you                                                                                                                          \n",
      "hi there we can you dm us your account's email address and can you                                                                                                                           \n",
      "hi there we can you dm us your account's email address and can you                                                                                                                            \n",
      "hi there we can you dm us your account's email address and can you                                                                                                                             \n",
      "hi there we can you dm us your account's email address and can you                                                                                                                              \n",
      "hi there we can you dm us your account's email address and can you                                                                                                                               \n",
      "hi there we can you dm us your account's email address and can you                                                                                                                                \n",
      "hi there we can you dm us your account's email address and can you                                                                                                                                 \n",
      "hi there we can you dm us your account's email address and can you                                                                                                                                  \n",
      "hi there we can you dm us your account's email address and can you                                                                                                                                   \n",
      "hi there we can you dm us your account's email address and can you                                                                                                                                    \n"
     ]
    },
    {
     "name": "stdout",
     "output_type": "stream",
     "text": [
      "hi there we can you dm us your account's email address and can you                                                                                                                                     \n",
      "hi there we can you dm us your account's email address and can you                                                                                                                                      \n",
      "hi there we can you dm us your account's email address and can you                                                                                                                                       \n",
      "hi there we can you dm us your account's email address and can you                                                                                                                                        \n",
      "hi there we can you dm us your account's email address and can you                                                                                                                                         \n",
      "hi there we can you dm us your account's email address and can you                                                                                                                                          \n",
      "hi there we can you dm us your account's email address and can you                                                                                                                                           \n",
      "hi there we can you dm us your account's email address and can you                                                                                                                                            \n",
      "hi there we can you dm us your account's email address and can you                                                                                                                                             \n",
      "hi there we can you dm us your account's email address and can you                                                                                                                                              \n",
      "hi there we can you dm us your account's email address and can you                                                                                                                                               \n",
      "hi there we can you dm us your account's email address and can you                                                                                                                                                \n",
      "hi there we can you dm us your account's email address and can you                                                                                                                                                 \n",
      "hi there we can you dm us your account's email address and can you                                                                                                                                                  \n",
      "hi there we can you dm us your account's email address and can you                                                                                                                                                   \n",
      "hi there we can you dm us your account's email address and can you                                                                                                                                                    \n",
      "hi there we can you dm us your account's email address and can you                                                                                                                                                     \n",
      "hi there we can you dm us your account's email address and can you                                                                                                                                                      \n",
      "hi there we can you dm us your account's email address and can you                                                                                                                                                       \n",
      "hi there we can you dm us your account's email address and can you                                                                                                                                                        \n",
      "hi there we can you dm us your account's email address and can you                                                                                                                                                         \n",
      "hi there we can you dm us your account's email address and can you                                                                                                                                                          \n",
      "hi there we can you dm us your account's email address and can you                                                                                                                                                           \n",
      "hi there we can you dm us your account's email address and can you                                                                                                                                                            \n",
      "hi there we can you dm us your account's email address and can you                                                                                                                                                             \n",
      "hi there we can you dm us your account's email address and can you                                                                                                                                                              \n",
      "hi there we can you dm us your account's email address and can you                                                                                                                                                               \n",
      "hi there we can you dm us your account's email address and can you                                                                                                                                                                \n",
      "hi there we can you dm us your account's email address and can you                                                                                                                                                                 \n",
      "hi there we can you dm us your account's email address and can you                                                                                                                                                                  \n",
      "hi there we can you dm us your account's email address and can you                                                                                                                                                                   \n",
      "hi there we can you dm us your account's email address and can you                                                                                                                                                                    \n",
      "hi there we can you dm us your account's email address and can you                                                                                                                                                                     \n",
      "hi there we can you dm us your account's email address and can you                                                                                                                                                                      \n",
      "hi there we can you dm us your account's email address and can you                                                                                                                                                                       \n",
      "hi there we can you dm us your account's email address and can you                                                                                                                                                                        \n",
      "hi there we can you dm us your account's email address and can you                                                                                                                                                                         \n",
      "hi there we can you dm us your account's email address and can you                                                                                                                                                                          \n",
      "hi there we can you dm us your account's email address and can you                                                                                                                                                                           \n",
      "hi there we can you dm us your account's email address and can you                                                                                                                                                                            \n",
      "hi there we can you dm us your account's email address and can you                                                                                                                                                                             \n",
      "hi there we can you dm us your account's email address and can you                                                                                                                                                                              \n"
     ]
    },
    {
     "name": "stdout",
     "output_type": "stream",
     "text": [
      "hi there we can you dm us your account's email address and can you                                                                                                                                                                               \n",
      "hi there we can you dm us your account's email address and can you                                                                                                                                                                                \n",
      "hi there we can you dm us your account's email address and can you                                                                                                                                                                                 \n",
      "hi there we can you dm us your account's email address and can you                                                                                                                                                                                  \n",
      "hi there we can you dm us your account's email address and can you                                                                                                                                                                                   \n",
      "hi there we can you dm us your account's email address and can you                                                                                                                                                                                    \n",
      "hi there we can you dm us your account's email address and can you                                                                                                                                                                                     \n",
      "hi there we can you dm us your account's email address and can you                                                                                                                                                                                      \n",
      "hi there we can you dm us your account's email address and can you                                                                                                                                                                                       \n",
      "hi there we can you dm us your account's email address and can you                                                                                                                                                                                        \n",
      "hi there we can you dm us your account's email address and can you                                                                                                                                                                                         \n",
      "hi there we can you dm us your account's email address and can you                                                                                                                                                                                          \n",
      "hi there we can you dm us your account's email address and can you                                                                                                                                                                                           \n",
      "hi there we can you dm us your account's email address and can you                                                                                                                                                                                            \n",
      "hi there we can you dm us your account's email address and can you                                                                                                                                                                                             \n",
      "hi there we can you dm us your account's email address and can you                                                                                                                                                                                              \n",
      "hi there we can you dm us your account's email address and can you                                                                                                                                                                                               \n"
     ]
    },
    {
     "ename": "KeyboardInterrupt",
     "evalue": "",
     "output_type": "error",
     "traceback": [
      "\u001b[1;31m---------------------------------------------------------------------------\u001b[0m",
      "\u001b[1;31mKeyboardInterrupt\u001b[0m                         Traceback (most recent call last)",
      "Input \u001b[1;32mIn [229]\u001b[0m, in \u001b[0;36m<cell line: 4>\u001b[1;34m()\u001b[0m\n\u001b[0;32m      3\u001b[0m i \u001b[38;5;241m=\u001b[39m \u001b[38;5;241m0\u001b[39m\n\u001b[0;32m      4\u001b[0m \u001b[38;5;28;01mwhile\u001b[39;00m \u001b[38;5;129;01mnot\u001b[39;00m stop_condition :\n\u001b[1;32m----> 5\u001b[0m     dec_outputs , h, c\u001b[38;5;241m=\u001b[39m \u001b[43mdec_model\u001b[49m\u001b[38;5;241;43m.\u001b[39;49m\u001b[43mpredict\u001b[49m\u001b[43m(\u001b[49m\u001b[43m[\u001b[49m\u001b[43mempty_target_seq\u001b[49m\u001b[43m]\u001b[49m\u001b[43m \u001b[49m\u001b[38;5;241;43m+\u001b[39;49m\u001b[43m \u001b[49m\u001b[43mtest_answer\u001b[49m\u001b[43m \u001b[49m\u001b[43m)\u001b[49m\n\u001b[0;32m      6\u001b[0m     decoder_concat_input \u001b[38;5;241m=\u001b[39m dense(dec_outputs)\n\u001b[0;32m      7\u001b[0m     sampled_word_index \u001b[38;5;241m=\u001b[39m np\u001b[38;5;241m.\u001b[39margmax( decoder_concat_input[\u001b[38;5;241m0\u001b[39m, \u001b[38;5;241m-\u001b[39m\u001b[38;5;241m1\u001b[39m, :] )\n",
      "File \u001b[1;32md:\\projects\\python projects\\pythonproject-3.8\\venv\\lib\\site-packages\\keras\\utils\\traceback_utils.py:64\u001b[0m, in \u001b[0;36mfilter_traceback.<locals>.error_handler\u001b[1;34m(*args, **kwargs)\u001b[0m\n\u001b[0;32m     62\u001b[0m filtered_tb \u001b[38;5;241m=\u001b[39m \u001b[38;5;28;01mNone\u001b[39;00m\n\u001b[0;32m     63\u001b[0m \u001b[38;5;28;01mtry\u001b[39;00m:\n\u001b[1;32m---> 64\u001b[0m   \u001b[38;5;28;01mreturn\u001b[39;00m \u001b[43mfn\u001b[49m\u001b[43m(\u001b[49m\u001b[38;5;241;43m*\u001b[39;49m\u001b[43margs\u001b[49m\u001b[43m,\u001b[49m\u001b[43m \u001b[49m\u001b[38;5;241;43m*\u001b[39;49m\u001b[38;5;241;43m*\u001b[39;49m\u001b[43mkwargs\u001b[49m\u001b[43m)\u001b[49m\n\u001b[0;32m     65\u001b[0m \u001b[38;5;28;01mexcept\u001b[39;00m \u001b[38;5;167;01mException\u001b[39;00m \u001b[38;5;28;01mas\u001b[39;00m e:  \u001b[38;5;66;03m# pylint: disable=broad-except\u001b[39;00m\n\u001b[0;32m     66\u001b[0m   filtered_tb \u001b[38;5;241m=\u001b[39m _process_traceback_frames(e\u001b[38;5;241m.\u001b[39m__traceback__)\n",
      "File \u001b[1;32md:\\projects\\python projects\\pythonproject-3.8\\venv\\lib\\site-packages\\keras\\engine\\training.py:1951\u001b[0m, in \u001b[0;36mModel.predict\u001b[1;34m(self, x, batch_size, verbose, steps, callbacks, max_queue_size, workers, use_multiprocessing)\u001b[0m\n\u001b[0;32m   1944\u001b[0m   \u001b[38;5;28;01mexcept\u001b[39;00m \u001b[38;5;167;01mValueError\u001b[39;00m:\n\u001b[0;32m   1945\u001b[0m     warnings\u001b[38;5;241m.\u001b[39mwarn(\n\u001b[0;32m   1946\u001b[0m         \u001b[38;5;124m'\u001b[39m\u001b[38;5;124mUsing Model.predict with MultiWorkerMirroredStrategy or \u001b[39m\u001b[38;5;124m'\u001b[39m\n\u001b[0;32m   1947\u001b[0m         \u001b[38;5;124m'\u001b[39m\u001b[38;5;124mTPUStrategy and AutoShardPolicy.FILE might lead to out-of-order \u001b[39m\u001b[38;5;124m'\u001b[39m\n\u001b[0;32m   1948\u001b[0m         \u001b[38;5;124m'\u001b[39m\u001b[38;5;124mresult. Consider setting it to AutoShardPolicy.DATA.\u001b[39m\u001b[38;5;124m'\u001b[39m,\n\u001b[0;32m   1949\u001b[0m         stacklevel\u001b[38;5;241m=\u001b[39m\u001b[38;5;241m2\u001b[39m)\n\u001b[1;32m-> 1951\u001b[0m data_handler \u001b[38;5;241m=\u001b[39m \u001b[43mdata_adapter\u001b[49m\u001b[38;5;241;43m.\u001b[39;49m\u001b[43mget_data_handler\u001b[49m\u001b[43m(\u001b[49m\n\u001b[0;32m   1952\u001b[0m \u001b[43m    \u001b[49m\u001b[43mx\u001b[49m\u001b[38;5;241;43m=\u001b[39;49m\u001b[43mx\u001b[49m\u001b[43m,\u001b[49m\n\u001b[0;32m   1953\u001b[0m \u001b[43m    \u001b[49m\u001b[43mbatch_size\u001b[49m\u001b[38;5;241;43m=\u001b[39;49m\u001b[43mbatch_size\u001b[49m\u001b[43m,\u001b[49m\n\u001b[0;32m   1954\u001b[0m \u001b[43m    \u001b[49m\u001b[43msteps_per_epoch\u001b[49m\u001b[38;5;241;43m=\u001b[39;49m\u001b[43msteps\u001b[49m\u001b[43m,\u001b[49m\n\u001b[0;32m   1955\u001b[0m \u001b[43m    \u001b[49m\u001b[43minitial_epoch\u001b[49m\u001b[38;5;241;43m=\u001b[39;49m\u001b[38;5;241;43m0\u001b[39;49m\u001b[43m,\u001b[49m\n\u001b[0;32m   1956\u001b[0m \u001b[43m    \u001b[49m\u001b[43mepochs\u001b[49m\u001b[38;5;241;43m=\u001b[39;49m\u001b[38;5;241;43m1\u001b[39;49m\u001b[43m,\u001b[49m\n\u001b[0;32m   1957\u001b[0m \u001b[43m    \u001b[49m\u001b[43mmax_queue_size\u001b[49m\u001b[38;5;241;43m=\u001b[39;49m\u001b[43mmax_queue_size\u001b[49m\u001b[43m,\u001b[49m\n\u001b[0;32m   1958\u001b[0m \u001b[43m    \u001b[49m\u001b[43mworkers\u001b[49m\u001b[38;5;241;43m=\u001b[39;49m\u001b[43mworkers\u001b[49m\u001b[43m,\u001b[49m\n\u001b[0;32m   1959\u001b[0m \u001b[43m    \u001b[49m\u001b[43muse_multiprocessing\u001b[49m\u001b[38;5;241;43m=\u001b[39;49m\u001b[43muse_multiprocessing\u001b[49m\u001b[43m,\u001b[49m\n\u001b[0;32m   1960\u001b[0m \u001b[43m    \u001b[49m\u001b[43mmodel\u001b[49m\u001b[38;5;241;43m=\u001b[39;49m\u001b[38;5;28;43mself\u001b[39;49m\u001b[43m,\u001b[49m\n\u001b[0;32m   1961\u001b[0m \u001b[43m    \u001b[49m\u001b[43msteps_per_execution\u001b[49m\u001b[38;5;241;43m=\u001b[39;49m\u001b[38;5;28;43mself\u001b[39;49m\u001b[38;5;241;43m.\u001b[39;49m\u001b[43m_steps_per_execution\u001b[49m\u001b[43m)\u001b[49m\n\u001b[0;32m   1963\u001b[0m \u001b[38;5;66;03m# Container that configures and calls `tf.keras.Callback`s.\u001b[39;00m\n\u001b[0;32m   1964\u001b[0m \u001b[38;5;28;01mif\u001b[39;00m \u001b[38;5;129;01mnot\u001b[39;00m \u001b[38;5;28misinstance\u001b[39m(callbacks, callbacks_module\u001b[38;5;241m.\u001b[39mCallbackList):\n",
      "File \u001b[1;32md:\\projects\\python projects\\pythonproject-3.8\\venv\\lib\\site-packages\\keras\\engine\\data_adapter.py:1399\u001b[0m, in \u001b[0;36mget_data_handler\u001b[1;34m(*args, **kwargs)\u001b[0m\n\u001b[0;32m   1397\u001b[0m \u001b[38;5;28;01mif\u001b[39;00m \u001b[38;5;28mgetattr\u001b[39m(kwargs[\u001b[38;5;124m\"\u001b[39m\u001b[38;5;124mmodel\u001b[39m\u001b[38;5;124m\"\u001b[39m], \u001b[38;5;124m\"\u001b[39m\u001b[38;5;124m_cluster_coordinator\u001b[39m\u001b[38;5;124m\"\u001b[39m, \u001b[38;5;28;01mNone\u001b[39;00m):\n\u001b[0;32m   1398\u001b[0m   \u001b[38;5;28;01mreturn\u001b[39;00m _ClusterCoordinatorDataHandler(\u001b[38;5;241m*\u001b[39margs, \u001b[38;5;241m*\u001b[39m\u001b[38;5;241m*\u001b[39mkwargs)\n\u001b[1;32m-> 1399\u001b[0m \u001b[38;5;28;01mreturn\u001b[39;00m \u001b[43mDataHandler\u001b[49m\u001b[43m(\u001b[49m\u001b[38;5;241;43m*\u001b[39;49m\u001b[43margs\u001b[49m\u001b[43m,\u001b[49m\u001b[43m \u001b[49m\u001b[38;5;241;43m*\u001b[39;49m\u001b[38;5;241;43m*\u001b[39;49m\u001b[43mkwargs\u001b[49m\u001b[43m)\u001b[49m\n",
      "File \u001b[1;32md:\\projects\\python projects\\pythonproject-3.8\\venv\\lib\\site-packages\\keras\\engine\\data_adapter.py:1149\u001b[0m, in \u001b[0;36mDataHandler.__init__\u001b[1;34m(self, x, y, sample_weight, batch_size, steps_per_epoch, initial_epoch, epochs, shuffle, class_weight, max_queue_size, workers, use_multiprocessing, model, steps_per_execution, distribute)\u001b[0m\n\u001b[0;32m   1146\u001b[0m   \u001b[38;5;28mself\u001b[39m\u001b[38;5;241m.\u001b[39m_steps_per_execution \u001b[38;5;241m=\u001b[39m steps_per_execution\n\u001b[0;32m   1148\u001b[0m adapter_cls \u001b[38;5;241m=\u001b[39m select_data_adapter(x, y)\n\u001b[1;32m-> 1149\u001b[0m \u001b[38;5;28mself\u001b[39m\u001b[38;5;241m.\u001b[39m_adapter \u001b[38;5;241m=\u001b[39m \u001b[43madapter_cls\u001b[49m\u001b[43m(\u001b[49m\n\u001b[0;32m   1150\u001b[0m \u001b[43m    \u001b[49m\u001b[43mx\u001b[49m\u001b[43m,\u001b[49m\n\u001b[0;32m   1151\u001b[0m \u001b[43m    \u001b[49m\u001b[43my\u001b[49m\u001b[43m,\u001b[49m\n\u001b[0;32m   1152\u001b[0m \u001b[43m    \u001b[49m\u001b[43mbatch_size\u001b[49m\u001b[38;5;241;43m=\u001b[39;49m\u001b[43mbatch_size\u001b[49m\u001b[43m,\u001b[49m\n\u001b[0;32m   1153\u001b[0m \u001b[43m    \u001b[49m\u001b[43msteps\u001b[49m\u001b[38;5;241;43m=\u001b[39;49m\u001b[43msteps_per_epoch\u001b[49m\u001b[43m,\u001b[49m\n\u001b[0;32m   1154\u001b[0m \u001b[43m    \u001b[49m\u001b[43mepochs\u001b[49m\u001b[38;5;241;43m=\u001b[39;49m\u001b[43mepochs\u001b[49m\u001b[43m \u001b[49m\u001b[38;5;241;43m-\u001b[39;49m\u001b[43m \u001b[49m\u001b[43minitial_epoch\u001b[49m\u001b[43m,\u001b[49m\n\u001b[0;32m   1155\u001b[0m \u001b[43m    \u001b[49m\u001b[43msample_weights\u001b[49m\u001b[38;5;241;43m=\u001b[39;49m\u001b[43msample_weight\u001b[49m\u001b[43m,\u001b[49m\n\u001b[0;32m   1156\u001b[0m \u001b[43m    \u001b[49m\u001b[43mshuffle\u001b[49m\u001b[38;5;241;43m=\u001b[39;49m\u001b[43mshuffle\u001b[49m\u001b[43m,\u001b[49m\n\u001b[0;32m   1157\u001b[0m \u001b[43m    \u001b[49m\u001b[43mmax_queue_size\u001b[49m\u001b[38;5;241;43m=\u001b[39;49m\u001b[43mmax_queue_size\u001b[49m\u001b[43m,\u001b[49m\n\u001b[0;32m   1158\u001b[0m \u001b[43m    \u001b[49m\u001b[43mworkers\u001b[49m\u001b[38;5;241;43m=\u001b[39;49m\u001b[43mworkers\u001b[49m\u001b[43m,\u001b[49m\n\u001b[0;32m   1159\u001b[0m \u001b[43m    \u001b[49m\u001b[43muse_multiprocessing\u001b[49m\u001b[38;5;241;43m=\u001b[39;49m\u001b[43muse_multiprocessing\u001b[49m\u001b[43m,\u001b[49m\n\u001b[0;32m   1160\u001b[0m \u001b[43m    \u001b[49m\u001b[43mdistribution_strategy\u001b[49m\u001b[38;5;241;43m=\u001b[39;49m\u001b[43mtf\u001b[49m\u001b[38;5;241;43m.\u001b[39;49m\u001b[43mdistribute\u001b[49m\u001b[38;5;241;43m.\u001b[39;49m\u001b[43mget_strategy\u001b[49m\u001b[43m(\u001b[49m\u001b[43m)\u001b[49m\u001b[43m,\u001b[49m\n\u001b[0;32m   1161\u001b[0m \u001b[43m    \u001b[49m\u001b[43mmodel\u001b[49m\u001b[38;5;241;43m=\u001b[39;49m\u001b[43mmodel\u001b[49m\u001b[43m)\u001b[49m\n\u001b[0;32m   1163\u001b[0m strategy \u001b[38;5;241m=\u001b[39m tf\u001b[38;5;241m.\u001b[39mdistribute\u001b[38;5;241m.\u001b[39mget_strategy()\n\u001b[0;32m   1165\u001b[0m \u001b[38;5;28mself\u001b[39m\u001b[38;5;241m.\u001b[39m_current_step \u001b[38;5;241m=\u001b[39m \u001b[38;5;241m0\u001b[39m\n",
      "File \u001b[1;32md:\\projects\\python projects\\pythonproject-3.8\\venv\\lib\\site-packages\\keras\\engine\\data_adapter.py:275\u001b[0m, in \u001b[0;36mTensorLikeDataAdapter.__init__\u001b[1;34m(self, x, y, sample_weights, sample_weight_modes, batch_size, epochs, steps, shuffle, **kwargs)\u001b[0m\n\u001b[0;32m    263\u001b[0m \u001b[38;5;28mself\u001b[39m\u001b[38;5;241m.\u001b[39m_shuffle \u001b[38;5;241m=\u001b[39m shuffle\n\u001b[0;32m    264\u001b[0m \u001b[38;5;66;03m# Vectorized version of shuffle.\u001b[39;00m\n\u001b[0;32m    265\u001b[0m \u001b[38;5;66;03m# This is a performance improvement over using `from_tensor_slices`.\u001b[39;00m\n\u001b[0;32m    266\u001b[0m \u001b[38;5;66;03m# The indices of the data are shuffled and batched, and these indices\u001b[39;00m\n\u001b[1;32m   (...)\u001b[0m\n\u001b[0;32m    272\u001b[0m \u001b[38;5;66;03m# 4. optimized permutation batching\u001b[39;00m\n\u001b[0;32m    273\u001b[0m \u001b[38;5;66;03m# 5. disabled static optimizations\u001b[39;00m\n\u001b[1;32m--> 275\u001b[0m indices_dataset \u001b[38;5;241m=\u001b[39m \u001b[43mtf\u001b[49m\u001b[38;5;241;43m.\u001b[39;49m\u001b[43mdata\u001b[49m\u001b[38;5;241;43m.\u001b[39;49m\u001b[43mDataset\u001b[49m\u001b[38;5;241;43m.\u001b[39;49m\u001b[43mrange\u001b[49m\u001b[43m(\u001b[49m\u001b[38;5;241;43m1\u001b[39;49m\u001b[43m)\u001b[49m\n\u001b[0;32m    276\u001b[0m \u001b[38;5;28;01mif\u001b[39;00m shuffle \u001b[38;5;241m!=\u001b[39m \u001b[38;5;124m\"\u001b[39m\u001b[38;5;124mbatch\u001b[39m\u001b[38;5;124m\"\u001b[39m:\n\u001b[0;32m    277\u001b[0m   indices_dataset \u001b[38;5;241m=\u001b[39m indices_dataset\u001b[38;5;241m.\u001b[39mrepeat(epochs)\n",
      "File \u001b[1;32md:\\projects\\python projects\\pythonproject-3.8\\venv\\lib\\site-packages\\tensorflow\\python\\data\\ops\\dataset_ops.py:1180\u001b[0m, in \u001b[0;36mDatasetV2.range\u001b[1;34m(*args, **kwargs)\u001b[0m\n\u001b[0;32m   1144\u001b[0m \u001b[38;5;129m@staticmethod\u001b[39m\n\u001b[0;32m   1145\u001b[0m \u001b[38;5;28;01mdef\u001b[39;00m \u001b[38;5;21mrange\u001b[39m(\u001b[38;5;241m*\u001b[39margs, \u001b[38;5;241m*\u001b[39m\u001b[38;5;241m*\u001b[39mkwargs):\n\u001b[0;32m   1146\u001b[0m   \u001b[38;5;124;03m\"\"\"Creates a `Dataset` of a step-separated range of values.\u001b[39;00m\n\u001b[0;32m   1147\u001b[0m \n\u001b[0;32m   1148\u001b[0m \u001b[38;5;124;03m  >>> list(Dataset.range(5).as_numpy_iterator())\u001b[39;00m\n\u001b[1;32m   (...)\u001b[0m\n\u001b[0;32m   1178\u001b[0m \u001b[38;5;124;03m    ValueError: if len(args) == 0.\u001b[39;00m\n\u001b[0;32m   1179\u001b[0m \u001b[38;5;124;03m  \"\"\"\u001b[39;00m\n\u001b[1;32m-> 1180\u001b[0m   \u001b[38;5;28;01mreturn\u001b[39;00m \u001b[43mRangeDataset\u001b[49m\u001b[43m(\u001b[49m\u001b[38;5;241;43m*\u001b[39;49m\u001b[43margs\u001b[49m\u001b[43m,\u001b[49m\u001b[43m \u001b[49m\u001b[38;5;241;43m*\u001b[39;49m\u001b[38;5;241;43m*\u001b[39;49m\u001b[43mkwargs\u001b[49m\u001b[43m)\u001b[49m\n",
      "File \u001b[1;32md:\\projects\\python projects\\pythonproject-3.8\\venv\\lib\\site-packages\\tensorflow\\python\\data\\ops\\dataset_ops.py:4707\u001b[0m, in \u001b[0;36mRangeDataset.__init__\u001b[1;34m(self, *args, **kwargs)\u001b[0m\n\u001b[0;32m   4705\u001b[0m \u001b[38;5;28mself\u001b[39m\u001b[38;5;241m.\u001b[39m_parse_args(\u001b[38;5;241m*\u001b[39margs, \u001b[38;5;241m*\u001b[39m\u001b[38;5;241m*\u001b[39mkwargs)\n\u001b[0;32m   4706\u001b[0m \u001b[38;5;28mself\u001b[39m\u001b[38;5;241m.\u001b[39m_structure \u001b[38;5;241m=\u001b[39m tensor_spec\u001b[38;5;241m.\u001b[39mTensorSpec([], \u001b[38;5;28mself\u001b[39m\u001b[38;5;241m.\u001b[39m_output_type)\n\u001b[1;32m-> 4707\u001b[0m variant_tensor \u001b[38;5;241m=\u001b[39m \u001b[43mgen_dataset_ops\u001b[49m\u001b[38;5;241;43m.\u001b[39;49m\u001b[43mrange_dataset\u001b[49m\u001b[43m(\u001b[49m\n\u001b[0;32m   4708\u001b[0m \u001b[43m    \u001b[49m\u001b[43mstart\u001b[49m\u001b[38;5;241;43m=\u001b[39;49m\u001b[38;5;28;43mself\u001b[39;49m\u001b[38;5;241;43m.\u001b[39;49m\u001b[43m_start\u001b[49m\u001b[43m,\u001b[49m\n\u001b[0;32m   4709\u001b[0m \u001b[43m    \u001b[49m\u001b[43mstop\u001b[49m\u001b[38;5;241;43m=\u001b[39;49m\u001b[38;5;28;43mself\u001b[39;49m\u001b[38;5;241;43m.\u001b[39;49m\u001b[43m_stop\u001b[49m\u001b[43m,\u001b[49m\n\u001b[0;32m   4710\u001b[0m \u001b[43m    \u001b[49m\u001b[43mstep\u001b[49m\u001b[38;5;241;43m=\u001b[39;49m\u001b[38;5;28;43mself\u001b[39;49m\u001b[38;5;241;43m.\u001b[39;49m\u001b[43m_step\u001b[49m\u001b[43m,\u001b[49m\n\u001b[0;32m   4711\u001b[0m \u001b[43m    \u001b[49m\u001b[38;5;241;43m*\u001b[39;49m\u001b[38;5;241;43m*\u001b[39;49m\u001b[38;5;28;43mself\u001b[39;49m\u001b[38;5;241;43m.\u001b[39;49m\u001b[43m_common_args\u001b[49m\u001b[43m)\u001b[49m\n\u001b[0;32m   4712\u001b[0m \u001b[38;5;28msuper\u001b[39m(RangeDataset, \u001b[38;5;28mself\u001b[39m)\u001b[38;5;241m.\u001b[39m\u001b[38;5;21m__init__\u001b[39m(variant_tensor)\n",
      "File \u001b[1;32md:\\projects\\python projects\\pythonproject-3.8\\venv\\lib\\site-packages\\tensorflow\\python\\ops\\gen_dataset_ops.py:6057\u001b[0m, in \u001b[0;36mrange_dataset\u001b[1;34m(start, stop, step, output_types, output_shapes, metadata, name)\u001b[0m\n\u001b[0;32m   6055\u001b[0m \u001b[38;5;28;01mif\u001b[39;00m tld\u001b[38;5;241m.\u001b[39mis_eager:\n\u001b[0;32m   6056\u001b[0m   \u001b[38;5;28;01mtry\u001b[39;00m:\n\u001b[1;32m-> 6057\u001b[0m     _result \u001b[38;5;241m=\u001b[39m \u001b[43mpywrap_tfe\u001b[49m\u001b[38;5;241;43m.\u001b[39;49m\u001b[43mTFE_Py_FastPathExecute\u001b[49m\u001b[43m(\u001b[49m\n\u001b[0;32m   6058\u001b[0m \u001b[43m      \u001b[49m\u001b[43m_ctx\u001b[49m\u001b[43m,\u001b[49m\u001b[43m \u001b[49m\u001b[38;5;124;43m\"\u001b[39;49m\u001b[38;5;124;43mRangeDataset\u001b[39;49m\u001b[38;5;124;43m\"\u001b[39;49m\u001b[43m,\u001b[49m\u001b[43m \u001b[49m\u001b[43mname\u001b[49m\u001b[43m,\u001b[49m\u001b[43m \u001b[49m\u001b[43mstart\u001b[49m\u001b[43m,\u001b[49m\u001b[43m \u001b[49m\u001b[43mstop\u001b[49m\u001b[43m,\u001b[49m\u001b[43m \u001b[49m\u001b[43mstep\u001b[49m\u001b[43m,\u001b[49m\u001b[43m \u001b[49m\u001b[38;5;124;43m\"\u001b[39;49m\u001b[38;5;124;43moutput_types\u001b[39;49m\u001b[38;5;124;43m\"\u001b[39;49m\u001b[43m,\u001b[49m\n\u001b[0;32m   6059\u001b[0m \u001b[43m      \u001b[49m\u001b[43moutput_types\u001b[49m\u001b[43m,\u001b[49m\u001b[43m \u001b[49m\u001b[38;5;124;43m\"\u001b[39;49m\u001b[38;5;124;43moutput_shapes\u001b[39;49m\u001b[38;5;124;43m\"\u001b[39;49m\u001b[43m,\u001b[49m\u001b[43m \u001b[49m\u001b[43moutput_shapes\u001b[49m\u001b[43m,\u001b[49m\u001b[43m \u001b[49m\u001b[38;5;124;43m\"\u001b[39;49m\u001b[38;5;124;43mmetadata\u001b[39;49m\u001b[38;5;124;43m\"\u001b[39;49m\u001b[43m,\u001b[49m\u001b[43m \u001b[49m\u001b[43mmetadata\u001b[49m\u001b[43m)\u001b[49m\n\u001b[0;32m   6060\u001b[0m     \u001b[38;5;28;01mreturn\u001b[39;00m _result\n\u001b[0;32m   6061\u001b[0m   \u001b[38;5;28;01mexcept\u001b[39;00m _core\u001b[38;5;241m.\u001b[39m_NotOkStatusException \u001b[38;5;28;01mas\u001b[39;00m e:\n",
      "\u001b[1;31mKeyboardInterrupt\u001b[0m: "
     ]
    }
   ],
   "source": [
    "stop_condition = False\n",
    "decoded_translation=''\n",
    "i = 0\n",
    "while not stop_condition :\n",
    "    dec_outputs , h, c= dec_model.predict([empty_target_seq] + test_answer )\n",
    "    decoder_concat_input = dense(dec_outputs)\n",
    "    sampled_word_index = np.argmax( decoder_concat_input[0, -1, :] )\n",
    "    \n",
    "    if i == 0:\n",
    "        i = 1\n",
    "        indes = np.argpartition(decoder_concat_input[0, -1, :], -10)[-10:]\n",
    "        indes = tokenizer.sequences_to_texts([indes])\n",
    "        print('\\n', indes)\n",
    "        print('\\n', sampled_word_index)\n",
    "    \n",
    "    sampled_word = tokenizer.sequences_to_texts([[sampled_word_index]])[0] + ' '\n",
    "    print(decoded_translation)\n",
    "    if sampled_word != 'eos ':\n",
    "        decoded_translation += sampled_word  \n",
    "\n",
    "    if sampled_word == 'eos ' or len(decoded_translation.split()) > 15:\n",
    "        stop_condition = True \n",
    "\n",
    "    empty_target_seq = np.zeros( ( 1 , 1 ) )  \n",
    "    empty_target_seq[ 0 , 0 ] = sampled_word_index\n",
    "    ## <SOS> - > hi\n",
    "    ## hi --> <EOS>\n",
    "    test_answer = [h, c]\n",
    "\n",
    "print(\"Question: \", test_data['User'].values[100])\n",
    "print(\"\\nExpected: \", test_data['Company'].values[100])\n",
    "print(\"\\nGiven: \")\n",
    "print(decoded_translation)"
   ]
  },
  {
   "cell_type": "code",
   "execution_count": null,
   "id": "ad96e4b9",
   "metadata": {},
   "outputs": [],
   "source": []
  }
 ],
 "metadata": {
  "kernelspec": {
   "display_name": "Python 3 (ipykernel)",
   "language": "python",
   "name": "python3"
  },
  "language_info": {
   "codemirror_mode": {
    "name": "ipython",
    "version": 3
   },
   "file_extension": ".py",
   "mimetype": "text/x-python",
   "name": "python",
   "nbconvert_exporter": "python",
   "pygments_lexer": "ipython3",
   "version": "3.8.6"
  }
 },
 "nbformat": 4,
 "nbformat_minor": 5
}
