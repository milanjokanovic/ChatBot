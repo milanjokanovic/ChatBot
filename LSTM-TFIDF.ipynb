{
 "cells": [
  {
   "cell_type": "code",
   "execution_count": 1,
   "id": "af3be8bb",
   "metadata": {},
   "outputs": [],
   "source": [
    "import numpy as np \n",
    "import pandas as pd\n",
    "from keras.preprocessing.text import Tokenizer\n",
    "from keras.preprocessing.sequence import pad_sequences\n",
    "from keras.models import Sequential\n",
    "from keras.layers import Dense, Embedding, LSTM, SpatialDropout1D\n",
    "from sklearn.model_selection import train_test_split\n",
    "from keras.utils.np_utils import to_categorical\n",
    "from keras.callbacks import EarlyStopping\n",
    "from keras.layers import Dropout\n",
    "from sklearn.metrics import classification_report\n",
    "from keras.callbacks import EarlyStopping"
   ]
  },
  {
   "cell_type": "code",
   "execution_count": 2,
   "id": "43008bd9",
   "metadata": {},
   "outputs": [
    {
     "data": {
      "text/html": [
       "<div>\n",
       "<style scoped>\n",
       "    .dataframe tbody tr th:only-of-type {\n",
       "        vertical-align: middle;\n",
       "    }\n",
       "\n",
       "    .dataframe tbody tr th {\n",
       "        vertical-align: top;\n",
       "    }\n",
       "\n",
       "    .dataframe thead th {\n",
       "        text-align: right;\n",
       "    }\n",
       "</style>\n",
       "<table border=\"1\" class=\"dataframe\">\n",
       "  <thead>\n",
       "    <tr style=\"text-align: right;\">\n",
       "      <th></th>\n",
       "      <th>User</th>\n",
       "      <th>Company</th>\n",
       "    </tr>\n",
       "  </thead>\n",
       "  <tbody>\n",
       "    <tr>\n",
       "      <th>0</th>\n",
       "      <td>@AskPlayStation So, what's the november ps plu...</td>\n",
       "      <td>@115743 There is no info to share at the momen...</td>\n",
       "    </tr>\n",
       "    <tr>\n",
       "      <th>1</th>\n",
       "      <td>@AskPlayStation It was when I would go to down...</td>\n",
       "      <td>@115745  Glad to know that is downloading, ple...</td>\n",
       "    </tr>\n",
       "    <tr>\n",
       "      <th>2</th>\n",
       "      <td>@AskPlayStation I bought Lego Star Wars in the...</td>\n",
       "      <td>@115745 Sorry for the inconvenience. Do you se...</td>\n",
       "    </tr>\n",
       "    <tr>\n",
       "      <th>3</th>\n",
       "      <td>@AskPlayStation can i block a community from s...</td>\n",
       "      <td>@115746  Glad to help.  Please share the detai...</td>\n",
       "    </tr>\n",
       "    <tr>\n",
       "      <th>4</th>\n",
       "      <td>@AskPlayStation can you dm me I have a question</td>\n",
       "      <td>@116001 Glad to help! We have sent you a DM lo...</td>\n",
       "    </tr>\n",
       "    <tr>\n",
       "      <th>...</th>\n",
       "      <td>...</td>\n",
       "      <td>...</td>\n",
       "    </tr>\n",
       "    <tr>\n",
       "      <th>16711</th>\n",
       "      <td>@AskPlayStation I have already read and went o...</td>\n",
       "      <td>@640122 Please run a network connection test. ...</td>\n",
       "    </tr>\n",
       "    <tr>\n",
       "      <th>16712</th>\n",
       "      <td>@AskPlayStation I can not fully connect to my ...</td>\n",
       "      <td>@640122 Let's take a look! Check out the next ...</td>\n",
       "    </tr>\n",
       "    <tr>\n",
       "      <th>16713</th>\n",
       "      <td>@AskPlayStation i want to buy a ps4 pro . will...</td>\n",
       "      <td>@823562 Hello there. There isn't information a...</td>\n",
       "    </tr>\n",
       "    <tr>\n",
       "      <th>16714</th>\n",
       "      <td>@AskPlayStation any idea when \"Steven Universe...</td>\n",
       "      <td>@823563 Glad to help!  Please follow us via Tw...</td>\n",
       "    </tr>\n",
       "    <tr>\n",
       "      <th>16715</th>\n",
       "      <td>@AskPlayStation May I ask what should I do if ...</td>\n",
       "      <td>@823570 Hello James! Please follow the steps i...</td>\n",
       "    </tr>\n",
       "  </tbody>\n",
       "</table>\n",
       "<p>16701 rows × 2 columns</p>\n",
       "</div>"
      ],
      "text/plain": [
       "                                                    User  \\\n",
       "0      @AskPlayStation So, what's the november ps plu...   \n",
       "1      @AskPlayStation It was when I would go to down...   \n",
       "2      @AskPlayStation I bought Lego Star Wars in the...   \n",
       "3      @AskPlayStation can i block a community from s...   \n",
       "4        @AskPlayStation can you dm me I have a question   \n",
       "...                                                  ...   \n",
       "16711  @AskPlayStation I have already read and went o...   \n",
       "16712  @AskPlayStation I can not fully connect to my ...   \n",
       "16713  @AskPlayStation i want to buy a ps4 pro . will...   \n",
       "16714  @AskPlayStation any idea when \"Steven Universe...   \n",
       "16715  @AskPlayStation May I ask what should I do if ...   \n",
       "\n",
       "                                                 Company  \n",
       "0      @115743 There is no info to share at the momen...  \n",
       "1      @115745  Glad to know that is downloading, ple...  \n",
       "2      @115745 Sorry for the inconvenience. Do you se...  \n",
       "3      @115746  Glad to help.  Please share the detai...  \n",
       "4      @116001 Glad to help! We have sent you a DM lo...  \n",
       "...                                                  ...  \n",
       "16711  @640122 Please run a network connection test. ...  \n",
       "16712  @640122 Let's take a look! Check out the next ...  \n",
       "16713  @823562 Hello there. There isn't information a...  \n",
       "16714  @823563 Glad to help!  Please follow us via Tw...  \n",
       "16715  @823570 Hello James! Please follow the steps i...  \n",
       "\n",
       "[16701 rows x 2 columns]"
      ]
     },
     "execution_count": 2,
     "metadata": {},
     "output_type": "execute_result"
    }
   ],
   "source": [
    "df = pd.read_csv(\"dataset/ask_play_station.csv\")\n",
    "df.dropna(inplace = True)\n",
    "df"
   ]
  },
  {
   "cell_type": "code",
   "execution_count": 3,
   "id": "cd0e6ae0",
   "metadata": {},
   "outputs": [
    {
     "data": {
      "text/html": [
       "<div>\n",
       "<style scoped>\n",
       "    .dataframe tbody tr th:only-of-type {\n",
       "        vertical-align: middle;\n",
       "    }\n",
       "\n",
       "    .dataframe tbody tr th {\n",
       "        vertical-align: top;\n",
       "    }\n",
       "\n",
       "    .dataframe thead th {\n",
       "        text-align: right;\n",
       "    }\n",
       "</style>\n",
       "<table border=\"1\" class=\"dataframe\">\n",
       "  <thead>\n",
       "    <tr style=\"text-align: right;\">\n",
       "      <th></th>\n",
       "      <th>User</th>\n",
       "      <th>Company</th>\n",
       "    </tr>\n",
       "  </thead>\n",
       "  <tbody>\n",
       "    <tr>\n",
       "      <th>0</th>\n",
       "      <td>@AskPlayStation So, what's the november ps plu...</td>\n",
       "      <td>&lt;SOS&gt; @115743 There is no info to share at the...</td>\n",
       "    </tr>\n",
       "    <tr>\n",
       "      <th>1</th>\n",
       "      <td>@AskPlayStation It was when I would go to down...</td>\n",
       "      <td>&lt;SOS&gt; @115745  Glad to know that is downloadin...</td>\n",
       "    </tr>\n",
       "    <tr>\n",
       "      <th>2</th>\n",
       "      <td>@AskPlayStation I bought Lego Star Wars in the...</td>\n",
       "      <td>&lt;SOS&gt; @115745 Sorry for the inconvenience. Do ...</td>\n",
       "    </tr>\n",
       "    <tr>\n",
       "      <th>3</th>\n",
       "      <td>@AskPlayStation can i block a community from s...</td>\n",
       "      <td>&lt;SOS&gt; @115746  Glad to help.  Please share the...</td>\n",
       "    </tr>\n",
       "    <tr>\n",
       "      <th>4</th>\n",
       "      <td>@AskPlayStation can you dm me I have a question</td>\n",
       "      <td>&lt;SOS&gt; @116001 Glad to help! We have sent you a...</td>\n",
       "    </tr>\n",
       "    <tr>\n",
       "      <th>...</th>\n",
       "      <td>...</td>\n",
       "      <td>...</td>\n",
       "    </tr>\n",
       "    <tr>\n",
       "      <th>16711</th>\n",
       "      <td>@AskPlayStation I have already read and went o...</td>\n",
       "      <td>&lt;SOS&gt; @640122 Please run a network connection ...</td>\n",
       "    </tr>\n",
       "    <tr>\n",
       "      <th>16712</th>\n",
       "      <td>@AskPlayStation I can not fully connect to my ...</td>\n",
       "      <td>&lt;SOS&gt; @640122 Let's take a look! Check out the...</td>\n",
       "    </tr>\n",
       "    <tr>\n",
       "      <th>16713</th>\n",
       "      <td>@AskPlayStation i want to buy a ps4 pro . will...</td>\n",
       "      <td>&lt;SOS&gt; @823562 Hello there. There isn't informa...</td>\n",
       "    </tr>\n",
       "    <tr>\n",
       "      <th>16714</th>\n",
       "      <td>@AskPlayStation any idea when \"Steven Universe...</td>\n",
       "      <td>&lt;SOS&gt; @823563 Glad to help!  Please follow us ...</td>\n",
       "    </tr>\n",
       "    <tr>\n",
       "      <th>16715</th>\n",
       "      <td>@AskPlayStation May I ask what should I do if ...</td>\n",
       "      <td>&lt;SOS&gt; @823570 Hello James! Please follow the s...</td>\n",
       "    </tr>\n",
       "  </tbody>\n",
       "</table>\n",
       "<p>16701 rows × 2 columns</p>\n",
       "</div>"
      ],
      "text/plain": [
       "                                                    User  \\\n",
       "0      @AskPlayStation So, what's the november ps plu...   \n",
       "1      @AskPlayStation It was when I would go to down...   \n",
       "2      @AskPlayStation I bought Lego Star Wars in the...   \n",
       "3      @AskPlayStation can i block a community from s...   \n",
       "4        @AskPlayStation can you dm me I have a question   \n",
       "...                                                  ...   \n",
       "16711  @AskPlayStation I have already read and went o...   \n",
       "16712  @AskPlayStation I can not fully connect to my ...   \n",
       "16713  @AskPlayStation i want to buy a ps4 pro . will...   \n",
       "16714  @AskPlayStation any idea when \"Steven Universe...   \n",
       "16715  @AskPlayStation May I ask what should I do if ...   \n",
       "\n",
       "                                                 Company  \n",
       "0      <SOS> @115743 There is no info to share at the...  \n",
       "1      <SOS> @115745  Glad to know that is downloadin...  \n",
       "2      <SOS> @115745 Sorry for the inconvenience. Do ...  \n",
       "3      <SOS> @115746  Glad to help.  Please share the...  \n",
       "4      <SOS> @116001 Glad to help! We have sent you a...  \n",
       "...                                                  ...  \n",
       "16711  <SOS> @640122 Please run a network connection ...  \n",
       "16712  <SOS> @640122 Let's take a look! Check out the...  \n",
       "16713  <SOS> @823562 Hello there. There isn't informa...  \n",
       "16714  <SOS> @823563 Glad to help!  Please follow us ...  \n",
       "16715  <SOS> @823570 Hello James! Please follow the s...  \n",
       "\n",
       "[16701 rows x 2 columns]"
      ]
     },
     "execution_count": 3,
     "metadata": {},
     "output_type": "execute_result"
    }
   ],
   "source": [
    "for index in df.index:\n",
    "    df.loc[index,'Company'] = '<SOS> ' + df.loc[index,'Company'] + ' <EOS>'\n",
    "df"
   ]
  },
  {
   "cell_type": "code",
   "execution_count": 5,
   "id": "20cce384",
   "metadata": {},
   "outputs": [],
   "source": [
    "train_data, test_data = train_test_split(df, test_size=0.3, random_state=42)"
   ]
  },
  {
   "cell_type": "code",
   "execution_count": 6,
   "id": "383a8db6",
   "metadata": {},
   "outputs": [
    {
     "data": {
      "text/plain": [
       "array([\"@AskPlayStation I'm having some problems with my acount please May you DM me\",\n",
       "       \"@AskPlayStation I've been waiting 5 hours and it's not even half way to being able to start the application. No where near being done.The game is Dragon Age: Inquisition: GOTY edition.\",\n",
       "       '@AskPlayStation @90688   i cant download ep 2 :( i purchased ep 1 fine. Anywayy to fix this? https://t.co/TP5E7QhZQ0',\n",
       "       ...,\n",
       "       '<SOS> @317733 Sorry to know that. Please power cycle your network devices and try again:\\xa0https://t.co/UUMNDRIFMj <EOS>',\n",
       "       '<SOS> @161110 We can help with that! Please follow us on Twitter and send us a DM so we can assist you further! https://t.co/blzF3DE7ws <EOS>',\n",
       "       '<SOS> @777362 Sorry to know that! Please check the following article with more information about requesting a refund: https://t.co/UYBWwzvFok <EOS>'],\n",
       "      dtype=object)"
      ]
     },
     "execution_count": 6,
     "metadata": {},
     "output_type": "execute_result"
    }
   ],
   "source": [
    "text_data = np.concatenate((train_data['User'].values, train_data['Company'].values))\n",
    "text_data"
   ]
  },
  {
   "cell_type": "code",
   "execution_count": 7,
   "id": "21fb6d73",
   "metadata": {},
   "outputs": [
    {
     "name": "stdout",
     "output_type": "stream",
     "text": [
      "Found 19609 unique tokens.\n"
     ]
    }
   ],
   "source": [
    "MAX_NB_WORDS = 7000\n",
    "\n",
    "tokenizer = Tokenizer(num_words=MAX_NB_WORDS, filters='!\"#$%&()*+,-./:;<=>?@[\\]^_`{|}~', lower=True)\n",
    "tokenizer.fit_on_texts(text_data)\n",
    "word_index = tokenizer.word_index\n",
    "print('Found %s unique tokens.' % len(word_index))"
   ]
  },
  {
   "cell_type": "code",
   "execution_count": 8,
   "id": "c1ec202f",
   "metadata": {},
   "outputs": [
    {
     "data": {
      "text/plain": [
       "12571"
      ]
     },
     "execution_count": 8,
     "metadata": {},
     "output_type": "execute_result"
    }
   ],
   "source": [
    "word_counts  = tokenizer.word_counts \n",
    "rare_words_number = 0 \n",
    "for index, (key, value) in enumerate(word_counts.items()):\n",
    "    if (value < 2):\n",
    "        rare_words_number = rare_words_number + 1\n",
    "        #print( index, key, value)\n",
    "rare_words_number"
   ]
  },
  {
   "cell_type": "code",
   "execution_count": 9,
   "id": "3bdb2b66",
   "metadata": {},
   "outputs": [
    {
     "data": {
      "text/plain": [
       "\"@AskPlayStation I'm having some problems with my acount please May you DM me\""
      ]
     },
     "execution_count": 9,
     "metadata": {},
     "output_type": "execute_result"
    }
   ],
   "source": [
    "train_data['User'].values[0]"
   ]
  },
  {
   "cell_type": "code",
   "execution_count": 10,
   "id": "6f9df262",
   "metadata": {},
   "outputs": [
    {
     "data": {
      "text/plain": [
       "[[5, 136, 124, 189, 315, 25, 11, 1326, 8, 397, 7, 72, 48]]"
      ]
     },
     "execution_count": 10,
     "metadata": {},
     "output_type": "execute_result"
    }
   ],
   "source": [
    "seq = tokenizer.texts_to_sequences([train_data['User'].values[0]])\n",
    "seq"
   ]
  },
  {
   "cell_type": "code",
   "execution_count": 11,
   "id": "26af0c8c",
   "metadata": {},
   "outputs": [
    {
     "data": {
      "text/plain": [
       "[\"askplaystation i'm having some problems with my acount please may you dm me\"]"
      ]
     },
     "execution_count": 11,
     "metadata": {},
     "output_type": "execute_result"
    }
   ],
   "source": [
    "tokenizer.sequences_to_texts(seq)"
   ]
  },
  {
   "cell_type": "code",
   "execution_count": 12,
   "id": "5de0463c",
   "metadata": {},
   "outputs": [],
   "source": [
    "train_X = tokenizer.texts_to_sequences(train_data['User'].values)\n",
    "train_y = tokenizer.texts_to_sequences(train_data['Company'].values)"
   ]
  },
  {
   "cell_type": "code",
   "execution_count": 13,
   "id": "7ab1eb9f",
   "metadata": {},
   "outputs": [
    {
     "data": {
      "text/plain": [
       "[5, 136, 124, 189, 315, 25, 11, 1326, 8, 397, 7, 72, 48]"
      ]
     },
     "execution_count": 13,
     "metadata": {},
     "output_type": "execute_result"
    }
   ],
   "source": [
    "train_X[0]"
   ]
  },
  {
   "cell_type": "code",
   "execution_count": 14,
   "id": "175b9cac",
   "metadata": {},
   "outputs": [
    {
     "name": "stdout",
     "output_type": "stream",
     "text": [
      "50\n",
      "50\n"
     ]
    }
   ],
   "source": [
    "MAX_QUESTION_LENGTH = 50\n",
    "#for el in df['User']:\n",
    " #   if(len(el) > MAX_QUESTION_LENGTH):\n",
    "#        MAX_QUESTION_LENGTH = len(el)\n",
    "print(MAX_QUESTION_LENGTH)\n",
    "\n",
    "MAX_ANSWER_LENGTH = 50\n",
    "#for el in df['Company']:\n",
    "    #if(len(el) > MAX_ANSWER_LENGTH):\n",
    "        #MAX_ANSWER_LENGTH = len(el)\n",
    "print(MAX_ANSWER_LENGTH)"
   ]
  },
  {
   "cell_type": "code",
   "execution_count": 15,
   "id": "04f0ec9b",
   "metadata": {},
   "outputs": [],
   "source": [
    "train_X = pad_sequences(train_X, maxlen=MAX_QUESTION_LENGTH, padding='post', truncating='post') #truncating dodati ako budem hteo avrage da koristim\n",
    "train_y = pad_sequences(train_y, maxlen=MAX_ANSWER_LENGTH, padding='post', truncating='post')"
   ]
  },
  {
   "cell_type": "code",
   "execution_count": 16,
   "id": "f1dfbfa7",
   "metadata": {},
   "outputs": [
    {
     "data": {
      "text/plain": [
       "50"
      ]
     },
     "execution_count": 16,
     "metadata": {},
     "output_type": "execute_result"
    }
   ],
   "source": [
    "len(train_X[0])"
   ]
  },
  {
   "cell_type": "code",
   "execution_count": 17,
   "id": "a156d18e",
   "metadata": {},
   "outputs": [
    {
     "data": {
      "text/plain": [
       "array([   5,  136,  124,  189,  315,   25,   11, 1326,    8,  397,    7,\n",
       "         72,   48,    0,    0,    0,    0,    0,    0,    0,    0,    0,\n",
       "          0,    0,    0,    0,    0,    0,    0,    0,    0,    0,    0,\n",
       "          0,    0,    0,    0,    0,    0,    0,    0,    0,    0,    0,\n",
       "          0,    0,    0,    0,    0,    0])"
      ]
     },
     "execution_count": 17,
     "metadata": {},
     "output_type": "execute_result"
    }
   ],
   "source": [
    "train_X[0][:50]"
   ]
  },
  {
   "cell_type": "code",
   "execution_count": 21,
   "id": "b8e03a2e",
   "metadata": {},
   "outputs": [],
   "source": [
    "train_y_final_output = []\n",
    "for i in train_y:\n",
    "    train_y_final_output.append(i[1:]) \n",
    "\n",
    "train_y_final_output = pad_sequences(train_y_final_output, MAX_ANSWER_LENGTH, padding='post', truncating='post')"
   ]
  },
  {
   "cell_type": "code",
   "execution_count": 22,
   "id": "8e12f52e",
   "metadata": {},
   "outputs": [
    {
     "data": {
      "text/plain": [
       "array([45,  2, 50, 17,  8, 42, 18, 51, 55, 41, 27, 19, 59,  7, 10, 72, 25,\n",
       "       29, 37, 64,  4,  0,  0,  0,  0,  0,  0,  0,  0,  0,  0,  0,  0,  0,\n",
       "        0,  0,  0,  0,  0,  0,  0,  0,  0,  0,  0,  0,  0,  0,  0,  0])"
      ]
     },
     "execution_count": 22,
     "metadata": {},
     "output_type": "execute_result"
    }
   ],
   "source": [
    "train_y_final_output[0][:50]"
   ]
  },
  {
   "cell_type": "code",
   "execution_count": 23,
   "id": "7623de13",
   "metadata": {},
   "outputs": [
    {
     "data": {
      "text/plain": [
       "array([ 3, 45,  2, 50, 17,  8, 42, 18, 51, 55, 41, 27, 19, 59,  7, 10, 72,\n",
       "       25, 29, 37, 64,  4,  0,  0,  0,  0,  0,  0,  0,  0,  0,  0,  0,  0,\n",
       "        0,  0,  0,  0,  0,  0,  0,  0,  0,  0,  0,  0,  0,  0,  0,  0])"
      ]
     },
     "execution_count": 23,
     "metadata": {},
     "output_type": "execute_result"
    }
   ],
   "source": [
    "train_y[0][:50]"
   ]
  },
  {
   "cell_type": "code",
   "execution_count": 24,
   "id": "913af392",
   "metadata": {},
   "outputs": [],
   "source": [
    "from tensorflow.keras.utils import to_categorical\n",
    "train_y_final_output = to_categorical(train_y_final_output, MAX_NB_WORDS)"
   ]
  },
  {
   "cell_type": "code",
   "execution_count": 162,
   "id": "e4eb2a53",
   "metadata": {},
   "outputs": [],
   "source": [
    "from tensorflow.keras.models import Model\n",
    "from tensorflow.keras.layers import Dense, Embedding, LSTM, Input\n",
    "\n",
    "\n",
    "enc_inp = Input(shape=(50, ))#50\n",
    "dec_inp = Input(shape=(50, ))#50"
   ]
  },
  {
   "cell_type": "code",
   "execution_count": 163,
   "id": "716cab81",
   "metadata": {},
   "outputs": [],
   "source": [
    "VOCAB_SIZE = MAX_NB_WORDS\n",
    "embed = Embedding(VOCAB_SIZE+1, output_dim=50, \n",
    "                  input_length=50,\n",
    "                  trainable=True                  \n",
    "                  )"
   ]
  },
  {
   "cell_type": "code",
   "execution_count": 164,
   "id": "6a579923",
   "metadata": {},
   "outputs": [],
   "source": [
    "enc_embed = embed(enc_inp)\n",
    "enc_lstm = LSTM(200, return_sequences=True, return_state=True)\n",
    "enc_op, h, c = enc_lstm(enc_embed)\n",
    "enc_states = [h, c]\n"
   ]
  },
  {
   "cell_type": "code",
   "execution_count": 165,
   "id": "b9b62efe",
   "metadata": {},
   "outputs": [],
   "source": [
    "embed2 = Embedding(VOCAB_SIZE+1, output_dim=50, \n",
    "                  input_length=50,\n",
    "                  trainable=True                  \n",
    "                  )"
   ]
  },
  {
   "cell_type": "code",
   "execution_count": 166,
   "id": "8f7654da",
   "metadata": {},
   "outputs": [],
   "source": [
    "dec_embed = embed2(dec_inp)\n",
    "dec_lstm = LSTM(200, return_sequences=True, return_state=True)\n",
    "dec_op, _, _ = dec_lstm(dec_embed, initial_state=enc_states)"
   ]
  },
  {
   "cell_type": "code",
   "execution_count": 167,
   "id": "9ca887a7",
   "metadata": {},
   "outputs": [
    {
     "name": "stdout",
     "output_type": "stream",
     "text": [
      "Model: \"model_15\"\n",
      "__________________________________________________________________________________________________\n",
      " Layer (type)                   Output Shape         Param #     Connected to                     \n",
      "==================================================================================================\n",
      " input_15 (InputLayer)          [(None, 50)]         0           []                               \n",
      "                                                                                                  \n",
      " input_16 (InputLayer)          [(None, 50)]         0           []                               \n",
      "                                                                                                  \n",
      " embedding_3 (Embedding)        (None, 50, 50)       350050      ['input_15[0][0]']               \n",
      "                                                                                                  \n",
      " embedding_4 (Embedding)        (None, 50, 50)       350050      ['input_16[0][0]']               \n",
      "                                                                                                  \n",
      " lstm_5 (LSTM)                  [(None, 50, 200),    200800      ['embedding_3[0][0]']            \n",
      "                                 (None, 200),                                                     \n",
      "                                 (None, 200)]                                                     \n",
      "                                                                                                  \n",
      " lstm_6 (LSTM)                  [(None, 50, 200),    200800      ['embedding_4[0][0]',            \n",
      "                                 (None, 200),                     'lstm_5[0][1]',                 \n",
      "                                 (None, 200)]                     'lstm_5[0][2]']                 \n",
      "                                                                                                  \n",
      " dense_3 (Dense)                (None, 50, 7000)     1407000     ['lstm_6[0][0]']                 \n",
      "                                                                                                  \n",
      "==================================================================================================\n",
      "Total params: 2,508,700\n",
      "Trainable params: 2,508,700\n",
      "Non-trainable params: 0\n",
      "__________________________________________________________________________________________________\n",
      "None\n"
     ]
    }
   ],
   "source": [
    "dense = Dense(VOCAB_SIZE, activation='softmax')\n",
    "dense_op = dense(dec_op)\n",
    "model = Model([enc_inp, dec_inp], dense_op)\n",
    "model.compile(loss='categorical_crossentropy',metrics=['acc'],optimizer='adam')\n",
    "print(model.summary())"
   ]
  },
  {
   "cell_type": "code",
   "execution_count": 259,
   "id": "003487f5",
   "metadata": {},
   "outputs": [
    {
     "name": "stdout",
     "output_type": "stream",
     "text": [
      "Epoch 1/3\n",
      "293/293 [==============================] - 83s 282ms/step - loss: 0.7277 - acc: 0.8588 - val_loss: 0.7444 - val_acc: 0.8594\n",
      "Epoch 2/3\n",
      "293/293 [==============================] - 89s 305ms/step - loss: 0.6816 - acc: 0.8664 - val_loss: 0.7127 - val_acc: 0.8646\n",
      "Epoch 3/3\n",
      "293/293 [==============================] - 95s 323ms/step - loss: 0.6463 - acc: 0.8722 - val_loss: 0.6882 - val_acc: 0.8684\n"
     ]
    },
    {
     "data": {
      "text/plain": [
       "<keras.callbacks.History at 0x2212cb9fbb0>"
      ]
     },
     "execution_count": 259,
     "metadata": {},
     "output_type": "execute_result"
    }
   ],
   "source": [
    "model.fit([train_X, train_y],train_y_final_output,epochs=3, validation_split=0.2,\n",
    "    callbacks=[EarlyStopping(monitor='val_loss', patience=3, min_delta=0.0001)])"
   ]
  },
  {
   "cell_type": "code",
   "execution_count": 260,
   "id": "bc096244",
   "metadata": {},
   "outputs": [],
   "source": [
    "enc_model = Model(enc_inp, enc_states)"
   ]
  },
  {
   "cell_type": "code",
   "execution_count": 261,
   "id": "1c3350f3",
   "metadata": {},
   "outputs": [],
   "source": [
    "decoder_state_input_h = Input(shape=(200,))\n",
    "decoder_state_input_c = Input(shape=(200,))"
   ]
  },
  {
   "cell_type": "code",
   "execution_count": 262,
   "id": "266166bb",
   "metadata": {},
   "outputs": [],
   "source": [
    "decoder_states_inputs = [decoder_state_input_h, decoder_state_input_c]"
   ]
  },
  {
   "cell_type": "code",
   "execution_count": 263,
   "id": "c04cc3c9",
   "metadata": {},
   "outputs": [],
   "source": [
    "decoder_outputs, state_h, state_c = dec_lstm(dec_embed , \n",
    "                                    initial_state=decoder_states_inputs)\n",
    "decoder_states = [state_h, state_c]\n",
    "#decoder_outputs = dense(decoder_outputs)"
   ]
  },
  {
   "cell_type": "code",
   "execution_count": 264,
   "id": "14f9246d",
   "metadata": {},
   "outputs": [],
   "source": [
    "dec_model = Model([dec_inp]+ decoder_states_inputs,\n",
    "                                      [decoder_outputs]+ decoder_states)"
   ]
  },
  {
   "cell_type": "code",
   "execution_count": 270,
   "id": "fe6fdd32",
   "metadata": {},
   "outputs": [
    {
     "data": {
      "text/plain": [
       "[[5, 136, 124, 189, 315, 25, 11, 1326, 8, 397, 7, 72, 48]]"
      ]
     },
     "execution_count": 270,
     "metadata": {},
     "output_type": "execute_result"
    }
   ],
   "source": [
    "#test_question = tokenizer.texts_to_sequences([test_data['User'].values[200]])\n",
    "\n",
    "test_question = tokenizer.texts_to_sequences([train_data['User'].values[0]])\n",
    "test_question"
   ]
  },
  {
   "cell_type": "code",
   "execution_count": 271,
   "id": "3f44dda5",
   "metadata": {},
   "outputs": [
    {
     "data": {
      "text/plain": [
       "array([[   5,  136,  124,  189,  315,   25,   11, 1326,    8,  397,    7,\n",
       "          72,   48,    0,    0,    0,    0,    0,    0,    0,    0,    0,\n",
       "           0,    0,    0,    0,    0,    0,    0,    0,    0,    0,    0,\n",
       "           0,    0,    0,    0,    0,    0,    0,    0,    0,    0,    0,\n",
       "           0,    0,    0,    0,    0,    0]])"
      ]
     },
     "execution_count": 271,
     "metadata": {},
     "output_type": "execute_result"
    }
   ],
   "source": [
    "test_X = pad_sequences(test_question, maxlen=MAX_QUESTION_LENGTH, padding='post', truncating='post')\n",
    "test_X"
   ]
  },
  {
   "cell_type": "code",
   "execution_count": 293,
   "id": "25f1a843",
   "metadata": {},
   "outputs": [],
   "source": [
    "test_answer = enc_model.predict( test_X )"
   ]
  },
  {
   "cell_type": "code",
   "execution_count": 177,
   "id": "af353f7e",
   "metadata": {},
   "outputs": [
    {
     "data": {
      "text/plain": [
       "'sos'"
      ]
     },
     "execution_count": 177,
     "metadata": {},
     "output_type": "execute_result"
    }
   ],
   "source": [
    "sos_value = tokenizer.texts_to_sequences(['<SOS>'])[0][0]\n",
    "tokenizer.sequences_to_texts([[sos_value]])[0]"
   ]
  },
  {
   "cell_type": "code",
   "execution_count": 228,
   "id": "ff8c8729",
   "metadata": {},
   "outputs": [
    {
     "data": {
      "text/plain": [
       "array([[0.]])"
      ]
     },
     "execution_count": 228,
     "metadata": {},
     "output_type": "execute_result"
    }
   ],
   "source": [
    "empty_target_seq = np.zeros( ( 1 , 1) )\n",
    "empty_target_seq"
   ]
  },
  {
   "cell_type": "code",
   "execution_count": 294,
   "id": "240eca25",
   "metadata": {},
   "outputs": [
    {
     "data": {
      "text/plain": [
       "array([[297.]])"
      ]
     },
     "execution_count": 294,
     "metadata": {},
     "output_type": "execute_result"
    }
   ],
   "source": [
    "empty_target_seq[0, 0] = tokenizer.texts_to_sequences(['sos'])[0][0]\n",
    "empty_target_seq"
   ]
  },
  {
   "cell_type": "code",
   "execution_count": 295,
   "id": "cec7fa58",
   "metadata": {},
   "outputs": [
    {
     "name": "stdout",
     "output_type": "stream",
     "text": [
      "Question:  @AskPlayStation I'm having some problems with my acount please May you DM me\n",
      "\n",
      "Expected:  <SOS> @387839 Sorry to know that. Please follow us via Twitter so we can send you a DM with further instructions. Thanks! <EOS>\n",
      "\n",
      "Given: \n",
      "we can help please check your dm's for further instructions \n"
     ]
    }
   ],
   "source": [
    "stop_condition = False\n",
    "decoded_translation=''\n",
    "while not stop_condition :\n",
    "    dec_outputs , h, c= dec_model.predict([empty_target_seq] + test_answer )\n",
    "    decoder_concat_input = dense(dec_outputs)\n",
    "    sampled_word_index = np.argmax( decoder_concat_input[0, -1, :] )\n",
    "    \n",
    "    sampled_word = tokenizer.sequences_to_texts([[sampled_word_index]])[0] + ' '\n",
    "    \n",
    "    if sampled_word != 'eos ':\n",
    "        decoded_translation += sampled_word  \n",
    "\n",
    "    if sampled_word == 'eos ' or len(decoded_translation.split()) > 50:\n",
    "        stop_condition = True \n",
    "\n",
    "    empty_target_seq = np.zeros( ( 1 , 1 ) )  \n",
    "    empty_target_seq[ 0 , 0 ] = sampled_word_index\n",
    "    ## <SOS> - > hi\n",
    "    ## hi --> <EOS>\n",
    "    test_answer = [h, c]\n",
    "\n",
    "print(\"Question: \", train_data['User'].values[0])\n",
    "print(\"\\nExpected: \", train_data['Company'].values[0])\n",
    "print(\"\\nGiven: \")\n",
    "print(decoded_translation)"
   ]
  },
  {
   "cell_type": "code",
   "execution_count": null,
   "id": "ad96e4b9",
   "metadata": {},
   "outputs": [],
   "source": []
  }
 ],
 "metadata": {
  "kernelspec": {
   "display_name": "Python 3 (ipykernel)",
   "language": "python",
   "name": "python3"
  },
  "language_info": {
   "codemirror_mode": {
    "name": "ipython",
    "version": 3
   },
   "file_extension": ".py",
   "mimetype": "text/x-python",
   "name": "python",
   "nbconvert_exporter": "python",
   "pygments_lexer": "ipython3",
   "version": "3.8.6"
  }
 },
 "nbformat": 4,
 "nbformat_minor": 5
}
