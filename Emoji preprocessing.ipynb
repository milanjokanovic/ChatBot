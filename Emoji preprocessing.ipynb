{
 "cells": [
  {
   "cell_type": "code",
   "execution_count": 7,
   "metadata": {},
   "outputs": [],
   "source": [
    "import re\n",
    "import pickle\n",
    "import pandas as pd"
   ]
  },
  {
   "cell_type": "code",
   "execution_count": 8,
   "metadata": {},
   "outputs": [],
   "source": [
    "data = pd.read_csv('dataset/wrangled_data.csv')"
   ]
  },
  {
   "cell_type": "code",
   "execution_count": 9,
   "metadata": {},
   "outputs": [],
   "source": [
    "with open('Emoji_Dict.p', 'rb') as fp:\n",
    "    Emoji_Dict = pickle.load(fp)\n",
    "Emoji_Dict = {v: k for k, v in Emoji_Dict.items()}"
   ]
  },
  {
   "cell_type": "code",
   "execution_count": 10,
   "metadata": {},
   "outputs": [],
   "source": [
    "def convert_emojis_to_word(text):\n",
    "    for emot in Emoji_Dict:\n",
    "        text = re.sub(r'('+emot+')', \" __EMOJI__\" + \"_\".join(Emoji_Dict[emot].replace(\",\",\"\").replace(\":\",\"\").split()), text)\n",
    "    return text"
   ]
  },
  {
   "cell_type": "code",
   "execution_count": 12,
   "metadata": {},
   "outputs": [],
   "source": [
    "def PreprocessEmojis():\n",
    "    pom = 0\n",
    "    for index, row in data.iterrows():\n",
    "        pom = pom + 1\n",
    "        row[0] = convert_emojis_to_word(str(row[0]))\n",
    "        row[1] = convert_emojis_to_word(str(row[1]))\n",
    "        if(pom == 100):\n",
    "            break"
   ]
  },
  {
   "cell_type": "code",
   "execution_count": 13,
   "metadata": {},
   "outputs": [],
   "source": [
    "PreprocessEmojis()"
   ]
  },
  {
   "cell_type": "code",
   "execution_count": 14,
   "metadata": {},
   "outputs": [
    {
     "name": "stdout",
     "output_type": "stream",
     "text": [
      "@sprintcare I have sent several private messages and no one is responding as usual\n",
      "@sprintcare I did.\n",
      "@sprintcare is the worst customer service\n",
      "@sprintcare You gonna magically change your connectivity for me and my whole family ?  __EMOJI__lying_face  __EMOJI__hundred_points\n",
      "@sprintcare Since I signed up with you....Since day 1\n",
      "@115714 y’all lie about your “great” connection. 5 bars LTE, still won’t load something. Smh.\n",
      "@115714 whenever I contact customer support, they tell me I have shortcode enabled on my account, but I have never in the 4 years I've tried URL_POSITION\n",
      "@Ask_Spectrum That is INCORRECT information I have the form in front of me that is faxed over-maybe you need to maintain up to date information\n",
      "@Ask_Spectrum Would you like me to email you a copy of one since Spectrum is not updating your training?\n",
      "@Ask_Spectrum I received this from your corporate office would you like a copy?\n",
      "actually that's a broken link you sent me and incorrect information URL_POSITION\n",
      "Yo @Ask_Spectrum, your customer service reps are super nice— but imma start trippin if y’all don’t get my service going!\n",
      "My picture on @Ask_Spectrum pretty much every day. Why should I pay $171 per month? URL_POSITION\n",
      "@ChipotleTweets @28 \n",
      "I don't fit in my Veggie Burrito costume #Halloween URL_POSITION\n",
      "@ChipotleTweets messed up today and didn’t give me my $3 burrito although I was dressed up  __EMOJI__loudly_crying_face\n",
      "hey @ChipotleTweets wanna come to Mammoth. I'll at least eat there once a week i promise\n",
      "@ChipotleTweets I had excellent service tonight too! Plenty of people on the line, went very fast, everyone was kind!\n",
      "When you're the only one in costume #boorito @ChipotleTweets\n",
      "@ChipotleTweets no Diet Coke and a literal bone this Boorito was extra spooky! URL_POSITION\n",
      "@ChipotleTweets If you get queso or quac on you're bowl, its extra?\n",
      "Happy Halloween! Since I'm too old to trick or treat I now look forward to $3 booritos at @ChipotleTweets  __EMOJI__ghost I got mine earlier, did you?\n",
      "@ChipotleTweets Thank you @ChipotleTweets for resolving my issue so quickly!! Y’all are the best  __EMOJI__smiling_face️ #fanforlife\n",
      "Btw @ChipotleTweets giving out $3 burritos if you dress up for Halloween  __EMOJI__jack-o-lantern Call your Chipotle to make sure, they’re doing it @ select ones\n",
      "@ChipotleTweets Tried, didn't work. How rude :/\n",
      "@ChipotleTweets can I dress up as myself and still qualify for a BOORITO?\n",
      "Every year, my trick-or-treating routine is walking to Chipotle, spending 3 dollars and walking back home. @ChipotleTweets\n",
      "@ChipotleTweets this is nasty. A used napkin in someone's food URL_POSITION\n",
      "$3 burritos and I’m nowhere near a @ChipotleTweets  __EMOJI__person_facepalming __EMOJI__medium-dark_skin_tone‍ __EMOJI__male_sign️\n",
      "@ChipotleTweets Also I got the onesie at target. So cozy\n",
      "Considering walking to @ChipotleTweets in my llama onesie alone happy Halloween  __EMOJI__loudly_crying_face\n",
      "@ChipotleTweets name a better halloween duo #speedwaybrick #UTtranscript URL_POSITION\n",
      "@AskPlayStation So, what's the november ps plus free game?\n",
      "@AskPlayStation It was when I would go to download it. I just waited a few hours till after I bought it and it downloaded now.\n",
      "@AskPlayStation I bought Lego Star Wars in the PlayStation store but it won't let me download it because the data is corrupted..\n",
      "@AskPlayStation can i block a community from sending me invites to something i dont want to join\n",
      "@XboxSupport can I change me sons Xbox live account to his Hotmail account, currently linked to my Hotmail account\n",
      "@XboxSupport @115786 @115787 @15913 Would like to know so I can make sure I have enough money for it...\n",
      "@XboxSupport They have no info either..\n",
      "@XboxSupport Lol so there's no one @115786 who can say when they're going to be shipped...? That's kinda weird\n",
      "@115790 @XboxSupport redeemed a code for fifa points this afternoon and still haven't got it. Why is this?\n",
      "@1520 @XboxSupport  the 5 app on Xboxes not working error code 200, done a power cycle and still the same? Please fix app\n",
      "@DELTA i booked my flight using delta amex card. Checking in now &amp; was being charged for baggage\n",
      "Way to drop the ball on customer service @115821 so pissed right now!\n",
      "@AmazonHelp 3 different people have given 3 different answers and I still don't have my order. Says delivered Saturday, was not, I was home all day\n",
      "@115823 I want my amazon payments account CLOSED.  dm me please.\n",
      "@115828 How about you guys figure out my Xbox One X project Scorpio edition first. No expected delivery or shipping date and it’s only a week away\n",
      "@AmazonHelp @115826 Yeah this is crazy we’re less than a week away and still no Shipping Information on something that we Pre-ordered back in August\n",
      "@115830 my package was ‘accidentally’ opened.. 4 items missing worth £97.\n",
      "You need better delivery drivers!! URL_POSITION\n",
      "@115821 @AmazonHelp why is my order at my local courier for the last 6 days and still hasn’t been delivered to me?? Over 1 week late  __EMOJI__pouting_face\n",
      "Thanks for the style advice, @115833 look ...I think? #Halloween2017 #flamingo URL_POSITION\n",
      "@AmazonHelp Hi ready for some help\n",
      "@AmazonHelp Is the Echo Show no longer supported?\n",
      "Bought an @115821 Echo Show and it won’t recognize a single @AmazonHelp account in our household. WTF, guys?\n",
      ".@AmazonHelp Item has not been delivered but tracking says it was handed to me over an hour ago... 2nd time this has happened. Sort it out URL_POSITION\n",
      "@AmazonHelp That page is useless - doesn’t allow me to state it hasn’t been delivered; only tells me it has! How can you sort this out?\n",
      "In response to your @115830 packing video, this packaging was for a 2ft washing line pole @115837 URL_POSITION\n",
      "@AmazonHelp Is it possible to prevent AMZL from delivering my packages moving forward? Stuff is either lost/stolen/broken EVERY time.\n",
      "@AmazonHelp I don't want a form to fill out that logs a response no one reads. I want to prevent AMZL from touching my stuff. Possible, or no?\n",
      "@AmazonHelp Already started the return. UPS gets it from my doorstep tomorrow. Order 111-5014070-4118645\n",
      "@AmazonHelp Already handled, just venting. It was a pretty big bummer.\n",
      "@115821, it’d be nice if the book I waited 4 months for wasn’t damaged inside of an undented box. #twinpeaks #twin… URL_POSITION URL_POSITION\n",
      "@AmazonHelp delivery I paid for today,didn’t arrive.why not?i paid enough for it.where is it??I’m unhappy.refund the delivery charge\n",
      "Anna Inspired in idea lab at school to be @115821 package being shipped to Narnia! \"Amazon can go anywhere\" according to Anna. URL_POSITION\n",
      "@115845 They sent the feckin' order to Germany! Some dozy driver is looking for an address in the wrong country! I'm so done with Amazon!\n",
      "@115847 @115821 Yeah idk the shipping company and it says “mike Ziemer” signed for it in the mail room at our building lol\n",
      "@115821  URL_POSITION\n",
      "@AmazonHelp Already contacted 3-4 times in the last month. But all I got was assurance that matter is escalated &amp; new status will be provided in 1 day!\n",
      "@AmazonHelp Details sent. Please check.\n",
      "@115850 @115821 @AmazonHelp @115851 Order# 3632693-6196346. You couldn't deliver EVEN AFTER A MONTH. You should be ashamed of yourself.\n",
      "@AmazonHelp since when you stop giving 20% off videogame pre-orders (amazon prime members) im confused? why?\n",
      "Just pulled another #Amazon delivery out of the bushes since the #amzl people can’t walk the extra 2 ft to my door. So tired of this.\n",
      "@AppleSupport  URL_POSITION\n",
      "@AppleSupport The newest update. I️ made sure to download it yesterday.\n",
      "@AppleSupport Tried resetting my settings .. restarting my phone .. all that\n",
      "@AppleSupport This is what it looks like URL_POSITION\n",
      "@AppleSupport I️ have an iPhone 7 Plus and yes I️ do\n",
      "@AppleSupport I️ need answers because it’s annoying  __EMOJI__upside-down_face\n",
      "Hey @AppleSupport and anyone else who upgraded to ios11.1, are y’all having issues with capital “I️” in the Mail app? As it puts in “A”?\n",
      "@AppleSupport This is what is happening... URL_POSITION\n",
      "Tf is wrong with my keyboard @115858\n",
      "@AppleSupport are the call centres closed for the night?\n",
      "@115858 @AppleSupport hello are all the lines closed for tonight #help\n",
      "@115861 @115862 @AppleSupport I️ upgraded. I️t didn’t work.\n",
      "Hello, internet. Can someone explain why this symbol keeps appearing on my phone and when I️ try to type the letter I️? Also @AppleSupport URL_POSITION\n",
      "@AppleSupport I’ve got a screenshot saying my #iPhoneX is reserved for the 3rd then an email saying it’s the 18th... what happened?\n",
      "Thank you @AppleSupport I updated my phone and now it is even slower and barely works. Thank you for ruining my phone. __EMOJI__face_with_steam_from_nose\n",
      "@AppleSupport I have the iPhone 6s Plus and just did the most recent update.\n",
      "@AppleSupport iPhone 7 Plus  __EMOJI__smiling_face_with_smiling_eyes\n",
      "@AppleSupport iOS 11.0.3\n",
      "@AppleSupport Okey. Thank you!  __EMOJI__hugging_face\n",
      "@AppleSupport I need the software update urgently. The battery lasts literally half a day  __EMOJI__person_frowning __EMOJI__medium-light_skin_tone __EMOJI__slightly_frowning_face@AppleSupport\n",
      "Hola @AppleSupport necesito urgente la actualización de software. La batería me dura literal medio día  __EMOJI__person_frowning __EMOJI__medium-light_skin_tone __EMOJI__person_bowing __EMOJI__medium-light_skin_tone‍ __EMOJI__female_sign️\n",
      "@AppleSupport Hi! What is going on? Has Youtube lost it? What can be done about it? Thanks for the support! URL_POSITION\n",
      "@AppleSupport ? hello\n",
      "@AppleSupport Yes it did, 11.0.3\n",
      "MY HOME BUTTON DOESN’T WORK #IOS11 @AppleSupport\n",
      "Hey @115858! Last time I downloaded an update my freaking phone gave me hell. Any recommendations?\n",
      "@AppleSupport I can not find an option to get it there. It was just always there when playing.\n",
      "@AppleSupport The app is still there. But no longer able to control it from the lockscreen.\n",
      "After update #ios1103 no spotify on my lock screen?@AppleSupport\n",
      "I just need @115858 to do something about the battery life because it sucks ass\n"
     ]
    }
   ],
   "source": [
    "for column in data:\n",
    "    for i in range(len(data[column])):\n",
    "        print(data[column][i])\n",
    "        if(i == 100):\n",
    "            break\n",
    "    break"
   ]
  },
  {
   "cell_type": "code",
   "execution_count": null,
   "metadata": {},
   "outputs": [],
   "source": [
    "#data.to_csv('dataset/wrangled_data.csv', index=False)"
   ]
  },
  {
   "cell_type": "code",
   "execution_count": null,
   "metadata": {},
   "outputs": [],
   "source": []
  }
 ],
 "metadata": {
  "kernelspec": {
   "display_name": "Python 3",
   "language": "python",
   "name": "python3"
  },
  "language_info": {
   "codemirror_mode": {
    "name": "ipython",
    "version": 3
   },
   "file_extension": ".py",
   "mimetype": "text/x-python",
   "name": "python",
   "nbconvert_exporter": "python",
   "pygments_lexer": "ipython3",
   "version": "3.6.8"
  }
 },
 "nbformat": 4,
 "nbformat_minor": 2
}
