{
 "cells": [
  {
   "cell_type": "code",
   "execution_count": 3,
   "metadata": {},
   "outputs": [],
   "source": [
    "import re\n",
    "import pickle\n",
    "import pandas as pd"
   ]
  },
  {
   "cell_type": "code",
   "execution_count": 4,
   "metadata": {},
   "outputs": [],
   "source": [
    "data = pd.read_csv('dataset/ask_play_station_preprocessed.csv')"
   ]
  },
  {
   "cell_type": "code",
   "execution_count": 5,
   "metadata": {},
   "outputs": [],
   "source": [
    "with open('Emoji_Dict.p', 'rb') as fp:\n",
    "    Emoji_Dict = pickle.load(fp)\n",
    "Emoji_Dict = {v: k for k, v in Emoji_Dict.items()}"
   ]
  },
  {
   "cell_type": "code",
   "execution_count": 6,
   "metadata": {},
   "outputs": [],
   "source": [
    "def convert_emojis_to_word(text):\n",
    "    for emot in Emoji_Dict:\n",
    "        text = re.sub(r'('+emot+')', \" __EMOJI__\" + \"_\".join(Emoji_Dict[emot].replace(\",\",\"\").replace(\":\",\"\").split()), text)\n",
    "    return text"
   ]
  },
  {
   "cell_type": "code",
   "execution_count": 11,
   "metadata": {},
   "outputs": [],
   "source": [
    "def PreprocessEmojis():\n",
    "    pom = 0\n",
    "    for index, row in data.iterrows():\n",
    "        pom+=1\n",
    "        if(pom%1000 == 0):\n",
    "            print(\"checkpoint\"+str(pom))\n",
    "        row[0] = convert_emojis_to_word(str(row[0]))\n",
    "        row[1] = convert_emojis_to_word(str(row[1]))"
   ]
  },
  {
   "cell_type": "code",
   "execution_count": 12,
   "metadata": {},
   "outputs": [
    {
     "name": "stdout",
     "output_type": "stream",
     "text": [
      "checkpoint1000\n",
      "checkpoint2000\n",
      "checkpoint3000\n",
      "checkpoint4000\n",
      "checkpoint5000\n",
      "checkpoint6000\n",
      "checkpoint7000\n",
      "checkpoint8000\n",
      "checkpoint9000\n",
      "checkpoint10000\n",
      "checkpoint11000\n",
      "checkpoint12000\n",
      "checkpoint13000\n",
      "checkpoint14000\n",
      "checkpoint15000\n",
      "checkpoint16000\n"
     ]
    }
   ],
   "source": [
    "PreprocessEmojis()"
   ]
  },
  {
   "cell_type": "code",
   "execution_count": 13,
   "metadata": {},
   "outputs": [
    {
     "name": "stdout",
     "output_type": "stream",
     "text": [
      "@AskPlayStation So, what's the november ps plus free game?\n",
      "@AskPlayStation It was when I would go to download it. I just waited a few hours till after I bought it and it downloaded now.\n",
      "@AskPlayStation I bought Lego Star Wars in the PlayStation store but it won't let me download it because the data is corrupted..\n",
      "@AskPlayStation can i block a community from sending me invites to something i dont want to join\n",
      "@AskPlayStation can you dm me I have a question\n",
      "@AskPlayStation but out of the games the buttons work solutions?\n",
      "@AskPlayStation It’s ok I fixed it thanks\n",
      "Yo my PS4 has been turning on by itself recently and constantly ejecting the game disc that's in. What the heck is going on? @AskPlayStation\n",
      "@AskPlayStation My account is telling me to reset my password but i dont know my date of birth but i know my password for the account. help\n",
      "@AskPlayStation  i have bought dlc diablo 3 necromancer and hav phys disc D3 ROS but when i click necromaner pack on game , dont download URL_POSITION\n",
      "@AskPlayStation Less a billing issue (I updated the exp date in acct), more ps+ wasn't able to renew. How do i make sure it stays current/not lose anything?\n",
      "@AskPlayStation not sure why my CC in my acct had an incorrect date, but my renewal for ps+ failed. How can I correct this?\n",
      "@AskPlayStation please help\n",
      "I preordered the standard edition of cod ww2. Can I change it to deluxe edition somehow @AskPlayStation\n",
      "@AskPlayStation someone got to my account and changed the email\n",
      "@AskPlayStation why is this happening to me and only me? URL_POSITION\n",
      "@AskPlayStation Whenever i go to play my game it says im on my old psn account which i deleted of my system. Ive used that account like once before\n",
      "@AskPlayStation What do you mean by local user\n",
      "@AskPlayStation after playing for  a hour, my network on ps4 just drops to 67.9kbps.then I can't play any games(cod black ops3).pls help\n",
      "@AskPlayStation Thankx\n",
      "@AskPlayStation Hi! Having issue with an old account, no idea what the login/email is for it but I know the ID\n",
      "@AskPlayStation is it possible for me to delete my own psn or change the location and currency? Please reply\n",
      "@AskPlayStation Hey is Shadow Of War remote play? Was thinking of getting a vita but i don't know if I can play my games remotely with it.\n",
      "@AskPlayStation When i pre ordered ww2 i was supposed to be able to pre download it but it just gave me a timer to release day help\n",
      "@AskPlayStation hey why can't I find Steven universe save the light. Isn't supposed to be out already??\n",
      "@AskPlayStation Status page says the opposite of what my console says\n",
      "@AskPlayStation I join Ps plus with the Fifa 18 points but I didn’t get the points !!?\n",
      "@AskPlayStation i have lost my sony offical wireless stereo headset 2.0 adapter,is there anyway i could get a new adapter sent to me?\n",
      "@AskPlayStation Trying to  but nba 2k18 with paypal but it keeps not letting me purchase. what do i do?\n",
      "@AskPlayStation My account gotten took can yall get it the gamer tag is TalibanKelo508\n",
      "@askplaystation - I have an issue with marvel vs capcom dlc. I would like a refund . How do I go about it ?\n",
      "@AskPlayStation my ps4 software is stuck on 5.00 but i can still play online, i've been trying to update it to 5.01 but everytime it says the file is corrupted i've tried deleting and retrying, safe mode, restarting my ps4 and still i get file is corrupted.\n",
      "@AskPlayStation only tried with one game but I also can’t access netflix or my web browser.. my internet connection is working fine throughout the house\n",
      "@AskPlayStation still not working\n",
      "@AskPlayStation still not working\n",
      "@AskPlayStation efeab30c\n",
      "@AskPlayStation is PSN down? can’t log into my account\n",
      "@AskPlayStation Shareplay not working today (yesterday np). Says game's not available in your country or region. We're in same city? (1/2)\n",
      "@AskPlayStation Hi everyone I can't join to playstation network after 3 day __EMOJI__face_with_steam_from_nose __EMOJI__face_with_steam_from_nose\n",
      "@AskPlayStation Hi&amp;thanks for kindness and support my issue was about my ISP.\n",
      "@AskPlayStation Thank you __EMOJI__sparkling_heartyou are awesome __EMOJI__sparkling_heart\n",
      "@AskPlayStation I redeemed a VC code for nba 2k18 that I got from Best Buy. It said it was successful but I didn’t get the VC\n",
      "@AskPlayStation I sent a question.  Can you guys answer? Thanks\n",
      "@AskPlayStation My account has been temporarily suspended, and I was wondering why but I have not been emailed yet???\n",
      "@AskPlayStation When we Change our online id ???!!!\n",
      "@AskPlayStation Is there a way to get a psn account unbanned\n",
      "@AskPlayStation my redeem code DOSENT work  __EMOJI__loudly_crying_face\n",
      "@AskPlayStation I'm using a PS4 system\n",
      "@AskPlayStation I trying to download Qurare: Magic Library bit its saying page not found.\n",
      "@AskPlayStation Right now i have a controller and headset picking up my audio that i cannot find on my system\n",
      "@AskPlayStation Is it possible to create a hidden harddrive on ps4 which can be accessed remotely when the system is on?\n",
      "@AskPlayStation Any idea how I'd go about replacing the Audio cable that came with my PS Gold Headset?\n",
      "@AskPlayStation let us change our psn\n",
      "@AskPlayStation I purchased a game accidentally and I don't know how I'd be able to go about getting a refund for it\n",
      "@AskPlayStation hey, does the PlayStation slim supports 5Ghz?\n",
      "@AskPlayStation \n",
      "Hi\n",
      "Iam bught 50$ psn card and i lost 2\n",
      "Letter  now ihave acard and ican imagine him\n",
      "@AskPlayStation Iam do it\n",
      "@AskPlayStation That seems to have fixed the problem. Thank you so much.\n",
      "@AskPlayStation I can still get to the apps via the library folder but prefer the convenience of the home screen folder\n",
      "@AskPlayStation my media folder (netflix&amp; whatnot) has been moving down my home screen list and is now nowhere to be found despite using the apps. How do I get it back?\n",
      "@AskPlayStation thank you so much!\n",
      "@AskPlayStation Are online IDs permanent?\n",
      "@AskPlayStation when are you gonna announce the next months ps+ games?\n",
      "@AskPlayStation The PSN Store is \"undergoing maintenance\" and has been for over 12 hours\n",
      "@AskPlayStation does Netflix on PS4 Pro utilise HDR? The Netflix app on my TV has a HDR badge on it and looks better than my Pro app\n",
      "@AskPlayStation how am I able to preload cod ww2??\n",
      "@AskPlayStation I keep getting playstation error code ce-33992-6 tried restarting ps and router still nothing  __EMOJI__weary_facejust want to play overwatch  __EMOJI__loudly_crying_face\n",
      "@AskPlayStation But i didnt get email\n",
      "@AskPlayStation i get error ws-37338-4 when i try to log in?\n",
      "@AskPlayStation Done. Thanks\n",
      "@AskPlayStation everything is in order, still no email received, it has been more than 2 weeks. do you have a support email? can't find anywhere.\n",
      "@AskPlayStation hi, who do i email regarding my horizon platinum theme? it has been quite a while since i platinumed the game but i haven't received any email yet\n",
      "@AskPlayStation is psn down\n",
      "@AskPlayStation i tested it and it works with all games i've played.\n",
      "@AskPlayStation will this erase my game data if i restore default settings?\n",
      "@AskPlayStation thank you for your help!\n",
      "@AskPlayStation no, during gameplay, the screen freezes completely and there's no audio. it happens about 2 hours into playing a game.\n",
      "@AskPlayStation hi, my playstation 4 freezes everytime i play a game. i've tried everything, i don't know how to fix it, what do i do?\n",
      "@AskPlayStation It's okay now, the e-mail just took an eternity to arrive. Thanks anyway !\n",
      "@AskPlayStation I'm trying to create an account but I still haven't received the verifying e-mail (no inbox, no spam). Help.\n",
      "@AskPlayStation hi I bought psn off the Ps store for £49.99 which come with 1050 FIFA points but I haven't received the FIFA points?\n",
      "@AskPlayStation I am trying to download WW2 and it keeps telling me my card is invalid. Same card I've used to buy 2 games digitally with\n",
      "@AskPlayStation i was over charged for an item and i didn't notice until i clicked buy. Can you dm me for more details\n",
      "@AskPlayStation Can we get a remake of war of the monsters? fund a remake for real\n",
      "@AskPlayStation\n",
      "@AskPlayStation The dlc shows like its for ps3, when its for ps4. I got the bundle from the ps4 store, and when i log to psn it shows download for ps3 auto\n",
      "@AskPlayStation Hi, can you update PS4 PRO TO RECORD GAMEPLAYS IN 4K?\n",
      "@AskPlayStation bought 1050 fifa points in a bundle with 12 mounth PS Plus. Havent received the fifa points. This was at 16:00 (gt+1)\n",
      "@AskPlayStation hello. I purchased the gta v bundle ps4 and reset my ps4 and now I don't have my gta v. Who do I contact to restore it\n",
      "@AskPlayStation I need help with a purchase of a dlc that doesn't want to download or a refund.\n",
      "@AskPlayStation shouldnt we be able to pre-load CODWWII at the time being? But how\n",
      "@AskPlayStation I bought psn for 12 months but I didn't get my fifa points\n",
      "@AskPlayStation when I loaded my ps4 everything is green is this a trick? #HappyHallowen URL_POSITION\n",
      "@AskPlayStation I’m getting no audio at all. I already restarted my PS4 twice already?? #help\n",
      "@AskPlayStation I’m having hard time to change my PS4 profile cover. Is there another way to change it?\n",
      "@AskPlayStation Through the console. There’s no error. I just don’t have a better option to change cover like I do with profile picture through the app.\n",
      "@AskPlayStation I’ll try it later\n",
      "@AskPlayStation why does my PS4 turn off by itself  __EMOJI__person_facepalming __EMOJI__medium-dark_skin_tone‍ __EMOJI__male_sign️\n",
      "@AskPlayStation I used my credit card yesterday just fine, today it says my card isnt valid. Tried using another cc and PayPal. Fix for bug?\n",
      "@AskPlayStation I can’t log into Playstation network\n",
      "@AskPlayStation Is season pass going to be $50 after the release of COD: WW2 or will it stay at $40?\n"
     ]
    }
   ],
   "source": [
    "for column in data:\n",
    "    for i in range(len(data[column])):\n",
    "        print(data[column][i])\n",
    "        if(i == 100):\n",
    "            break\n",
    "    break"
   ]
  },
  {
   "cell_type": "code",
   "execution_count": 14,
   "metadata": {},
   "outputs": [],
   "source": [
    "data.to_csv('dataset/ask_play_station_preprocessed.csv', index=False)"
   ]
  },
  {
   "cell_type": "code",
   "execution_count": null,
   "metadata": {},
   "outputs": [],
   "source": []
  }
 ],
 "metadata": {
  "kernelspec": {
   "display_name": "Python 3 (ipykernel)",
   "language": "python",
   "name": "python3"
  },
  "language_info": {
   "codemirror_mode": {
    "name": "ipython",
    "version": 3
   },
   "file_extension": ".py",
   "mimetype": "text/x-python",
   "name": "python",
   "nbconvert_exporter": "python",
   "pygments_lexer": "ipython3",
   "version": "3.10.4"
  }
 },
 "nbformat": 4,
 "nbformat_minor": 2
}
