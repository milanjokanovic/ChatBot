{
 "cells": [
  {
   "cell_type": "code",
   "execution_count": 1,
   "metadata": {},
   "outputs": [],
   "source": [
    "import re\n",
    "import pickle\n",
    "import pandas as pd"
   ]
  },
  {
   "cell_type": "code",
   "execution_count": 2,
   "metadata": {},
   "outputs": [],
   "source": [
    "data = pd.read_csv('dataset/mixed_data_preprocessed.csv')"
   ]
  },
  {
   "cell_type": "code",
   "execution_count": 3,
   "metadata": {},
   "outputs": [],
   "source": [
    "with open('Emoji_Dict.p', 'rb') as fp:\n",
    "    Emoji_Dict = pickle.load(fp)\n",
    "Emoji_Dict = {v: k for k, v in Emoji_Dict.items()}"
   ]
  },
  {
   "cell_type": "code",
   "execution_count": 4,
   "metadata": {},
   "outputs": [],
   "source": [
    "def convert_emojis_to_word(text):\n",
    "    for emot in Emoji_Dict:\n",
    "        text = re.sub(r'('+emot+')', \" __EMOJI__\" + \"_\".join(Emoji_Dict[emot].replace(\",\",\"\").replace(\":\",\"\").split()), text)\n",
    "    return text"
   ]
  },
  {
   "cell_type": "code",
   "execution_count": 5,
   "metadata": {},
   "outputs": [],
   "source": [
    "def PreprocessEmojis():\n",
    "    pom = 0\n",
    "    for index, row in data.iterrows():\n",
    "        pom+=1\n",
    "        if(pom%1000 == 0):\n",
    "            print(\"checkpoint\"+str(pom))\n",
    "        row[0] = convert_emojis_to_word(str(row[0]))\n",
    "        row[1] = convert_emojis_to_word(str(row[1]))"
   ]
  },
  {
   "cell_type": "code",
   "execution_count": 6,
   "metadata": {},
   "outputs": [
    {
     "name": "stdout",
     "output_type": "stream",
     "text": [
      "checkpoint1000\n",
      "checkpoint2000\n",
      "checkpoint3000\n",
      "checkpoint4000\n",
      "checkpoint5000\n",
      "checkpoint6000\n",
      "checkpoint7000\n",
      "checkpoint8000\n",
      "checkpoint9000\n",
      "checkpoint10000\n",
      "checkpoint11000\n",
      "checkpoint12000\n",
      "checkpoint13000\n",
      "checkpoint14000\n",
      "checkpoint15000\n",
      "checkpoint16000\n",
      "checkpoint17000\n",
      "checkpoint18000\n",
      "checkpoint19000\n"
     ]
    }
   ],
   "source": [
    "PreprocessEmojis()"
   ]
  },
  {
   "cell_type": "code",
   "execution_count": 7,
   "metadata": {},
   "outputs": [
    {
     "name": "stdout",
     "output_type": "stream",
     "text": [
      "Way to drop the ball on customer service @115821 so pissed right now!\n",
      "@AmazonHelp 3 different people have given 3 different answers and I still don't have my order. Says delivered Saturday, was not, I was home all day\n",
      "@115823 I want my amazon payments account CLOSED.  dm me please.\n",
      "@115828 How about you guys figure out my Xbox One X project Scorpio edition first. No expected delivery or shipping date and it’s only a week away\n",
      "@AmazonHelp @115826 Yeah this is crazy we’re less than a week away and still no Shipping Information on something that we Pre-ordered back in August\n",
      "@115830 my package was ‘accidentally’ opened.. 4 items missing worth £97.\n",
      "You need better delivery drivers!! URL_POSITION\n",
      "@115821 @AmazonHelp why is my order at my local courier for the last 6 days and still hasn’t been delivered to me?? Over 1 week late  __EMOJI__pouting_face\n",
      "Thanks for the style advice, @115833 look ...I think? #Halloween2017 #flamingo URL_POSITION\n",
      "@AmazonHelp Hi ready for some help\n",
      "@AmazonHelp Is the Echo Show no longer supported?\n",
      "Bought an @115821 Echo Show and it won’t recognize a single @AmazonHelp account in our household. WTF, guys?\n",
      ".@AmazonHelp Item has not been delivered but tracking says it was handed to me over an hour ago... 2nd time this has happened. Sort it out URL_POSITION\n",
      "@AmazonHelp That page is useless - doesn’t allow me to state it hasn’t been delivered; only tells me it has! How can you sort this out?\n",
      "In response to your @115830 packing video, this packaging was for a 2ft washing line pole @115837 URL_POSITION\n",
      "@AmazonHelp Is it possible to prevent AMZL from delivering my packages moving forward? Stuff is either lost/stolen/broken EVERY time.\n",
      "@AmazonHelp I don't want a form to fill out that logs a response no one reads. I want to prevent AMZL from touching my stuff. Possible, or no?\n",
      "@AmazonHelp Already started the return. UPS gets it from my doorstep tomorrow. Order 111-5014070-4118645\n",
      "@AmazonHelp Already handled, just venting. It was a pretty big bummer.\n",
      "@115821, it’d be nice if the book I waited 4 months for wasn’t damaged inside of an undented box. #twinpeaks #twin… URL_POSITION URL_POSITION\n",
      "@AmazonHelp delivery I paid for today,didn’t arrive.why not?i paid enough for it.where is it??I’m unhappy.refund the delivery charge\n",
      "Anna Inspired in idea lab at school to be @115821 package being shipped to Narnia! \"Amazon can go anywhere\" according to Anna. URL_POSITION\n",
      "@115845 They sent the feckin' order to Germany! Some dozy driver is looking for an address in the wrong country! I'm so done with Amazon!\n",
      "@115847 @115821 Yeah idk the shipping company and it says “mike Ziemer” signed for it in the mail room at our building lol\n",
      "@115821  URL_POSITION\n",
      "@AmazonHelp Already contacted 3-4 times in the last month. But all I got was assurance that matter is escalated &amp; new status will be provided in 1 day!\n",
      "@AmazonHelp Details sent. Please check.\n",
      "@115850 @115821 @AmazonHelp @115851 Order# 3632693-6196346. You couldn't deliver EVEN AFTER A MONTH. You should be ashamed of yourself.\n",
      "@AmazonHelp since when you stop giving 20% off videogame pre-orders (amazon prime members) im confused? why?\n",
      "Just pulled another #Amazon delivery out of the bushes since the #amzl people can’t walk the extra 2 ft to my door. So tired of this.\n",
      "@115821 my order hasn’t arrived (it was due 14th October). Can you help?\n",
      "@AmazonHelp but I can’t find the options to cancel or re-order?\n",
      "@AmazonHelp I called customer service and was told my membership wouldn't be renewed. I was just charged today. How do I get a refund? URL_POSITION\n",
      "@AmazonHelp Thats the thing I told customer service. I created a new email address for the Prime trial and forgot it. What can I do so I'm not charged?\n",
      "@AmazonHelp You have to log in. I don't remember the email address I used. Can you look up the account by my bank information?\n",
      "@AmazonHelp I have tried. It’s not allowing me to access my account to cancel my membership, I haven’t even used prime in almost 3 months.\n",
      "@115821 being charged for amazon prime &amp; when I go to cancel it, it’s saying I’m not a member __EMOJI__angry_face __EMOJI__angry_face __EMOJI__angry_face\n",
      "@AmazonHelp where can I chat with a support member for a false charge\n",
      "@AmazonHelp if I add another adult to my Amazon household (with their own account) can they see my wishlists/photos/order history?\n",
      "Seriously @115821? I order 6 identical washing up bowls and they are all being dispatched as separate orders? My phone is buzzing non-stop!\n",
      "I ordered some parts of my costume late, but my amazon has a map of the driver and they're like, 6 houses away.\n",
      "@AmazonHelp My package just got here. All good, thank you!\n",
      "@116090 Saying I preordered to early, terrible customer service. Won’t renew prime if this isn’t fixed.\n",
      "@AmazonHelp Never got the beta and now I’m being told I won’t get ANY of the other stuff. Including Last Jedi content and or bonus classes. Anything! :(\n",
      "@AmazonHelp Deluxe edition on September 16th. It definitely had the pre orders on the profile because that’s why I ordered. Also why I paid for Prime..\n",
      "@AmazonHelp Star Wars Battlefront 2 Elite Trooper Deluxe Edition Playstation 4 URL_POSITION preorder info is in description. Thanks for help\n",
      "Two fake items in one day. Time to cancel my Amazon Prime membership. @AmazonHelp\n",
      "@AmazonHelp Fulfilled by Amazon. It’s quite disturbing you’re selling counterfeit items, and can’t be trusted.\n",
      "@115821 please spend time &amp; money to fix your app. Constant issues with it.\n",
      "@AmazonHelp I have. No luck.\n",
      "My Kindle not working properly is breaking my heart!  __EMOJI__weary_face __EMOJI__broken_heart\n",
      "@AmazonHelp It’s not allowing me to update it to register my new amazon account. I read I’d have to do so manually. Thx 4 response.\n",
      "@AmazonHelp that is not my apartment!!!!!!! This is the sending time!!!! Where is my package!!!!!!!!!! URL_POSITION\n",
      "@AmazonHelp that is not my apartment!!!!!!! This is the sending time!!!! Where is my package!!!!!!!!!! URL_POSITION\n",
      "@116096 Truly. This is the strangest vampire book I’ve ever received.  __EMOJI__face_with_stuck-out_tongue_&_winking_eye cc @43760 @AmazonHelp #misship URL_POSITION\n",
      "@AmazonHelp Wasn't tracked as sent via Royal Mail. I've emailed the seller.\n",
      "@AmazonHelp Just now, don't use Amazon much so didn't know the process if you don't receive an item\n",
      "@AmazonHelp Yeah I sent you a DM too. Had an email saying when it had been dispatched but nothing since.\n",
      "@AmazonHelp Hi, I ordered an item on 18 Oct which said it would be delivered by 20 Oct and I still haven't received it. Can you help? Thanks\n",
      "@116316 Hi. How can I restrict results to German language books, while searching titles on amazon.de?\n",
      "@AmazonHelp I made a same day ship mid Monday and it said it would deliver that day. It didn’t. Today it still says out for delivery, still no show.\n",
      "@AmazonHelp I allowed it well past 8 PM. I was never notified about any other delays\n",
      "@AmazonHelp hello, I’m having an issue with a same day ship order.  Can you help me?\n",
      "Erm @AmazonHelp I bought this item for £5.99... why am I only getting £1.67 back?! URL_POSITION\n",
      "@AmazonHelp Where is my order? URL_POSITION\n",
      "Hey @115821, why is your Prime 2-day delivery not arriving until Monday? Is there a holiday I don't know about?\n",
      "@AmazonHelp yes i did,but amazonuk is not doing the refund process.if they do it .i will get the money\n",
      "@AmazonHelp i mailed amazonuk so many time. but i havent got any progress.customer care just saying thats in the billing section.no i havent got refund\n",
      "@AmazonHelp and redund issued on 13th URL_POSITION no sing of my money and amazonuk just saying its in the billing department.no signof devlp\n",
      "@115830 amazonuk took money without any URL_POSITION they are not giving it back nor giving clear statement of my refund proces\n",
      "the @amazonhelp queue is clueless on Amazon Household\n",
      "@AmazonHelp I've been in the prime queue, kindle queue, the echo queue, and now on hold again.\n",
      "@AmazonHelp Well ok but @116324 said it’s been dlvd so I can’t see how they will bother to deliver it now! I think they have washed their hands of it\n",
      "@116324 not dlvd after 1 wk. U lied 2 @AmazonHelp saying left in safe place on Fri. Yesterday u said wld be dlvd 24-48hrs. Sort this now!\n",
      "@AmazonHelp No on the card. It works only half the time. Yes on USPS. They say my delivery person won’t deliver anything over 30 lbs. just sends it back\n",
      "@AmazonHelp Want to speak to someone at corp to address these issues.\n",
      "@AmazonHelp Multiple calls to call amazon call center with zero resolution and never a promised call back.\n",
      "Rapidly losing faith in @115821 and their #esl CS ability to solve problems. No resolutions or follow ups.\n",
      "just noticed I paid £4.95 delivery on Amazon simply because I did not select the FREE delivery option, after I spent enough to qualify... what a RIP OFF, why is it not free automatically when qualifying @115830\n",
      "@AmazonHelp There was only one costing a lot more than £20 and  FBA -stating eligibility !\n",
      "@115830 Why do you say that an article is eligible for free delivery then offer nothing but standard option at £4.75?\n",
      "@AmazonHelp i reset my password 3 times and it still says incorrect you gotta be shitting me\n",
      "@AmazonHelp All of them\n",
      "@AmazonHelp um, my account was locked as soon as I tried to login on desktop. I still haven’t received an email on how to get it unlocked...\n",
      "@AmazonHelp I can’t log in because it’s locked.\n",
      "Thanks @116090 for ruining #Halloween - still no sign of the costume I ordered in Sept. Guess Rosie will just have to sit this one out. URL_POSITION\n",
      "@116618 why your videos on Germany breaks too?\n",
      "@AmazonHelp Many times, but still failing, and it happen with some show\n",
      "@AmazonHelp Sadly yes\n",
      "@AmazonHelp Mac book pro, with Chrome\n",
      "@AmazonHelp Mac book pro, with Chrome\n",
      "@AmazonHelp I need to change the language of my account to be able to get support, which I don't have the time to do, there's any other way to contact?\n",
      "@115830 you pay for prime expecting next day delivery. Then receive 2 emails half hr apart 'failed delivery' but your sitting at home  __EMOJI__pouting_face\n",
      "So sad @AmazonHelp @115830 ruined his FIRST Halloween by failing to deliver his tiny costume 2 days running #whypayprime? #amazon #prime\n",
      "@115830  website impossible to navigate - all I want to do is email about a faulty item - 20 min going round in circles. Infuriating  __EMOJI__pouting_face __EMOJI__pouting_face __EMOJI__pouting_face\n",
      "@115833, hi, I've bought an Amazon echo for for a present do they also need an Amazon alexa?\n",
      "@115821 Apparently if you preorder something then move and update your address the preorder doesn't update automagically.  #lessonlearned?\n",
      "@AmazonHelp already tried help by mail and still problem persist, please close my account and don't want to be a customer anymore URL_POSITION\n",
      "@AmazonHelp how is Amazon going to solve this? By mail, text, call, customer phone service, no one is able to help me URL_POSITION\n",
      "@AmazonHelp no luck it keeps asking for code witch is not sending to my phone can Amazon eliminate the 2 step method, this is so frustrating\n",
      "@AmazonHelp no luck on receiving the code by text or call, will I loose my account, yesterday a phone representative tried to help already URL_POSITION\n",
      "@AmazonHelp USAs Amazon. Com\n"
     ]
    }
   ],
   "source": [
    "for column in data:\n",
    "    for i in range(len(data[column])):\n",
    "        print(data[column][i])\n",
    "        if(i == 100):\n",
    "            break\n",
    "    break"
   ]
  },
  {
   "cell_type": "code",
   "execution_count": 8,
   "metadata": {},
   "outputs": [],
   "source": [
    "data.to_csv('dataset/mixed_data_preprocessed_emoji.csv', index=False)"
   ]
  },
  {
   "cell_type": "code",
   "execution_count": null,
   "metadata": {},
   "outputs": [],
   "source": []
  }
 ],
 "metadata": {
  "kernelspec": {
   "display_name": "Python 3 (ipykernel)",
   "language": "python",
   "name": "python3"
  },
  "language_info": {
   "codemirror_mode": {
    "name": "ipython",
    "version": 3
   },
   "file_extension": ".py",
   "mimetype": "text/x-python",
   "name": "python",
   "nbconvert_exporter": "python",
   "pygments_lexer": "ipython3",
   "version": "3.8.6"
  }
 },
 "nbformat": 4,
 "nbformat_minor": 2
}
